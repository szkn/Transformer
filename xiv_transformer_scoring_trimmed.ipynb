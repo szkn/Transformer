{
 "cells": [
  {
   "cell_type": "markdown",
   "metadata": {
    "id": "zyRQwYrEYTpv"
   },
   "source": [
    "# 修士論文用\n",
    "# Transformer モデルを用いてスコアリングを行う．\n",
    "## データのトリミングを行い，意味のある部分のみを抜き出すアルゴリズムを活用して生成したデータを用いて解析を行う"
   ]
  },
  {
   "cell_type": "code",
   "execution_count": 770,
   "metadata": {
    "executionInfo": {
     "elapsed": 843,
     "status": "ok",
     "timestamp": 1636987406075,
     "user": {
      "displayName": "Kento Suzuki",
      "photoUrl": "https://lh3.googleusercontent.com/a/default-user=s64",
      "userId": "16345288529127918743"
     },
     "user_tz": -540
    },
    "id": "dO5GxI7RzXIc"
   },
   "outputs": [],
   "source": [
    "import os\n",
    "import sys\n",
    "import csv\n",
    "import math\n",
    "import json\n",
    "import glob\n",
    "import random\n",
    "import numpy as np\n",
    "import pandas as pd\n",
    "from tqdm import tqdm\n",
    "import matplotlib.pyplot as plt\n",
    "from scipy import interpolate\n",
    "from sklearn.model_selection import train_test_split\n",
    "\n",
    "import torch\n",
    "import torch.nn as nn\n",
    "import torch.nn.functional as F\n",
    "import torch.optim as optim\n",
    "\n",
    "%matplotlib inline\n",
    "\n",
    "# sys.path.append(os.path.abspath(\"..\"))\n",
    "# import scripts.compensate\n",
    "# import scripts.kinectImg2video\n",
    "# from scripts.conpemsate_suppresser import *\n",
    "# from scripts.ground_angle_analysis import ground_shoulder_angle_analyzer\n",
    "# import scripts.ground_angle_analysis"
   ]
  },
  {
   "cell_type": "code",
   "execution_count": 771,
   "metadata": {},
   "outputs": [],
   "source": [
    "# Setup seeds\n",
    "torch.manual_seed(1234)\n",
    "np.random.seed(1234)\n",
    "random.seed(1234)"
   ]
  },
  {
   "cell_type": "code",
   "execution_count": 772,
   "metadata": {},
   "outputs": [],
   "source": [
    "# 日付の追加\n",
    "df_annotate = pd.read_excel(\"/Users/kento/kuhp/experiment/for_HCI/annotate_dataset.xlsx\")\n",
    "df_annotate['date'] = pd.to_datetime(df_annotate['date'], format='%Y%m%d%H%M%S')"
   ]
  },
  {
   "cell_type": "code",
   "execution_count": 773,
   "metadata": {},
   "outputs": [],
   "source": [
    "# DataSetの呼び出し\n",
    "df_data = pd.read_csv(\"/Users/kento/kuhp/experiment/bigdata.csv\")\n",
    "df_data['date'] = pd.to_datetime(df_data['date'], format='%Y-%m-%d-%H-%M-%S')"
   ]
  },
  {
   "cell_type": "code",
   "execution_count": 774,
   "metadata": {},
   "outputs": [
    {
     "data": {
      "text/html": [
       "<div>\n",
       "<style scoped>\n",
       "    .dataframe tbody tr th:only-of-type {\n",
       "        vertical-align: middle;\n",
       "    }\n",
       "\n",
       "    .dataframe tbody tr th {\n",
       "        vertical-align: top;\n",
       "    }\n",
       "\n",
       "    .dataframe thead th {\n",
       "        text-align: right;\n",
       "    }\n",
       "</style>\n",
       "<table border=\"1\" class=\"dataframe\">\n",
       "  <thead>\n",
       "    <tr style=\"text-align: right;\">\n",
       "      <th></th>\n",
       "      <th>date</th>\n",
       "      <th>subject_id</th>\n",
       "      <th>task_id</th>\n",
       "      <th>point</th>\n",
       "      <th>body</th>\n",
       "      <th>shoulder</th>\n",
       "      <th>flag_usage</th>\n",
       "    </tr>\n",
       "  </thead>\n",
       "  <tbody>\n",
       "    <tr>\n",
       "      <th>0</th>\n",
       "      <td>2021-12-06 18:56:58</td>\n",
       "      <td>1</td>\n",
       "      <td>1</td>\n",
       "      <td>3</td>\n",
       "      <td>0</td>\n",
       "      <td>0</td>\n",
       "      <td>1</td>\n",
       "    </tr>\n",
       "    <tr>\n",
       "      <th>1</th>\n",
       "      <td>2021-12-06 18:56:41</td>\n",
       "      <td>1</td>\n",
       "      <td>1</td>\n",
       "      <td>3</td>\n",
       "      <td>0</td>\n",
       "      <td>0</td>\n",
       "      <td>1</td>\n",
       "    </tr>\n",
       "    <tr>\n",
       "      <th>2</th>\n",
       "      <td>2021-12-08 12:25:56</td>\n",
       "      <td>1</td>\n",
       "      <td>1</td>\n",
       "      <td>3</td>\n",
       "      <td>0</td>\n",
       "      <td>0</td>\n",
       "      <td>1</td>\n",
       "    </tr>\n",
       "    <tr>\n",
       "      <th>3</th>\n",
       "      <td>2021-12-06 18:56:20</td>\n",
       "      <td>2</td>\n",
       "      <td>1</td>\n",
       "      <td>3</td>\n",
       "      <td>0</td>\n",
       "      <td>0</td>\n",
       "      <td>1</td>\n",
       "    </tr>\n",
       "    <tr>\n",
       "      <th>4</th>\n",
       "      <td>2021-12-08 12:26:40</td>\n",
       "      <td>2</td>\n",
       "      <td>1</td>\n",
       "      <td>3</td>\n",
       "      <td>0</td>\n",
       "      <td>0</td>\n",
       "      <td>1</td>\n",
       "    </tr>\n",
       "    <tr>\n",
       "      <th>5</th>\n",
       "      <td>2021-12-08 14:14:54</td>\n",
       "      <td>2</td>\n",
       "      <td>1</td>\n",
       "      <td>3</td>\n",
       "      <td>0</td>\n",
       "      <td>0</td>\n",
       "      <td>1</td>\n",
       "    </tr>\n",
       "    <tr>\n",
       "      <th>6</th>\n",
       "      <td>2021-12-08 14:15:09</td>\n",
       "      <td>3</td>\n",
       "      <td>1</td>\n",
       "      <td>3</td>\n",
       "      <td>0</td>\n",
       "      <td>0</td>\n",
       "      <td>1</td>\n",
       "    </tr>\n",
       "    <tr>\n",
       "      <th>7</th>\n",
       "      <td>2021-12-08 12:27:30</td>\n",
       "      <td>3</td>\n",
       "      <td>1</td>\n",
       "      <td>3</td>\n",
       "      <td>0</td>\n",
       "      <td>0</td>\n",
       "      <td>1</td>\n",
       "    </tr>\n",
       "    <tr>\n",
       "      <th>8</th>\n",
       "      <td>2021-12-08 14:15:26</td>\n",
       "      <td>3</td>\n",
       "      <td>1</td>\n",
       "      <td>3</td>\n",
       "      <td>0</td>\n",
       "      <td>0</td>\n",
       "      <td>1</td>\n",
       "    </tr>\n",
       "    <tr>\n",
       "      <th>9</th>\n",
       "      <td>2021-12-06 18:58:24</td>\n",
       "      <td>1</td>\n",
       "      <td>1</td>\n",
       "      <td>2A</td>\n",
       "      <td>0</td>\n",
       "      <td>0</td>\n",
       "      <td>1</td>\n",
       "    </tr>\n",
       "    <tr>\n",
       "      <th>10</th>\n",
       "      <td>2021-12-08 14:15:48</td>\n",
       "      <td>1</td>\n",
       "      <td>1</td>\n",
       "      <td>2A</td>\n",
       "      <td>0</td>\n",
       "      <td>0</td>\n",
       "      <td>1</td>\n",
       "    </tr>\n",
       "    <tr>\n",
       "      <th>11</th>\n",
       "      <td>2021-12-08 14:16:04</td>\n",
       "      <td>1</td>\n",
       "      <td>1</td>\n",
       "      <td>2A</td>\n",
       "      <td>0</td>\n",
       "      <td>0</td>\n",
       "      <td>1</td>\n",
       "    </tr>\n",
       "    <tr>\n",
       "      <th>12</th>\n",
       "      <td>2021-12-08 12:28:11</td>\n",
       "      <td>2</td>\n",
       "      <td>1</td>\n",
       "      <td>2A</td>\n",
       "      <td>0</td>\n",
       "      <td>0</td>\n",
       "      <td>1</td>\n",
       "    </tr>\n",
       "    <tr>\n",
       "      <th>13</th>\n",
       "      <td>2021-12-06 18:57:30</td>\n",
       "      <td>2</td>\n",
       "      <td>1</td>\n",
       "      <td>2A</td>\n",
       "      <td>0</td>\n",
       "      <td>0</td>\n",
       "      <td>1</td>\n",
       "    </tr>\n",
       "    <tr>\n",
       "      <th>14</th>\n",
       "      <td>2021-12-08 12:28:28</td>\n",
       "      <td>3</td>\n",
       "      <td>1</td>\n",
       "      <td>2A</td>\n",
       "      <td>0</td>\n",
       "      <td>0</td>\n",
       "      <td>1</td>\n",
       "    </tr>\n",
       "    <tr>\n",
       "      <th>15</th>\n",
       "      <td>2021-12-08 12:27:52</td>\n",
       "      <td>3</td>\n",
       "      <td>1</td>\n",
       "      <td>2A</td>\n",
       "      <td>0</td>\n",
       "      <td>0</td>\n",
       "      <td>1</td>\n",
       "    </tr>\n",
       "    <tr>\n",
       "      <th>16</th>\n",
       "      <td>2021-12-06 18:57:56</td>\n",
       "      <td>3</td>\n",
       "      <td>1</td>\n",
       "      <td>2A</td>\n",
       "      <td>0</td>\n",
       "      <td>0</td>\n",
       "      <td>1</td>\n",
       "    </tr>\n",
       "    <tr>\n",
       "      <th>17</th>\n",
       "      <td>2021-12-08 14:16:48</td>\n",
       "      <td>1</td>\n",
       "      <td>1</td>\n",
       "      <td>2B</td>\n",
       "      <td>0</td>\n",
       "      <td>0</td>\n",
       "      <td>1</td>\n",
       "    </tr>\n",
       "    <tr>\n",
       "      <th>18</th>\n",
       "      <td>2021-12-08 12:29:24</td>\n",
       "      <td>1</td>\n",
       "      <td>1</td>\n",
       "      <td>2B</td>\n",
       "      <td>0</td>\n",
       "      <td>0</td>\n",
       "      <td>1</td>\n",
       "    </tr>\n",
       "    <tr>\n",
       "      <th>19</th>\n",
       "      <td>2021-12-08 12:29:44</td>\n",
       "      <td>1</td>\n",
       "      <td>1</td>\n",
       "      <td>2B</td>\n",
       "      <td>0</td>\n",
       "      <td>0</td>\n",
       "      <td>1</td>\n",
       "    </tr>\n",
       "    <tr>\n",
       "      <th>20</th>\n",
       "      <td>2021-12-06 18:59:31</td>\n",
       "      <td>2</td>\n",
       "      <td>1</td>\n",
       "      <td>2B</td>\n",
       "      <td>0</td>\n",
       "      <td>0</td>\n",
       "      <td>1</td>\n",
       "    </tr>\n",
       "    <tr>\n",
       "      <th>21</th>\n",
       "      <td>2021-12-06 18:59:04</td>\n",
       "      <td>2</td>\n",
       "      <td>1</td>\n",
       "      <td>2B</td>\n",
       "      <td>0</td>\n",
       "      <td>0</td>\n",
       "      <td>1</td>\n",
       "    </tr>\n",
       "    <tr>\n",
       "      <th>22</th>\n",
       "      <td>2021-12-08 14:16:26</td>\n",
       "      <td>2</td>\n",
       "      <td>1</td>\n",
       "      <td>2B</td>\n",
       "      <td>0</td>\n",
       "      <td>0</td>\n",
       "      <td>1</td>\n",
       "    </tr>\n",
       "    <tr>\n",
       "      <th>23</th>\n",
       "      <td>2021-12-08 14:17:09</td>\n",
       "      <td>3</td>\n",
       "      <td>1</td>\n",
       "      <td>2B</td>\n",
       "      <td>0</td>\n",
       "      <td>0</td>\n",
       "      <td>1</td>\n",
       "    </tr>\n",
       "    <tr>\n",
       "      <th>24</th>\n",
       "      <td>2021-12-06 18:59:59</td>\n",
       "      <td>3</td>\n",
       "      <td>1</td>\n",
       "      <td>2B</td>\n",
       "      <td>0</td>\n",
       "      <td>0</td>\n",
       "      <td>1</td>\n",
       "    </tr>\n",
       "    <tr>\n",
       "      <th>25</th>\n",
       "      <td>2021-12-08 12:29:04</td>\n",
       "      <td>3</td>\n",
       "      <td>1</td>\n",
       "      <td>2B</td>\n",
       "      <td>0</td>\n",
       "      <td>0</td>\n",
       "      <td>1</td>\n",
       "    </tr>\n",
       "    <tr>\n",
       "      <th>26</th>\n",
       "      <td>2021-12-06 19:00:33</td>\n",
       "      <td>1</td>\n",
       "      <td>1</td>\n",
       "      <td>2C</td>\n",
       "      <td>0</td>\n",
       "      <td>0</td>\n",
       "      <td>1</td>\n",
       "    </tr>\n",
       "    <tr>\n",
       "      <th>27</th>\n",
       "      <td>2021-12-06 19:02:26</td>\n",
       "      <td>1</td>\n",
       "      <td>1</td>\n",
       "      <td>2C</td>\n",
       "      <td>0</td>\n",
       "      <td>0</td>\n",
       "      <td>1</td>\n",
       "    </tr>\n",
       "    <tr>\n",
       "      <th>28</th>\n",
       "      <td>2021-12-08 12:30:22</td>\n",
       "      <td>1</td>\n",
       "      <td>1</td>\n",
       "      <td>2C</td>\n",
       "      <td>0</td>\n",
       "      <td>0</td>\n",
       "      <td>1</td>\n",
       "    </tr>\n",
       "    <tr>\n",
       "      <th>29</th>\n",
       "      <td>2021-12-06 19:03:36</td>\n",
       "      <td>2</td>\n",
       "      <td>1</td>\n",
       "      <td>2C</td>\n",
       "      <td>0</td>\n",
       "      <td>0</td>\n",
       "      <td>1</td>\n",
       "    </tr>\n",
       "    <tr>\n",
       "      <th>30</th>\n",
       "      <td>2021-12-08 14:18:09</td>\n",
       "      <td>2</td>\n",
       "      <td>1</td>\n",
       "      <td>2C</td>\n",
       "      <td>0</td>\n",
       "      <td>0</td>\n",
       "      <td>1</td>\n",
       "    </tr>\n",
       "    <tr>\n",
       "      <th>31</th>\n",
       "      <td>2021-12-08 12:30:59</td>\n",
       "      <td>2</td>\n",
       "      <td>1</td>\n",
       "      <td>2C</td>\n",
       "      <td>0</td>\n",
       "      <td>0</td>\n",
       "      <td>1</td>\n",
       "    </tr>\n",
       "    <tr>\n",
       "      <th>32</th>\n",
       "      <td>2021-12-08 14:17:50</td>\n",
       "      <td>3</td>\n",
       "      <td>1</td>\n",
       "      <td>2C</td>\n",
       "      <td>0</td>\n",
       "      <td>0</td>\n",
       "      <td>1</td>\n",
       "    </tr>\n",
       "    <tr>\n",
       "      <th>33</th>\n",
       "      <td>2021-12-08 12:30:39</td>\n",
       "      <td>3</td>\n",
       "      <td>1</td>\n",
       "      <td>2C</td>\n",
       "      <td>0</td>\n",
       "      <td>0</td>\n",
       "      <td>1</td>\n",
       "    </tr>\n",
       "    <tr>\n",
       "      <th>34</th>\n",
       "      <td>2021-12-08 14:17:30</td>\n",
       "      <td>3</td>\n",
       "      <td>1</td>\n",
       "      <td>2C</td>\n",
       "      <td>0</td>\n",
       "      <td>0</td>\n",
       "      <td>1</td>\n",
       "    </tr>\n",
       "  </tbody>\n",
       "</table>\n",
       "</div>"
      ],
      "text/plain": [
       "                  date  subject_id  task_id point  body  shoulder  flag_usage\n",
       "0  2021-12-06 18:56:58           1        1     3     0         0           1\n",
       "1  2021-12-06 18:56:41           1        1     3     0         0           1\n",
       "2  2021-12-08 12:25:56           1        1     3     0         0           1\n",
       "3  2021-12-06 18:56:20           2        1     3     0         0           1\n",
       "4  2021-12-08 12:26:40           2        1     3     0         0           1\n",
       "5  2021-12-08 14:14:54           2        1     3     0         0           1\n",
       "6  2021-12-08 14:15:09           3        1     3     0         0           1\n",
       "7  2021-12-08 12:27:30           3        1     3     0         0           1\n",
       "8  2021-12-08 14:15:26           3        1     3     0         0           1\n",
       "9  2021-12-06 18:58:24           1        1    2A     0         0           1\n",
       "10 2021-12-08 14:15:48           1        1    2A     0         0           1\n",
       "11 2021-12-08 14:16:04           1        1    2A     0         0           1\n",
       "12 2021-12-08 12:28:11           2        1    2A     0         0           1\n",
       "13 2021-12-06 18:57:30           2        1    2A     0         0           1\n",
       "14 2021-12-08 12:28:28           3        1    2A     0         0           1\n",
       "15 2021-12-08 12:27:52           3        1    2A     0         0           1\n",
       "16 2021-12-06 18:57:56           3        1    2A     0         0           1\n",
       "17 2021-12-08 14:16:48           1        1    2B     0         0           1\n",
       "18 2021-12-08 12:29:24           1        1    2B     0         0           1\n",
       "19 2021-12-08 12:29:44           1        1    2B     0         0           1\n",
       "20 2021-12-06 18:59:31           2        1    2B     0         0           1\n",
       "21 2021-12-06 18:59:04           2        1    2B     0         0           1\n",
       "22 2021-12-08 14:16:26           2        1    2B     0         0           1\n",
       "23 2021-12-08 14:17:09           3        1    2B     0         0           1\n",
       "24 2021-12-06 18:59:59           3        1    2B     0         0           1\n",
       "25 2021-12-08 12:29:04           3        1    2B     0         0           1\n",
       "26 2021-12-06 19:00:33           1        1    2C     0         0           1\n",
       "27 2021-12-06 19:02:26           1        1    2C     0         0           1\n",
       "28 2021-12-08 12:30:22           1        1    2C     0         0           1\n",
       "29 2021-12-06 19:03:36           2        1    2C     0         0           1\n",
       "30 2021-12-08 14:18:09           2        1    2C     0         0           1\n",
       "31 2021-12-08 12:30:59           2        1    2C     0         0           1\n",
       "32 2021-12-08 14:17:50           3        1    2C     0         0           1\n",
       "33 2021-12-08 12:30:39           3        1    2C     0         0           1\n",
       "34 2021-12-08 14:17:30           3        1    2C     0         0           1"
      ]
     },
     "execution_count": 774,
     "metadata": {},
     "output_type": "execute_result"
    }
   ],
   "source": [
    "df_annotate"
   ]
  },
  {
   "cell_type": "code",
   "execution_count": 775,
   "metadata": {
    "executionInfo": {
     "elapsed": 10,
     "status": "ok",
     "timestamp": 1636987406076,
     "user": {
      "displayName": "Kento Suzuki",
      "photoUrl": "https://lh3.googleusercontent.com/a/default-user=s64",
      "userId": "16345288529127918743"
     },
     "user_tz": -540
    },
    "id": "GZlVgJy1zXIc"
   },
   "outputs": [],
   "source": [
    "pd_merged = pd.merge(df_annotate, df_data, on='date', how='inner')\n",
    "pd_3 = pd_merged[pd_merged['point'] == 3]\n",
    "pd_2A = pd_merged[pd_merged['point'] == '2A']\n",
    "pd_2B = pd_merged[pd_merged['point'] == '2B']\n",
    "pd_2C = pd_merged[pd_merged['point'] == '2C']"
   ]
  },
  {
   "cell_type": "code",
   "execution_count": 776,
   "metadata": {},
   "outputs": [],
   "source": [
    "dataset = pd.merge(df_annotate, df_data, on='date', how='inner')\n",
    "dataset.loc[dataset['point'] == '3', 'score'] = 3\n",
    "dataset.loc[dataset['point'] == '2A', 'score'] = 2\n",
    "dataset.loc[dataset['point'] == '2B', 'score'] = 1\n",
    "dataset.loc[dataset['point'] == '2C', 'score'] = 0\n",
    "# dataset['score'] = dataset['score'].astype(int)"
   ]
  },
  {
   "cell_type": "code",
   "execution_count": 777,
   "metadata": {},
   "outputs": [
    {
     "name": "stderr",
     "output_type": "stream",
     "text": [
      "/var/folders/yt/fsd0dzhn23z2jcmc2hrkjcn00000gn/T/ipykernel_2289/1814983498.py:2: SettingWithCopyWarning: \n",
      "A value is trying to be set on a copy of a slice from a DataFrame.\n",
      "Try using .loc[row_indexer,col_indexer] = value instead\n",
      "\n",
      "See the caveats in the documentation: https://pandas.pydata.org/pandas-docs/stable/user_guide/indexing.html#returning-a-view-versus-a-copy\n",
      "  pd_3[\"score\"] = 3\n",
      "/var/folders/yt/fsd0dzhn23z2jcmc2hrkjcn00000gn/T/ipykernel_2289/1814983498.py:3: SettingWithCopyWarning: \n",
      "A value is trying to be set on a copy of a slice from a DataFrame.\n",
      "Try using .loc[row_indexer,col_indexer] = value instead\n",
      "\n",
      "See the caveats in the documentation: https://pandas.pydata.org/pandas-docs/stable/user_guide/indexing.html#returning-a-view-versus-a-copy\n",
      "  pd_2A[\"score\"] = 2\n",
      "/var/folders/yt/fsd0dzhn23z2jcmc2hrkjcn00000gn/T/ipykernel_2289/1814983498.py:4: SettingWithCopyWarning: \n",
      "A value is trying to be set on a copy of a slice from a DataFrame.\n",
      "Try using .loc[row_indexer,col_indexer] = value instead\n",
      "\n",
      "See the caveats in the documentation: https://pandas.pydata.org/pandas-docs/stable/user_guide/indexing.html#returning-a-view-versus-a-copy\n",
      "  pd_2B[\"score\"] = 1\n",
      "/var/folders/yt/fsd0dzhn23z2jcmc2hrkjcn00000gn/T/ipykernel_2289/1814983498.py:5: SettingWithCopyWarning: \n",
      "A value is trying to be set on a copy of a slice from a DataFrame.\n",
      "Try using .loc[row_indexer,col_indexer] = value instead\n",
      "\n",
      "See the caveats in the documentation: https://pandas.pydata.org/pandas-docs/stable/user_guide/indexing.html#returning-a-view-versus-a-copy\n",
      "  pd_2C[\"score\"] = 0\n"
     ]
    }
   ],
   "source": [
    "# スコアの付替\n",
    "pd_3[\"score\"] = 3\n",
    "pd_2A[\"score\"] = 2\n",
    "pd_2B[\"score\"] = 1\n",
    "pd_2C[\"score\"] = 0"
   ]
  },
  {
   "cell_type": "markdown",
   "metadata": {},
   "source": [
    "## RElbow2RWrist と Rshoulder2RElbow と Pelvis2RShoulder と Pelvis2Neck の速度を入れてみる "
   ]
  },
  {
   "cell_type": "code",
   "execution_count": 778,
   "metadata": {},
   "outputs": [],
   "source": [
    "def add_vector(df, joint1, joint2, word=\"\"):\n",
    "    df[f\"{word}_x_{joint1}2{joint2}\"] = df[f\"x_{joint1}\"].astype('float64') - df[f\"x_{joint2}\"].astype('float64')\n",
    "    df[f\"{word}_y_{joint1}2{joint2}\"] = df[f\"y_{joint1}\"].astype('float64') - df[f\"y_{joint2}\"].astype('float64')\n",
    "    df[f\"{word}_z_{joint1}2{joint2}\"] = df[f\"z_{joint1}\"].astype('float64') - df[f\"z_{joint2}\"].astype('float64')\n",
    "    return df\n",
    "\n",
    "dataset = add_vector(dataset, 'RShoulder', \"RElbow\", 'v')\n",
    "dataset = add_vector(dataset, 'Pelvis', \"RShoulder\", 'v')\n",
    "dataset = add_vector(dataset, 'Pelvis', \"Neck\", 'v')"
   ]
  },
  {
   "cell_type": "code",
   "execution_count": 779,
   "metadata": {},
   "outputs": [],
   "source": [
    "df_annotate\n",
    "l_date = df_annotate['date'].values"
   ]
  },
  {
   "cell_type": "code",
   "execution_count": 780,
   "metadata": {},
   "outputs": [],
   "source": [
    "def df2Xy(df):\n",
    "    y = np.array(df[\"score\"].mode()) #一番多いものをscoreとして最後にyとして返す\n",
    "    y_arr = np.ones(len(df['date'].unique()))\n",
    "    y_arr = y_arr * y\n",
    "    l_date_name = np.array(df['date'].unique())\n",
    "    for k, date in enumerate(l_date_name):\n",
    "        #一連のデータ，1サンプル\n",
    "        series = df[df['date'] == l_date_name[k]]\n",
    "        series = series.drop(columns='point')\n",
    "        #差分ベクトルを取得\n",
    "        diff = series.diff().drop(columns='date')\n",
    "        diff = diff.fillna(0)\n",
    "\n",
    "        # 間接点同士のベクトルを取得\n",
    "        df_dataset = add_vector(diff, 'RElbow', \"RWrist\", 'v')\n",
    "        df_dataset = add_vector(df_dataset, 'RShoulder', \"RElbow\", 'v')\n",
    "        df_dataset = add_vector(df_dataset, 'Pelvis', \"RShoulder\", 'v')\n",
    "        df_dataset = add_vector(df_dataset, 'Pelvis', \"Neck\", 'v')\n",
    "        arr_data = df_dataset.loc[:, \"v_x_RElbow2RWrist\":].values\n",
    "        # print(arr_data.shape)\n",
    "        for i in range(arr_data.shape[1]):\n",
    "            tmp_interpolate = interpolate1(arr_data[:, i])\n",
    "            # print(tmp_interpolate.shape)\n",
    "            #二次元に拡張\n",
    "            tmp_interpolate = tmp_interpolate.reshape(tmp_interpolate.shape[0], 1)\n",
    "            if i == 0:\n",
    "                x = tmp_interpolate\n",
    "            else:\n",
    "                x = np.concatenate([x, tmp_interpolate],1)\n",
    "        x = x.reshape(1, x.shape[0], x.shape[1])\n",
    "        if k == 0:\n",
    "            X = x\n",
    "            # print(X.shape)\n",
    "        else:\n",
    "            X = np.concatenate([X, x], axis=0)\n",
    "    return (X, y_arr)"
   ]
  },
  {
   "cell_type": "code",
   "execution_count": 781,
   "metadata": {},
   "outputs": [],
   "source": [
    "def create_Xy(df):\n",
    "    y = np.array(df[\"score\"].mode()) #一番多いものをscoreとして最後にyとして返す\n",
    "    y_arr = np.ones(len(df['date'].unique()))\n",
    "    y_arr = y_arr * y\n",
    "    l_date_name = np.array(df['date'].unique())\n",
    "    for k, date in enumerate(l_date_name):\n",
    "        #一連のデータ，1サンプル\n",
    "        series = df[df['date'] == l_date_name[k]]\n",
    "        series = series.drop(columns='point')\n",
    "        #差分ベクトルを取得\n",
    "        diff = series.diff().drop(columns='date')\n",
    "        diff = diff.fillna(0)\n",
    "\n",
    "        # 間接点同士のベクトルを取得\n",
    "        df_dataset = add_vector(diff, 'RElbow', \"RWrist\", 'v')\n",
    "        df_dataset = add_vector(df_dataset, 'RShoulder', \"RElbow\", 'v')\n",
    "        df_dataset = add_vector(df_dataset, 'Pelvis', \"RShoulder\", 'v')\n",
    "        df_dataset = add_vector(df_dataset, 'Pelvis', \"Neck\", 'v')\n",
    "        arr_data = df_dataset.loc[:, \"v_x_RElbow2RWrist\":].values\n",
    "        # print(arr_data.shape)\n",
    "        for i in range(arr_data.shape[1]):\n",
    "            tmp_interpolate = interpolate1(arr_data[:, i])\n",
    "            # print(tmp_interpolate.shape)\n",
    "            #二次元に拡張\n",
    "            tmp_interpolate = tmp_interpolate.reshape(tmp_interpolate.shape[0], 1)\n",
    "            if i == 0:\n",
    "                x = tmp_interpolate\n",
    "            else:\n",
    "                x = np.concatenate([x, tmp_interpolate],1)\n",
    "        x = x.reshape(1, x.shape[0], x.shape[1])\n",
    "        if k == 0:\n",
    "            X = x\n",
    "            # print(X.shape)\n",
    "        else:\n",
    "            X = np.concatenate([X, x], axis=0)\n",
    "    return (X, y_arr)"
   ]
  },
  {
   "cell_type": "code",
   "execution_count": 782,
   "metadata": {},
   "outputs": [],
   "source": [
    "(X_3, y_3) = create_Xy(pd_3)\n",
    "(X_2, y_2) = create_Xy(pd_2A)\n",
    "(X_1, y_1) = create_Xy(pd_2B)\n",
    "(X_0, y_0) = create_Xy(pd_2C)"
   ]
  },
  {
   "cell_type": "code",
   "execution_count": 783,
   "metadata": {},
   "outputs": [
    {
     "name": "stdout",
     "output_type": "stream",
     "text": [
      "[2. 2. 2. 2. 2. 2. 2. 2.]\n"
     ]
    }
   ],
   "source": [
    "print(y_2)"
   ]
  },
  {
   "cell_type": "code",
   "execution_count": 784,
   "metadata": {},
   "outputs": [],
   "source": [
    "#DataSetの結合\n",
    "x_train = np.concatenate([X_3, X_2, X_1, X_0])\n",
    "y_train = np.concatenate([y_3, y_2, y_1, y_0])\n",
    "y_train = y_train.astype('int64')\n",
    "x_test = np.concatenate([X_3, X_2, X_1, X_0])\n",
    "y_test = np.concatenate([y_3, y_2, y_1, y_0])\n",
    "y_test = y_test.astype('int64')"
   ]
  },
  {
   "cell_type": "code",
   "execution_count": 785,
   "metadata": {
    "executionInfo": {
     "elapsed": 7,
     "status": "ok",
     "timestamp": 1636987406078,
     "user": {
      "displayName": "Kento Suzuki",
      "photoUrl": "https://lh3.googleusercontent.com/a/default-user=s64",
      "userId": "16345288529127918743"
     },
     "user_tz": -540
    },
    "id": "IIUUVLyhzXIe",
    "tags": []
   },
   "outputs": [],
   "source": [
    "#ファイル名からスコアを取得して，dfを返す関数 \n",
    "def read_csv_add_score(filepath, score):\n",
    "    df = pd.read_csv(filepath, header=None)\n",
    "    #スコアの取得\n",
    "    # score = filepath.split(\"-\")[1].split('.')[0]\n",
    "    df['score'] = score\n",
    "    return df\n",
    "\n",
    "def interpolate1(array):\n",
    "    x_old = np.linspace(0, 1, array.shape[0])\n",
    "    y_old = array\n",
    "    \n",
    "    f = interpolate.interp1d(x_old, y_old)\n",
    "\n",
    "    x = np.linspace(0, 1, 100)\n",
    "    y_new = f(x)\n",
    "    return y_new\n",
    "\n",
    "\n",
    "def interpolate_df(df):\n",
    "    y_raw = np.array(df.loc[:, \"x_Pelvis\":\"z_REar\"])\n",
    "    print(i)\n",
    "    length = len(y_raw)-1\n",
    "\n",
    "    #rawデータを乗せる0→1のベクトルを作成する\n",
    "    second_raw = np.linspace(0, 1, length)\n",
    "\n",
    "    #新しく生成される0→1のベクトル(要素数200)\n",
    "    second_new = np.linspace(0, 1, 200)\n",
    "\n",
    "    f = interpolate.interp1d(second_raw, y_raw, kind='cubic')\n",
    "    y_new = f(second_new)\n",
    "    l.append(y_new)\n",
    "    df_new = pd.DataFrame(l).T\n",
    "    df_new['score'] = df['score'].mode()[0]\n",
    "    return df_new\n",
    "    \n",
    "def extract_joint(df, joint_name):\n",
    "    # dic = joint_dict()\n",
    "    # joint_id = dic[joint_name]\n",
    "    df_ex = df.loc[:, [f\"x_{joint_name}\", f\"y_{joint_name}\", f\"z_{joint_name}\"]]\n",
    "    df_ex['score'] = df['score'].mode()[0] #scoreを引き継ぐ\n",
    "    return df_ex\n",
    "\n",
    "# # 内部メソッド\n",
    "# def joint_dict():\n",
    "#     dic = {'Pelvis':2,'SpineNaval':5,'SpineChest':8, 'Neck':11, 'LClavicle':14, 'LShoulder':17, 'LElbow':20, 'LWrist':23, 'LHand':26, 'LHandTip':29, \n",
    "#            'LThumb':32, 'RClavicle':35, 'RShoulder':38, 'RElbow':41, 'RWrist':44, 'RHand':47, 'RHandTip':50, 'RThumb':53, 'LHip':56, 'LKnee':59, \n",
    "#            'LAnkle':62, 'LFoot':65, 'RHip':68, 'RKnee':71, 'RAnkle':74, 'RFoot':77, 'Head':80, 'Nose':83, 'LEye':86, 'LEar':89, 'REye':92, 'REar':95}\n",
    "#     return dic\n",
    "\n",
    "def zscore(x, axis = None):\n",
    "    xmean = x.mean(axis=axis, keepdims=True)\n",
    "    xstd  = np.std(x, axis=axis, keepdims=True)\n",
    "    zscore = (x-xmean)/xstd\n",
    "    return zscore"
   ]
  },
  {
   "cell_type": "code",
   "execution_count": 786,
   "metadata": {
    "executionInfo": {
     "elapsed": 7,
     "status": "ok",
     "timestamp": 1636987406078,
     "user": {
      "displayName": "Kento Suzuki",
      "photoUrl": "https://lh3.googleusercontent.com/a/default-user=s64",
      "userId": "16345288529127918743"
     },
     "user_tz": -540
    },
    "id": "UtcP1iNDzXIf"
   },
   "outputs": [],
   "source": [
    "def create_pos_dataset(l_filepath, score, joint1_name, joint2_name):\n",
    "    for filepath in l_filepath:\n",
    "        df = read_csv_add_score(filepath, score)\n",
    "        df = interpolate_df(df)\n",
    "        dataset_joint1 = extract_joint(df, joint1_name)\n",
    "        dataset_joint2 = extract_joint(df, joint2_name)\n",
    "        \n",
    "        #複数のデータ間でscoreのndarray を作成する種\n",
    "        y_one = np.array([dataset_joint1['score'].mode()[0]], dtype=np.int64)\n",
    "        if 'y' in locals():\n",
    "            y = np.concatenate([y, y_one])\n",
    "        else:\n",
    "            y = y_one\n",
    "\n",
    "        #複数のデータ間で X データセットを作成する種\n",
    "        joint1 = dataset_joint1.iloc[:, 0:3].to_numpy()\n",
    "        joint1 = np.expand_dims(joint1, axis=0)\n",
    "\n",
    "        joint2 = dataset_joint2.iloc[:, 0:3].to_numpy()\n",
    "        joint2 = np.expand_dims(joint2, axis=0)\n",
    "\n",
    "        X_one = joint1 - joint2\n",
    "        \n",
    "        # Xにノルムを追加する\n",
    "        norm = np.linalg.norm(X_one, axis=2,ord=2)\n",
    "        norm = norm.reshape((1,-1,1))\n",
    "        X_one = np.concatenate((X_one, norm), axis=2)\n",
    "\n",
    "        if 'X' in locals():\n",
    "            X = np.concatenate([X, X_one])\n",
    "        else:\n",
    "            X = X_one\n",
    "            \n",
    "    return X, y"
   ]
  },
  {
   "cell_type": "code",
   "execution_count": 787,
   "metadata": {},
   "outputs": [
    {
     "name": "stdout",
     "output_type": "stream",
     "text": [
      "(35, 100, 12)\n"
     ]
    }
   ],
   "source": [
    "print(x_train.shape)"
   ]
  },
  {
   "cell_type": "code",
   "execution_count": 788,
   "metadata": {
    "colab": {
     "base_uri": "https://localhost:8080/"
    },
    "executionInfo": {
     "elapsed": 2335,
     "status": "ok",
     "timestamp": 1636987414597,
     "user": {
      "displayName": "Kento Suzuki",
      "photoUrl": "https://lh3.googleusercontent.com/a/default-user=s64",
      "userId": "16345288529127918743"
     },
     "user_tz": -540
    },
    "id": "k9FusOpOct7Z",
    "outputId": "53480609-b57f-45a1-c988-5f330dc69d11"
   },
   "outputs": [],
   "source": [
    "### 先頭にclassification用のトークンを追加する\n",
    "score_train = np.zeros((x_train.shape[0], 1 , x_train.shape[2]))\n",
    "x_train = np.concatenate([score_train, x_train], axis=1)"
   ]
  },
  {
   "cell_type": "markdown",
   "metadata": {},
   "source": [
    "## PyTorchのdatasetの作成\n"
   ]
  },
  {
   "cell_type": "code",
   "execution_count": 789,
   "metadata": {},
   "outputs": [],
   "source": [
    "# この部分がclassificationと異なる\n",
    "X = torch.tensor(x_train, dtype=torch.float32)\n",
    "y = torch.tensor(y_train, dtype=torch.int8)\n",
    "\n",
    "X_val = torch.tensor(x_test, dtype=torch.float32)\n",
    "y_val = torch.tensor(y_test, dtype=torch.int8)"
   ]
  },
  {
   "cell_type": "code",
   "execution_count": 790,
   "metadata": {
    "executionInfo": {
     "elapsed": 217,
     "status": "ok",
     "timestamp": 1636987552788,
     "user": {
      "displayName": "Kento Suzuki",
      "photoUrl": "https://lh3.googleusercontent.com/a/default-user=s64",
      "userId": "16345288529127918743"
     },
     "user_tz": -540
    },
    "id": "xdm8NB-cYTpy",
    "tags": []
   },
   "outputs": [],
   "source": [
    "dataset = torch.utils.data.TensorDataset(X, y)\n",
    "dataloader = torch.utils.data.DataLoader(dataset, batch_size=1)\n",
    "\n",
    "val_dataset = torch.utils.data.TensorDataset(X_val, y_val)\n",
    "val_dataloader = torch.utils.data.DataLoader(val_dataset, batch_size=1)"
   ]
  },
  {
   "cell_type": "code",
   "execution_count": 791,
   "metadata": {},
   "outputs": [],
   "source": [
    "dataloaders_dict = {\"train\": dataloader, \"val\": dataloader}"
   ]
  },
  {
   "cell_type": "code",
   "execution_count": 792,
   "metadata": {
    "executionInfo": {
     "elapsed": 339,
     "status": "ok",
     "timestamp": 1636987554379,
     "user": {
      "displayName": "Kento Suzuki",
      "photoUrl": "https://lh3.googleusercontent.com/a/default-user=s64",
      "userId": "16345288529127918743"
     },
     "user_tz": -540
    },
    "id": "OXZm8Wkma2AI"
   },
   "outputs": [],
   "source": [
    "# batch = next(iter(dataloader))\n",
    "# print(batch[0].max())\n",
    "# print(batch[0].min())"
   ]
  },
  {
   "cell_type": "code",
   "execution_count": 793,
   "metadata": {
    "colab": {
     "base_uri": "https://localhost:8080/",
     "height": 270
    },
    "executionInfo": {
     "elapsed": 236,
     "status": "error",
     "timestamp": 1636987592056,
     "user": {
      "displayName": "Kento Suzuki",
      "photoUrl": "https://lh3.googleusercontent.com/a/default-user=s64",
      "userId": "16345288529127918743"
     },
     "user_tz": -540
    },
    "id": "2OL034kYaoAv",
    "outputId": "9266b2b2-5b7a-4fea-98ad-0af70ee98efe"
   },
   "outputs": [],
   "source": [
    "# import matplotlib.pyplot as plt\n",
    "\n",
    "# classes = np.unique(y, axis=0)\n",
    "# print(classes)\n",
    "\n",
    "# fig = plt.figure(figsize=(10, 15))\n",
    "\n",
    "# # 各点のプロットを行う\n",
    "# for i, item in enumerate([0, 10, 20]):\n",
    "#     c_x_train = x_train[item]\n",
    "#     # print(f\"class is {np.argmax(y_train[item])}\")\n",
    "#     fig.add_subplot(3, 1, i+1)\n",
    "#     plt.plot(c_x_train[:, :], label=[\"x\", \"y\", \"z\"])\n",
    "#     plt.title(f\"score {y_train[item]}\")\n",
    "#     plt.legend(loc=\"best\")\n",
    "#     plt.grid()\n",
    "\n",
    "# # 各点のプロットを行う\n",
    "# # c_x_train = x_train[10]\n",
    "# # print(f\"class is {np.argmax(y_train[11])}\")\n",
    "# # fig.add_subplot(3, 1, 2)\n",
    "# # plt.plot(c_x_train[:, :], label=[\"x\", \"y\", \"z\"])\n",
    "# # plt.legend(loc=\"best\")\n",
    "# # plt.grid()\n",
    "\n",
    "\n",
    "# plt.show()\n",
    "# plt.close()"
   ]
  },
  {
   "cell_type": "code",
   "execution_count": 794,
   "metadata": {
    "colab": {
     "base_uri": "https://localhost:8080/"
    },
    "executionInfo": {
     "elapsed": 217,
     "status": "ok",
     "timestamp": 1636987650297,
     "user": {
      "displayName": "Kento Suzuki",
      "photoUrl": "https://lh3.googleusercontent.com/a/default-user=s64",
      "userId": "16345288529127918743"
     },
     "user_tz": -540
    },
    "id": "8vf0x--aaZjE",
    "outputId": "57c2d515-00a5-443a-b22e-6fa77d359e84"
   },
   "outputs": [],
   "source": [
    "idx = np.random.permutation(len(x_train))\n",
    "x_train = x_train[idx]\n",
    "y_train = y_train[idx]"
   ]
  },
  {
   "cell_type": "markdown",
   "metadata": {
    "id": "UxW659H6YTpz"
   },
   "source": [
    "## Build the model\n",
    "\n",
    "Our model processes a tensor of shape `(batch size, sequence length, features)`,\n",
    "where `sequence length` is the number of time steps and `features` is each input\n",
    "timeseries.\n",
    "\n",
    "You can replace your classification RNN layers with this one: the\n",
    "inputs are fully compatible!"
   ]
  },
  {
   "cell_type": "markdown",
   "metadata": {
    "id": "urNK4ym-YTp0"
   },
   "source": [
    "We include residual connections, layer normalization, and dropout.\n",
    "The resulting layer can be stacked multiple times.\n",
    "\n",
    "The projection layers are implemented through `keras.layers.Conv1D`."
   ]
  },
  {
   "cell_type": "code",
   "execution_count": 795,
   "metadata": {},
   "outputs": [],
   "source": [
    "class PositionalEncoder(nn.Module):\n",
    "    '''入力された単語の位置を示すベクトル情報を付加する'''\n",
    "\n",
    "    def __init__(self, d_model=12, max_seq_len=256):\n",
    "        super().__init__()\n",
    "\n",
    "        self.d_model = d_model  # 単語ベクトルの次元数\n",
    "\n",
    "        # 単語の順番（pos）と埋め込みベクトルの次元の位置（i）によって一意に定まる値の表をpeとして作成\n",
    "        pe = torch.zeros(max_seq_len, d_model)\n",
    "\n",
    "        # GPUが使える場合はGPUへ送る、ここでは省略。実際に学習時には使用する\n",
    "        # device = torch.device(\"cuda:0\" if torch.cuda.is_available() else \"cpu\")\n",
    "        # pe = pe.to(device)\n",
    "\n",
    "        for pos in range(max_seq_len):\n",
    "            for i in range(0, d_model, 2):\n",
    "                pe[pos, i] = math.sin(pos / (10000 ** ((2 * i)/d_model)))\n",
    "                \n",
    "                # 誤植修正_200510 #79\n",
    "                # pe[pos, i + 1] = math.cos(pos /\n",
    "                #                          (10000 ** ((2 * (i + 1))/d_model)))\n",
    "                pe[pos, i + 1] = math.cos(pos /\n",
    "                                          (10000 ** ((2 * i)/d_model)))\n",
    "\n",
    "        # 表peの先頭に、ミニバッチ次元となる次元を足す\n",
    "        self.pe = pe.unsqueeze(0)\n",
    "\n",
    "        # 勾配を計算しないようにする\n",
    "        self.pe.requires_grad = False\n",
    "\n",
    "    def forward(self, x):\n",
    "        # 入力xとPositonal Encodingを足し算する\n",
    "        # xがpeよりも小さいので、大きくする\n",
    "        ret = math.sqrt(self.d_model)*x + self.pe\n",
    "        return ret\n"
   ]
  },
  {
   "cell_type": "code",
   "execution_count": 796,
   "metadata": {},
   "outputs": [],
   "source": [
    "class Attention(nn.Module):\n",
    "    def __init__(self, d_model=4):\n",
    "        super().__init__()\n",
    "\n",
    "        # SAGANでは1dConvを使用したが、今回は全結合層で特徴量を変換する\n",
    "        self.q_linear = nn.Linear(d_model, d_model)\n",
    "        self.v_linear = nn.Linear(d_model, d_model)\n",
    "        self.k_linear = nn.Linear(d_model, d_model)\n",
    "\n",
    "        # 出力時に使用する全結合層\n",
    "        self.out = nn.Linear(d_model, d_model)\n",
    "\n",
    "        # Attentionの大きさ調整の変数\n",
    "        self.d_k = d_model\n",
    "\n",
    "    def forward(self, q, k, v, mask):\n",
    "        # 全結合層で特徴量を変換\n",
    "        k = self.k_linear(k)\n",
    "        q = self.q_linear(q)\n",
    "        v = self.v_linear(v)\n",
    "\n",
    "        # Attentionの値を計算する\n",
    "        # 各値を足し算すると大きくなりすぎるので、root(d_k)で割って調整\n",
    "        weights = torch.matmul(q, k.transpose(1, 2)) / math.sqrt(self.d_k)\n",
    "\n",
    "        # ここでmaskを計算\n",
    "        # mask = mask.unsqueeze(1)\n",
    "        # print(mask)\n",
    "        # weights = weights.masked_fill(mask == 0, -1e9)\n",
    "\n",
    "        # softmaxで規格化をする\n",
    "        normlized_weights = F.softmax(weights, dim=-1)\n",
    "\n",
    "        # AttentionをValueとかけ算\n",
    "        output = torch.matmul(normlized_weights, v)\n",
    "\n",
    "        # 全結合層で特徴量を変換\n",
    "        output = self.out(output)\n",
    "\n",
    "        return output, normlized_weights\n"
   ]
  },
  {
   "cell_type": "code",
   "execution_count": 797,
   "metadata": {},
   "outputs": [],
   "source": [
    "class FeedForward(nn.Module):\n",
    "    def __init__(self, d_model, d_ff=1024, dropout=0.1):\n",
    "        '''Attention層から出力を単純に全結合層2つで特徴量を変換するだけのユニットです'''\n",
    "        super().__init__()\n",
    "\n",
    "        self.linear_1 = nn.Linear(d_model, d_ff)\n",
    "        self.dropout = nn.Dropout(dropout)\n",
    "        self.linear_2 = nn.Linear(d_ff, d_model)\n",
    "\n",
    "    def forward(self, x):\n",
    "        x = self.linear_1(x)\n",
    "        x = self.dropout(F.relu(x))\n",
    "        x = self.linear_2(x)\n",
    "        return x"
   ]
  },
  {
   "cell_type": "code",
   "execution_count": 798,
   "metadata": {},
   "outputs": [],
   "source": [
    "class TransformerBlock(nn.Module):\n",
    "    def __init__(self, d_model, dropout=0.1):\n",
    "        super().__init__()\n",
    "\n",
    "        # LayerNormalization層\n",
    "        # https://pytorch.org/docs/stable/nn.html?highlight=layernorm\n",
    "        self.norm_1 = nn.LayerNorm(d_model)\n",
    "        self.norm_2 = nn.LayerNorm(d_model)\n",
    "\n",
    "        # Attention層\n",
    "        self.attn = Attention(d_model)\n",
    "\n",
    "        # Attentionのあとの全結合層2つ\n",
    "        self.ff = FeedForward(d_model)\n",
    "\n",
    "        # Dropout\n",
    "        self.dropout_1 = nn.Dropout(dropout)\n",
    "        self.dropout_2 = nn.Dropout(dropout)\n",
    "\n",
    "    def forward(self, x, mask):\n",
    "        # 正規化とAttention\n",
    "        # print(f\"input shape is {x.shape}\")\n",
    "        x_normlized = self.norm_1(x)\n",
    "        output, normlized_weights = self.attn(\n",
    "            x_normlized, x_normlized, x_normlized, mask)\n",
    "        \n",
    "        x2 = x + self.dropout_1(output)\n",
    "\n",
    "        # 正規化と全結合層\n",
    "        x_normlized2 = self.norm_2(x2)\n",
    "        output = x2 + self.dropout_2(self.ff(x_normlized2))\n",
    "        # print(f\"output shape is {output.shape}\")\n",
    "\n",
    "        return output, normlized_weights\n"
   ]
  },
  {
   "cell_type": "code",
   "execution_count": 799,
   "metadata": {},
   "outputs": [],
   "source": [
    "class ScoringHead(nn.Module):\n",
    "    '''Transformer_Blockの出力を使用して，最後にスコアリングを行う'''\n",
    "    \n",
    "    def __init__(self, d_model=300, output_dim=1):\n",
    "        super().__init__()\n",
    "\n",
    "        # 全結合層\n",
    "        self.linear = nn.Linear(d_model, output_dim)  # output_dimはポジ・ネガの2つ\n",
    "        self.output_dim = output_dim\n",
    "\n",
    "        # 重み初期化処理\n",
    "        nn.init.normal_(self.linear.weight, std=0.02)\n",
    "        nn.init.normal_(self.linear.bias, 0)\n",
    "\n",
    "    def forward(self, x):\n",
    "        x0 = x[:, 0, :]  # 各ミニバッチの各文の先頭の単語の特徴量（300次元）を取り出す\n",
    "        weights = self.linear.weight\n",
    "        out = self.linear(x0)\n",
    "        \n",
    "        # print(f\"Scoring input shape is {x0.shape}\")\n",
    "        # print(f\"Scoring weight shape is {weights.shape}\")\n",
    "        # print(f\"Scoring output shape is {out.shape}\")\n",
    "\n",
    "        return out, weights"
   ]
  },
  {
   "cell_type": "code",
   "execution_count": 800,
   "metadata": {},
   "outputs": [],
   "source": [
    "# class ClassificationHead(nn.Module):\n",
    "#     '''Transformer_Blockの出力を使用し、最後にクラス分類させる'''\n",
    "\n",
    "#     def __init__(self, d_model=300, output_dim=1):\n",
    "#         super().__init__()\n",
    "\n",
    "#         # 全結合層\n",
    "#         self.linear = nn.Linear(d_model, output_dim)  # output_dimはポジ・ネガの2つ\n",
    "#         self.output_dim = output_dim\n",
    "\n",
    "#         # 重み初期化処理\n",
    "#         nn.init.normal_(self.linear.weight, std=0.02)\n",
    "#         nn.init.normal_(self.linear.bias, 0)\n",
    "\n",
    "#     def forward(self, x):\n",
    "#         x0 = x[:, 0, :]  # 各ミニバッチの各文の先頭の単語の特徴量（300次元）を取り出す\n",
    "#         print(f\"input shape is {x0.shape}\")\n",
    "#         x1 = self.linear(x0)\n",
    "#         print(f\"weight shape is {self.linear.weight.shape}\")\n",
    "#         print(f\"input shape is {x1.shape}\")\n",
    "#         out = F.softmax(x1, dim=-1)\n",
    "\n",
    "#         return out\n"
   ]
  },
  {
   "cell_type": "code",
   "execution_count": 801,
   "metadata": {},
   "outputs": [],
   "source": [
    "# 最終的なTransformerモデルのクラス\n",
    "'''Scoring を行うモデル'''\n",
    "\n",
    "class TransformerScoring(nn.Module):\n",
    "    '''Transformerでクラス分類させる'''\n",
    "\n",
    "    def __init__(self, d_model=12, max_seq_len=101, output_dim=1):\n",
    "        super().__init__()\n",
    "\n",
    "        # モデル構築\n",
    "        self.net_Positional = PositionalEncoder(d_model=d_model, max_seq_len=max_seq_len)\n",
    "        self.net_Attention_1 = TransformerBlock(d_model=d_model)\n",
    "        self.net_Scoring = ScoringHead(output_dim=output_dim, d_model=d_model)\n",
    "\n",
    "    def forward(self, x, mask):\n",
    "        x1 = self.net_Positional(x)  # Positon情報を足し算\n",
    "        x2, normlized_weights_1 = self.net_Attention_1(x1, mask)  # Self-Attentionで特徴量を変換        \n",
    "        x3, FC_weights = self.net_Scoring(x2)  # 最終出力の0単語目を使用して、分類0-1のスカラーを出力\n",
    "        \n",
    "        # print(f\"x shape is {x.shape}\")\n",
    "        # print(f\"x1 shape is {x1.shape}\")\n",
    "        # print(f\"x2 shape is {x2.shape}\")\n",
    "        # print(f\"x3 shape is {x3}\")\n",
    "        \n",
    "        return x3, normlized_weights_1, FC_weights\n"
   ]
  },
  {
   "cell_type": "code",
   "execution_count": 802,
   "metadata": {},
   "outputs": [],
   "source": [
    "# # 最終的なTransformerモデルのクラス\n",
    "\n",
    "# class TransformerClassification(nn.Module):\n",
    "#     '''Transformerでクラス分類させる'''\n",
    "\n",
    "#     def __init__(self, d_model=12, max_seq_len=101, output_dim=4):\n",
    "#         super().__init__()\n",
    "\n",
    "#         # モデル構築\n",
    "#         self.net_Positional = PositionalEncoder(d_model=d_model, max_seq_len=max_seq_len)\n",
    "#         self.net_Attention_1 = TransformerBlock(d_model=d_model)\n",
    "#         # self.net3_2 = TransformerBlock(d_model=d_model)\n",
    "#         self.net_Classification = ClassificationHead(output_dim=output_dim, d_model=d_model)\n",
    "\n",
    "#     def forward(self, x, mask):\n",
    "#         x1 = self.net_Positional(x)  # Positon情報を足し算\n",
    "#         x2, normlized_weights_1 = self.net_Attention_1(x1, mask)  # Self-Attentionで特徴量を変換\n",
    "        \n",
    "#         # x3_2, normlized_weights_2 = self.net3_2(x3_1, mask)  # Self-Attentionで特徴量を変換\n",
    "        \n",
    "#         x3 = self.net_Classification(x2)  # 最終出力の0単語目を使用して、分類0-1のスカラーを出力\n",
    "        \n",
    "#         return x3, normlized_weights_1\n"
   ]
  },
  {
   "cell_type": "markdown",
   "metadata": {
    "id": "LakZIHM8YTp1"
   },
   "source": [
    "## Train and evaluate"
   ]
  },
  {
   "cell_type": "code",
   "execution_count": 803,
   "metadata": {},
   "outputs": [
    {
     "name": "stdout",
     "output_type": "stream",
     "text": [
      "出力のテンソルサイズ： tensor([[-0.8432]], grad_fn=<AddmmBackward0>)\n"
     ]
    }
   ],
   "source": [
    "# 動作確認\n",
    "# ミニバッチの用意\n",
    "batch = next(iter(dataloader))\n",
    "\n",
    "# モデル構築\n",
    "net = TransformerScoring(\n",
    "    d_model=12, max_seq_len=101, output_dim=1)\n",
    "\n",
    "# 入出力\n",
    "x = batch[0]\n",
    "input_mask = (x != input_pad)\n",
    "out, normlized_weights_1, fc_weight = net(x, input_mask)\n",
    "\n",
    "print(\"出力のテンソルサイズ：\", out)\n",
    "# print(\"出力テンソルのsigmoid：\", F.softmax(out, dim=1))\n"
   ]
  },
  {
   "cell_type": "markdown",
   "metadata": {
    "id": "elTTH_9KYTp0"
   },
   "source": [
    "The main part of our model is now complete. We can stack multiple of those\n",
    "`transformer_encoder` blocks and we can also proceed to add the final\n",
    "Multi-Layer Perceptron classification head. Apart from a stack of `Dense`\n",
    "layers, we need to reduce the output tensor of the `TransformerEncoder` part of\n",
    "our model down to a vector of features for each data point in the current\n",
    "batch. A common way to achieve this is to use a pooling layer. For\n",
    "this example, a `GlobalAveragePooling1D` layer is sufficient."
   ]
  },
  {
   "cell_type": "code",
   "execution_count": 804,
   "metadata": {},
   "outputs": [
    {
     "name": "stdout",
     "output_type": "stream",
     "text": [
      "ネットワーク設定完了\n"
     ]
    }
   ],
   "source": [
    "# ネットワークの初期化を定義\n",
    "def weights_init(m):\n",
    "    classname = m.__class__.__name__\n",
    "    if classname.find('Linear') != -1:\n",
    "        # Liner層の初期化\n",
    "        nn.init.kaiming_normal_(m.weight)\n",
    "        if m.bias is not None:\n",
    "            nn.init.constant_(m.bias, 0.0)\n",
    "\n",
    "# 訓練モードに設定\n",
    "net.train()\n",
    "\n",
    "# TransformerBlockモジュールを初期化実行\n",
    "net.net_Attention_1.apply(weights_init)\n",
    "# net.net3_2.apply(weights_init)\n",
    "\n",
    "print('ネットワーク設定完了')"
   ]
  },
  {
   "cell_type": "code",
   "execution_count": 805,
   "metadata": {},
   "outputs": [],
   "source": [
    "# 損失関数の設定\n",
    "# criterion = nn.CrossEntropyLoss()\n",
    "criterion = nn.MSELoss()\n",
    "# nn.LogSoftmax()を計算してからnn.NLLLoss(negative log likelihood loss)を計算\n",
    "\n",
    "# 最適化手法の設定\n",
    "learning_rate = 1e-4\n",
    "optimizer = optim.Adam(net.parameters(), lr=learning_rate)"
   ]
  },
  {
   "cell_type": "code",
   "execution_count": 806,
   "metadata": {},
   "outputs": [],
   "source": [
    "# モデルを学習させる関数を作成\n",
    "def train_model(net, dataloaders_dict, criterion, optimizer, num_epochs):\n",
    "\n",
    "    # GPUが使えるかを確認\n",
    "    device = torch.device(\"cuda:0\" if torch.cuda.is_available() else \"cpu\")\n",
    "    print(\"使用デバイス：\", device)\n",
    "    print('-----start-------')\n",
    "    # ネットワークをGPUへ\n",
    "    net.to(device)\n",
    "\n",
    "    # ネットワークがある程度固定であれば、高速化させる\n",
    "    torch.backends.cudnn.benchmark = True\n",
    "\n",
    "    # epochのループ\n",
    "    for epoch in range(num_epochs):\n",
    "        # epochごとの訓練と検証のループ\n",
    "        for phase in ['train']:\n",
    "        # for phase in ['train', 'val']:\n",
    "            if phase == 'train':\n",
    "                net.train()  # モデルを訓練モードに\n",
    "            else:\n",
    "                net.eval()   # モデルを検証モードに\n",
    "\n",
    "            epoch_loss = 0.0  # epochの損失和\n",
    "            epoch_corrects = 0  # epochの正解数\n",
    "\n",
    "            # データローダーからミニバッチを取り出すループ\n",
    "            for batch in (dataloaders_dict[phase]):\n",
    "                # batchはTextとLableの辞書オブジェクト\n",
    "\n",
    "                # GPUが使えるならGPUにデータを送る\n",
    "                inputs = batch[0].to(device)  # 文章\n",
    "                labels = batch[1].to(device)  # ラベル\n",
    "\n",
    "                # optimizerを初期化\n",
    "                optimizer.zero_grad()\n",
    "\n",
    "                # 順伝搬（forward）計算\n",
    "                with torch.set_grad_enabled(phase == 'train'):\n",
    "\n",
    "                    # mask作成\n",
    "                    input_pad = 1  # 単語のIDにおいて、'<pad>': 1 なので\n",
    "                    input_mask = (inputs != input_pad)\n",
    "\n",
    "                    # Transformerに入力\n",
    "                    outputs, _, __ = net(inputs, input_mask)\n",
    "                    # print(f\"outputs shape is {outputs.dtype}, label shape is {labels.float()}\")\n",
    "                    # print(f\"outputs is {outputs[0]}\")\n",
    "                    # print(f\"labels is {labels.float()}\")\n",
    "                    loss = criterion(outputs[0], labels.float())  # 損失を計算\n",
    "                    # print(f\"loss is {loss}\")\n",
    "\n",
    "                    preds = torch.round(outputs)  # ラベルを予測\n",
    "\n",
    "                    # 訓練時はバックプロパゲーション\n",
    "                    if phase == 'train':\n",
    "                        loss.backward()\n",
    "                        optimizer.step()\n",
    "\n",
    "                    # 結果の計算\n",
    "                    epoch_loss += loss.item() * inputs.size(0)  # lossの合計を更新\n",
    "                    # accuracyの計算\n",
    "                    # print(preds[0].int())\n",
    "                    # print(labels.data)\n",
    "                    epoch_corrects += torch.sum(preds[0].int() == labels.data)\n",
    "\n",
    "            # epochごとのlossと正解率\n",
    "            epoch_loss = epoch_loss / len(dataloaders_dict[phase].dataset)\n",
    "            epoch_acc = epoch_corrects.double(\n",
    "            ) / len(dataloaders_dict[phase].dataset)\n",
    "\n",
    "            print('Epoch {}/{} | {:^5} |  Loss: {:.4f} Acc: {:.4f}'.format(epoch+1, num_epochs,\n",
    "                                                                           phase, epoch_loss, epoch_acc))\n",
    "\n",
    "    return net\n"
   ]
  },
  {
   "cell_type": "code",
   "execution_count": 808,
   "metadata": {},
   "outputs": [
    {
     "name": "stdout",
     "output_type": "stream",
     "text": [
      "使用デバイス： cpu\n",
      "-----start-------\n",
      "Epoch 1/150 | train |  Loss: 0.9594 Acc: 0.3429\n",
      "Epoch 2/150 | train |  Loss: 0.9952 Acc: 0.2857\n",
      "Epoch 3/150 | train |  Loss: 0.9320 Acc: 0.2857\n",
      "Epoch 4/150 | train |  Loss: 1.1261 Acc: 0.4286\n",
      "Epoch 5/150 | train |  Loss: 0.8961 Acc: 0.4286\n",
      "Epoch 6/150 | train |  Loss: 0.7855 Acc: 0.4000\n",
      "Epoch 7/150 | train |  Loss: 0.7964 Acc: 0.3143\n",
      "Epoch 8/150 | train |  Loss: 0.8054 Acc: 0.4286\n",
      "Epoch 9/150 | train |  Loss: 0.7243 Acc: 0.3429\n",
      "Epoch 10/150 | train |  Loss: 0.8530 Acc: 0.4286\n",
      "Epoch 11/150 | train |  Loss: 0.6550 Acc: 0.4286\n",
      "Epoch 12/150 | train |  Loss: 0.9092 Acc: 0.4000\n",
      "Epoch 13/150 | train |  Loss: 0.7937 Acc: 0.3429\n",
      "Epoch 14/150 | train |  Loss: 0.6734 Acc: 0.3429\n",
      "Epoch 15/150 | train |  Loss: 0.7201 Acc: 0.4000\n",
      "Epoch 16/150 | train |  Loss: 0.8046 Acc: 0.3714\n",
      "Epoch 17/150 | train |  Loss: 0.5855 Acc: 0.4571\n",
      "Epoch 18/150 | train |  Loss: 0.7995 Acc: 0.3714\n",
      "Epoch 19/150 | train |  Loss: 0.6561 Acc: 0.4286\n",
      "Epoch 20/150 | train |  Loss: 0.8911 Acc: 0.3714\n",
      "Epoch 21/150 | train |  Loss: 0.5948 Acc: 0.4286\n",
      "Epoch 22/150 | train |  Loss: 0.6572 Acc: 0.4857\n",
      "Epoch 23/150 | train |  Loss: 0.6467 Acc: 0.4286\n",
      "Epoch 24/150 | train |  Loss: 0.6221 Acc: 0.4857\n",
      "Epoch 25/150 | train |  Loss: 0.7658 Acc: 0.3429\n",
      "Epoch 26/150 | train |  Loss: 0.5831 Acc: 0.4000\n",
      "Epoch 27/150 | train |  Loss: 0.6922 Acc: 0.4571\n",
      "Epoch 28/150 | train |  Loss: 0.4390 Acc: 0.5143\n",
      "Epoch 29/150 | train |  Loss: 0.7686 Acc: 0.4571\n",
      "Epoch 30/150 | train |  Loss: 0.6706 Acc: 0.4571\n",
      "Epoch 31/150 | train |  Loss: 0.5921 Acc: 0.4857\n",
      "Epoch 32/150 | train |  Loss: 0.4862 Acc: 0.4857\n",
      "Epoch 33/150 | train |  Loss: 0.6476 Acc: 0.4857\n",
      "Epoch 34/150 | train |  Loss: 0.6747 Acc: 0.5429\n",
      "Epoch 35/150 | train |  Loss: 0.4760 Acc: 0.6000\n",
      "Epoch 36/150 | train |  Loss: 0.5768 Acc: 0.4286\n",
      "Epoch 37/150 | train |  Loss: 0.5680 Acc: 0.4857\n",
      "Epoch 38/150 | train |  Loss: 0.3925 Acc: 0.5714\n",
      "Epoch 39/150 | train |  Loss: 0.5377 Acc: 0.5143\n",
      "Epoch 40/150 | train |  Loss: 0.5436 Acc: 0.5429\n",
      "Epoch 41/150 | train |  Loss: 0.5999 Acc: 0.4571\n",
      "Epoch 42/150 | train |  Loss: 0.4937 Acc: 0.5429\n",
      "Epoch 43/150 | train |  Loss: 0.4319 Acc: 0.5714\n",
      "Epoch 44/150 | train |  Loss: 0.6295 Acc: 0.4286\n",
      "Epoch 45/150 | train |  Loss: 0.7391 Acc: 0.5429\n",
      "Epoch 46/150 | train |  Loss: 0.6289 Acc: 0.5143\n",
      "Epoch 47/150 | train |  Loss: 0.4174 Acc: 0.5143\n",
      "Epoch 48/150 | train |  Loss: 0.4935 Acc: 0.5429\n",
      "Epoch 49/150 | train |  Loss: 0.4987 Acc: 0.5143\n",
      "Epoch 50/150 | train |  Loss: 0.4045 Acc: 0.5429\n",
      "Epoch 51/150 | train |  Loss: 0.6254 Acc: 0.5714\n",
      "Epoch 52/150 | train |  Loss: 0.5343 Acc: 0.4571\n",
      "Epoch 53/150 | train |  Loss: 0.5471 Acc: 0.4857\n",
      "Epoch 54/150 | train |  Loss: 0.4383 Acc: 0.5429\n",
      "Epoch 55/150 | train |  Loss: 0.3926 Acc: 0.4571\n",
      "Epoch 56/150 | train |  Loss: 0.5127 Acc: 0.5429\n",
      "Epoch 57/150 | train |  Loss: 0.3765 Acc: 0.6000\n",
      "Epoch 58/150 | train |  Loss: 0.6339 Acc: 0.5143\n",
      "Epoch 59/150 | train |  Loss: 0.5973 Acc: 0.5714\n",
      "Epoch 60/150 | train |  Loss: 0.4509 Acc: 0.6571\n",
      "Epoch 61/150 | train |  Loss: 0.4433 Acc: 0.4857\n",
      "Epoch 62/150 | train |  Loss: 0.5589 Acc: 0.5714\n",
      "Epoch 63/150 | train |  Loss: 0.6058 Acc: 0.5714\n",
      "Epoch 64/150 | train |  Loss: 0.3004 Acc: 0.6286\n",
      "Epoch 65/150 | train |  Loss: 0.4732 Acc: 0.6000\n",
      "Epoch 66/150 | train |  Loss: 0.5905 Acc: 0.4286\n",
      "Epoch 67/150 | train |  Loss: 0.6810 Acc: 0.4571\n",
      "Epoch 68/150 | train |  Loss: 0.5430 Acc: 0.4000\n",
      "Epoch 69/150 | train |  Loss: 0.5033 Acc: 0.5429\n",
      "Epoch 70/150 | train |  Loss: 0.4315 Acc: 0.5429\n",
      "Epoch 71/150 | train |  Loss: 0.6708 Acc: 0.4000\n",
      "Epoch 72/150 | train |  Loss: 0.3996 Acc: 0.5714\n",
      "Epoch 73/150 | train |  Loss: 0.2674 Acc: 0.7143\n",
      "Epoch 74/150 | train |  Loss: 0.4439 Acc: 0.5143\n",
      "Epoch 75/150 | train |  Loss: 0.6310 Acc: 0.5143\n",
      "Epoch 76/150 | train |  Loss: 0.4790 Acc: 0.5714\n",
      "Epoch 77/150 | train |  Loss: 0.2372 Acc: 0.7714\n",
      "Epoch 78/150 | train |  Loss: 0.3255 Acc: 0.6286\n",
      "Epoch 79/150 | train |  Loss: 0.5192 Acc: 0.4286\n",
      "Epoch 80/150 | train |  Loss: 0.4352 Acc: 0.5143\n",
      "Epoch 81/150 | train |  Loss: 0.3232 Acc: 0.4857\n",
      "Epoch 82/150 | train |  Loss: 0.4636 Acc: 0.5429\n",
      "Epoch 83/150 | train |  Loss: 0.5054 Acc: 0.4571\n",
      "Epoch 84/150 | train |  Loss: 0.4778 Acc: 0.6286\n",
      "Epoch 85/150 | train |  Loss: 0.4834 Acc: 0.5143\n",
      "Epoch 86/150 | train |  Loss: 0.4402 Acc: 0.5429\n",
      "Epoch 87/150 | train |  Loss: 0.4610 Acc: 0.5143\n",
      "Epoch 88/150 | train |  Loss: 0.5677 Acc: 0.6571\n",
      "Epoch 89/150 | train |  Loss: 0.2976 Acc: 0.5714\n",
      "Epoch 90/150 | train |  Loss: 0.5917 Acc: 0.5714\n",
      "Epoch 91/150 | train |  Loss: 0.3174 Acc: 0.6571\n",
      "Epoch 92/150 | train |  Loss: 0.4206 Acc: 0.5429\n",
      "Epoch 93/150 | train |  Loss: 0.4369 Acc: 0.6000\n",
      "Epoch 94/150 | train |  Loss: 0.4230 Acc: 0.5429\n",
      "Epoch 95/150 | train |  Loss: 0.2220 Acc: 0.6571\n",
      "Epoch 96/150 | train |  Loss: 0.5690 Acc: 0.6000\n",
      "Epoch 97/150 | train |  Loss: 0.3027 Acc: 0.5714\n",
      "Epoch 98/150 | train |  Loss: 0.5201 Acc: 0.5143\n",
      "Epoch 99/150 | train |  Loss: 0.3549 Acc: 0.6000\n",
      "Epoch 100/150 | train |  Loss: 0.3601 Acc: 0.6571\n",
      "Epoch 101/150 | train |  Loss: 0.3965 Acc: 0.6286\n",
      "Epoch 102/150 | train |  Loss: 0.3965 Acc: 0.4571\n",
      "Epoch 103/150 | train |  Loss: 0.2298 Acc: 0.6571\n",
      "Epoch 104/150 | train |  Loss: 0.4138 Acc: 0.6857\n",
      "Epoch 105/150 | train |  Loss: 0.4635 Acc: 0.5143\n",
      "Epoch 106/150 | train |  Loss: 0.5957 Acc: 0.5143\n",
      "Epoch 107/150 | train |  Loss: 0.3718 Acc: 0.6000\n",
      "Epoch 108/150 | train |  Loss: 0.3692 Acc: 0.6000\n",
      "Epoch 109/150 | train |  Loss: 0.5293 Acc: 0.5143\n",
      "Epoch 110/150 | train |  Loss: 0.4765 Acc: 0.5429\n",
      "Epoch 111/150 | train |  Loss: 0.4820 Acc: 0.6000\n",
      "Epoch 112/150 | train |  Loss: 0.3974 Acc: 0.5429\n",
      "Epoch 113/150 | train |  Loss: 0.2918 Acc: 0.7143\n",
      "Epoch 114/150 | train |  Loss: 0.4697 Acc: 0.5143\n",
      "Epoch 115/150 | train |  Loss: 0.3910 Acc: 0.4857\n",
      "Epoch 116/150 | train |  Loss: 0.2498 Acc: 0.7429\n",
      "Epoch 117/150 | train |  Loss: 0.4003 Acc: 0.5429\n",
      "Epoch 118/150 | train |  Loss: 0.5266 Acc: 0.4000\n",
      "Epoch 119/150 | train |  Loss: 0.3666 Acc: 0.5714\n",
      "Epoch 120/150 | train |  Loss: 0.3669 Acc: 0.6857\n",
      "Epoch 121/150 | train |  Loss: 0.3577 Acc: 0.6000\n",
      "Epoch 122/150 | train |  Loss: 0.3451 Acc: 0.5714\n",
      "Epoch 123/150 | train |  Loss: 0.4702 Acc: 0.4000\n",
      "Epoch 124/150 | train |  Loss: 0.3624 Acc: 0.7143\n",
      "Epoch 125/150 | train |  Loss: 0.4647 Acc: 0.6571\n",
      "Epoch 126/150 | train |  Loss: 0.4018 Acc: 0.6857\n",
      "Epoch 127/150 | train |  Loss: 0.3623 Acc: 0.6286\n",
      "Epoch 128/150 | train |  Loss: 0.5666 Acc: 0.5429\n",
      "Epoch 129/150 | train |  Loss: 0.6768 Acc: 0.4286\n",
      "Epoch 130/150 | train |  Loss: 0.3887 Acc: 0.6286\n",
      "Epoch 131/150 | train |  Loss: 0.3289 Acc: 0.6000\n",
      "Epoch 132/150 | train |  Loss: 0.4947 Acc: 0.4571\n",
      "Epoch 133/150 | train |  Loss: 0.4398 Acc: 0.5143\n",
      "Epoch 134/150 | train |  Loss: 0.5654 Acc: 0.6000\n",
      "Epoch 135/150 | train |  Loss: 0.3009 Acc: 0.6286\n",
      "Epoch 136/150 | train |  Loss: 0.4485 Acc: 0.5143\n",
      "Epoch 137/150 | train |  Loss: 0.3647 Acc: 0.6000\n",
      "Epoch 138/150 | train |  Loss: 0.3666 Acc: 0.6571\n",
      "Epoch 139/150 | train |  Loss: 0.3924 Acc: 0.4286\n",
      "Epoch 140/150 | train |  Loss: 0.4322 Acc: 0.5714\n",
      "Epoch 141/150 | train |  Loss: 0.3667 Acc: 0.5714\n",
      "Epoch 142/150 | train |  Loss: 0.5700 Acc: 0.5714\n",
      "Epoch 143/150 | train |  Loss: 0.3143 Acc: 0.6286\n",
      "Epoch 144/150 | train |  Loss: 0.3187 Acc: 0.6000\n",
      "Epoch 145/150 | train |  Loss: 0.3612 Acc: 0.6000\n",
      "Epoch 146/150 | train |  Loss: 0.3876 Acc: 0.5143\n",
      "Epoch 147/150 | train |  Loss: 0.2864 Acc: 0.7714\n",
      "Epoch 148/150 | train |  Loss: 0.3726 Acc: 0.6286\n",
      "Epoch 149/150 | train |  Loss: 0.3970 Acc: 0.6000\n",
      "Epoch 150/150 | train |  Loss: 0.3212 Acc: 0.6286\n"
     ]
    }
   ],
   "source": [
    "# 学習・検証を実行する 15分ほどかかります\n",
    "num_epochs = 150\n",
    "net_trained = train_model(net, dataloaders_dict,\n",
    "                          criterion, optimizer, num_epochs=num_epochs)"
   ]
  },
  {
   "cell_type": "markdown",
   "metadata": {},
   "source": [
    "# 精度の確認"
   ]
  },
  {
   "cell_type": "code",
   "execution_count": 828,
   "metadata": {},
   "outputs": [
    {
     "name": "stdout",
     "output_type": "stream",
     "text": [
      "35\n"
     ]
    }
   ],
   "source": [
    "print(dataset[:][0].shape[0])"
   ]
  },
  {
   "cell_type": "code",
   "execution_count": 836,
   "metadata": {},
   "outputs": [
    {
     "name": "stdout",
     "output_type": "stream",
     "text": [
      "tensor([[[ 0.0000,  0.0000,  0.0000,  ...,  0.0000,  0.0000,  0.0000],\n",
      "         [ 0.0000,  0.0000,  0.0000,  ...,  0.0000,  0.0000,  0.0000],\n",
      "         [ 9.2809, 11.8534,  0.0871,  ...,  0.2215, -2.8174,  6.0727],\n",
      "         ...,\n",
      "         [-4.2335,  3.7322,  0.7276,  ...,  1.8061,  0.1044,  1.5744],\n",
      "         [-4.4553,  3.4119,  0.0133,  ...,  2.0784, -0.7955,  2.0905],\n",
      "         [-4.7545,  3.3176, -0.6290,  ...,  2.2053, -1.7590,  2.5436]]])\n"
     ]
    }
   ],
   "source": [
    "batch = next(iter(dataloader))\n",
    "print(batch[0])"
   ]
  },
  {
   "cell_type": "code",
   "execution_count": 839,
   "metadata": {},
   "outputs": [],
   "source": [
    "test_dataloader = torch.utils.data.DataLoader(dataset, batch_size=dataset[:][0].shape[0])\n",
    "\n",
    "\n",
    "batch = next(iter(test_dataloader))\n",
    "inputs = batch[0].to(device)  # 文章\n",
    "\n",
    "# mask作成\n",
    "input_pad = 1  # 単語のIDにおいて、'<pad>': 1 なので\n",
    "input_mask = (inputs != input_pad)\n",
    "\n",
    "# Transformerに入力\n",
    "outputs, _, __ = net_trained(inputs, input_mask)"
   ]
  },
  {
   "cell_type": "code",
   "execution_count": 893,
   "metadata": {},
   "outputs": [
    {
     "name": "stdout",
     "output_type": "stream",
     "text": [
      "[ 2.909889    2.4394362   2.722674    3.5028772   3.164179    2.644692\n",
      "  2.277336    2.921031    3.0861044   1.9221671   2.6151156   1.5316896\n",
      "  1.83019     1.3610053   2.0275881   2.0546308   1.7874298   1.0868149\n",
      "  1.0061114   1.3471127   0.33213925  1.8020635   0.791824    0.9860859\n",
      "  1.798842    0.8050499   0.53445005  0.73453283 -0.08197969  0.2702129\n",
      "  0.4352759   0.02622473  0.28165293  1.0443665   0.06181079]\n",
      "[3 3 3 3 3 3 3 3 3 2 2 2 2 2 2 2 2 1 1 1 1 1 1 1 1 1 0 0 0 0 0 0 0 0 0]\n"
     ]
    }
   ],
   "source": [
    "print(np.array(outputs[:, 0]))\n",
    "print(np.array(batch[1]))"
   ]
  },
  {
   "cell_type": "markdown",
   "metadata": {
    "id": "ZN2SeFtLHbyT"
   },
   "source": [
    "# SaveModel"
   ]
  },
  {
   "cell_type": "code",
   "execution_count": 897,
   "metadata": {},
   "outputs": [
    {
     "name": "stdout",
     "output_type": "stream",
     "text": [
      "テストデータ35個での正解率：0.6857\n"
     ]
    }
   ],
   "source": [
    "# device\n",
    "device = torch.device(\"cuda:0\" if torch.cuda.is_available() else \"cpu\")\n",
    "\n",
    "net_trained.eval()   # モデルを検証モードに\n",
    "net_trained.to(device)\n",
    "\n",
    "epoch_corrects = 0  # epochの正解数\n",
    "\n",
    "test_dataloader = torch.utils.data.DataLoader(dataset, batch_size=60)\n",
    "\n",
    "for batch in (test_dataloader):  # testデータのDataLoader\n",
    "    # batchはTextとLableの辞書オブジェクト\n",
    "    \n",
    "    # GPUが使えるならGPUにデータを送る\n",
    "    inputs = batch[0].to(device)  # 文章\n",
    "    labels = batch[1].to(device)  # ラベル\n",
    "\n",
    "    # 順伝搬（forward）計算\n",
    "    with torch.set_grad_enabled(False):\n",
    "\n",
    "        # mask作成\n",
    "        input_pad = 1  # 単語のIDにおいて、'<pad>': 1 なので\n",
    "        input_mask = (inputs != input_pad)\n",
    "\n",
    "        # Transformerに入力\n",
    "        outputs, attn_weights1, fc_weight = net_trained(inputs, input_mask)\n",
    "        preds = torch.round(outputs)  # ラベルを予測\n",
    "\n",
    "        # 結果の計算\n",
    "        # 正解数の合計を更新\n",
    "        # print(preds[:, 0].int() == labels.data)\n",
    "        # print(preds[:, 0].int())\n",
    "        # print(labels.data)\n",
    "        # print(torch.sum(preds.int() == labels.data))\n",
    "        epoch_corrects += torch.sum(preds[:, 0].int() == labels.data)\n",
    "\n",
    "# 正解率\n",
    "epoch_acc = epoch_corrects.double() / len(test_dataloader.dataset)\n",
    "\n",
    "print('テストデータ{}個での正解率：{:.4f}'.format(len(dataloader.dataset),epoch_acc))"
   ]
  },
  {
   "cell_type": "code",
   "execution_count": 896,
   "metadata": {},
   "outputs": [
    {
     "data": {
      "text/plain": [
       "<matplotlib.collections.PathCollection at 0x28a9e7e80>"
      ]
     },
     "execution_count": 896,
     "metadata": {},
     "output_type": "execute_result"
    },
    {
     "data": {
      "image/png": "[encoded data removed]",
      "text/plain": [
       "<Figure size 432x288 with 1 Axes>"
      ]
     },
     "metadata": {
      "needs_background": "light"
     },
     "output_type": "display_data"
    }
   ],
   "source": [
    "# サンプルごとに代償動作の度合いをセッティングしてみる\n",
    "preds = np.array(outputs[:, 0])\n",
    "ans = np.array(batch[1])\n",
    "plt.scatter(ans, preds)"
   ]
  },
  {
   "cell_type": "code",
   "execution_count": 898,
   "metadata": {},
   "outputs": [],
   "source": [
    "# import seaborn as sns\n",
    "# from sklearn.metrics import confusion_matrix\n",
    "\n",
    "\n",
    "# preds_heat = np.array(preds)\n",
    "# trues_heat = np.array(torch.argmax(labels.data, dim=1))\n",
    "# # preds_heat[0] = \"3A\"\n",
    "# print(preds_heat)\n",
    "# print(trues_heat)\n",
    "\n",
    "# heat = confusion_matrix(trues_heat, preds_heat)\n",
    "# print(heat)\n",
    "\n",
    "# plt.rcParams[\"font.family\"] = \"Times New Roman\"   # 使用するフォント\n",
    "# plt.rcParams[\"font.size\"] = 20        \n",
    "\n",
    "# fig, ax = plt.subplots(figsize=(8, 6))\n",
    "# xtics = [\"3\", \"2A\", \"2B\", \"2C\"]\n",
    "# ytics = [\"3\", \"2A\", \"2B\", \"2C\"]\n",
    "# # Set the palette using the name of a palette:\n",
    "# sns.heatmap(heat, annot=True, xticklabels=xtics, yticklabels=ytics, cmap=\"Blues\", cbar=False)\n",
    "# #*以下2行がポイント*  X,Y軸ラベルを追加\n",
    "# plt.xlabel(\"Predicted\")\n",
    "# plt.ylabel(\"Actual\")\n",
    "# #グラフをはみ出さないようにして画面に出力\n",
    "# plt.tight_layout()\n",
    "# fig.savefig(\"nn-heatmap.pdf\")\n",
    "# plt.show()"
   ]
  },
  {
   "cell_type": "code",
   "execution_count": 899,
   "metadata": {},
   "outputs": [
    {
     "name": "stdout",
     "output_type": "stream",
     "text": [
      "torch.Size([35, 101, 12])\n",
      "(100,)\n"
     ]
    }
   ],
   "source": [
    "print(X.shape)\n",
    "print(np.array(X[0, 1:, 0]).shape)"
   ]
  },
  {
   "cell_type": "code",
   "execution_count": 900,
   "metadata": {},
   "outputs": [
    {
     "data": {
      "image/png": "[encoded data removed]",
      "text/plain": [
       "<Figure size 1440x72 with 2 Axes>"
      ]
     },
     "metadata": {
      "needs_background": "light"
     },
     "output_type": "display_data"
    }
   ],
   "source": [
    "extract_weight = np.array(attn_weights1[15, 0, 1:]).reshape(1, -1)\n",
    "\n",
    "fig, ax = plt.subplots(figsize=(20, 1))\n",
    "# Set the palette using the name of a palette:\n",
    "sns.heatmap(extract_weight, cmap='OrRd')\n",
    "plt.show()"
   ]
  },
  {
   "cell_type": "code",
   "execution_count": 901,
   "metadata": {},
   "outputs": [
    {
     "name": "stdout",
     "output_type": "stream",
     "text": [
      "(100,)\n"
     ]
    },
    {
     "name": "stderr",
     "output_type": "stream",
     "text": [
      "/Users/kento/miniforge3/envs/torch/lib/python3.8/site-packages/seaborn/_decorators.py:36: FutureWarning: Pass the following variables as keyword args: x, y. From version 0.12, the only valid positional argument will be `data`, and passing other arguments without an explicit keyword will result in an error or misinterpretation.\n",
      "  warnings.warn(\n"
     ]
    },
    {
     "data": {
      "image/png": "[encoded data removed]",
      "text/plain": [
       "<Figure size 1080x720 with 2 Axes>"
      ]
     },
     "metadata": {
      "needs_background": "light"
     },
     "output_type": "display_data"
    }
   ],
   "source": [
    "from matplotlib import gridspec\n",
    "\n",
    "extract_data = np.array(X[19, 1:, 1]).flatten()\n",
    "print(extract_data.shape)\n",
    "\n",
    "\n",
    "time = np.linspace(0, 100, 100)\n",
    "fig, ax = plt.subplots(2, 1, gridspec_kw={'height_ratios': [6, 1]}, figsize=(15,10))\n",
    "# Set the palette using the name of a palette:\n",
    "sns.lineplot(time, extract_data, ax=ax[0])\n",
    "sns.heatmap(extract_weight, cmap='OrRd', cbar=False, ax=ax[1])\n",
    "\n",
    "plt.show()"
   ]
  },
  {
   "cell_type": "code",
   "execution_count": 902,
   "metadata": {},
   "outputs": [
    {
     "name": "stdout",
     "output_type": "stream",
     "text": [
      "(35, 101)\n",
      "(35, 101)\n"
     ]
    },
    {
     "data": {
      "image/png": "[encoded data removed]",
      "text/plain": [
       "<Figure size 2160x1440 with 2 Axes>"
      ]
     },
     "metadata": {
      "needs_background": "light"
     },
     "output_type": "display_data"
    }
   ],
   "source": [
    "import seaborn as sns\n",
    "\n",
    "data = np.array(attn_weights1[:, 0, :])\n",
    "print(data.shape)\n",
    "data = data.reshape(attn_weights1.shape[0], -1)\n",
    "\n",
    "# print(outputs)\n",
    "print(data.shape)\n",
    "\n",
    "fig, ax = plt.subplots(figsize=(30, 20))\n",
    "# Set the palette using the name of a palette:\n",
    "sns.heatmap(data, cmap='OrRd')\n",
    "plt.show()"
   ]
  },
  {
   "cell_type": "markdown",
   "metadata": {
    "id": "jbC1HozPH0tb",
    "tags": []
   },
   "source": [
    "# Extract model weights"
   ]
  },
  {
   "cell_type": "code",
   "execution_count": null,
   "metadata": {
    "executionInfo": {
     "elapsed": 243,
     "status": "ok",
     "timestamp": 1636988716444,
     "user": {
      "displayName": "Kento Suzuki",
      "photoUrl": "https://lh3.googleusercontent.com/a/default-user=s64",
      "userId": "16345288529127918743"
     },
     "user_tz": -540
    },
    "id": "pPIcNwFDHz2L"
   },
   "outputs": [],
   "source": [
    "from keras.models import Model\n",
    "layer_name = 'multi_head_attention_10'\n",
    "hidden_layer_model = Model(inputs=model.input, outputs=model.get_layer(layer_name).output)"
   ]
  },
  {
   "cell_type": "code",
   "execution_count": null,
   "metadata": {
    "colab": {
     "base_uri": "https://localhost:8080/"
    },
    "executionInfo": {
     "elapsed": 220,
     "status": "ok",
     "timestamp": 1636988755695,
     "user": {
      "displayName": "Kento Suzuki",
      "photoUrl": "https://lh3.googleusercontent.com/a/default-user=s64",
      "userId": "16345288529127918743"
     },
     "user_tz": -540
    },
    "id": "F4N5RsTJIb2f",
    "outputId": "dc80e945-cae7-4c9c-a7be-82a1a23ee9ac"
   },
   "outputs": [],
   "source": [
    "hidden_output = hidden_layer_model.predict(x_train)\n",
    "hidden_output.shape"
   ]
  },
  {
   "cell_type": "code",
   "execution_count": null,
   "metadata": {
    "colab": {
     "base_uri": "https://localhost:8080/"
    },
    "executionInfo": {
     "elapsed": 228,
     "status": "ok",
     "timestamp": 1636990089797,
     "user": {
      "displayName": "Kento Suzuki",
      "photoUrl": "https://lh3.googleusercontent.com/a/default-user=s64",
      "userId": "16345288529127918743"
     },
     "user_tz": -540
    },
    "id": "jxw_sOozKZ-J",
    "outputId": "6248c723-a08e-4a39-c994-f9c1a144e666"
   },
   "outputs": [],
   "source": [
    "weights = model.get_layer(layer_name).get_weights()\n",
    "# print(weights)\n",
    "print(type(weights))\n",
    "print(len(weights))\n",
    "print(weights[0].shape)\n",
    "print(weights[0][0].shape)"
   ]
  },
  {
   "cell_type": "code",
   "execution_count": null,
   "metadata": {
    "colab": {
     "base_uri": "https://localhost:8080/"
    },
    "executionInfo": {
     "elapsed": 248,
     "status": "ok",
     "timestamp": 1636988842788,
     "user": {
      "displayName": "Kento Suzuki",
      "photoUrl": "https://lh3.googleusercontent.com/a/default-user=s64",
      "userId": "16345288529127918743"
     },
     "user_tz": -540
    },
    "id": "1HoX9tiwIzs_",
    "outputId": "a9ee7ff0-f2a7-4327-e0a2-24e588717bd1"
   },
   "outputs": [],
   "source": [
    "print(hidden_output[0, :, :])"
   ]
  },
  {
   "cell_type": "markdown",
   "metadata": {
    "id": "4-yzJPijYTp2"
   },
   "source": [
    "## Conclusions\n",
    "\n",
    "In about 110-120 epochs (25s each on Colab), the model reaches a training\n",
    "accuracy of ~0.95, validation accuracy of ~84 and a testing\n",
    "accuracy of ~85, without hyperparameter tuning. And that is for a model\n",
    "with less than 100k parameters. Of course, parameter count and accuracy could be\n",
    "improved by a hyperparameter search and a more sophisticated learning rate\n",
    "schedule, or a different optimizer."
   ]
  },
  {
   "cell_type": "code",
   "execution_count": 294,
   "metadata": {
    "colab": {
     "base_uri": "https://localhost:8080/",
     "height": 1000
    },
    "executionInfo": {
     "elapsed": 789,
     "status": "ok",
     "timestamp": 1636988161206,
     "user": {
      "displayName": "Kento Suzuki",
      "photoUrl": "https://lh3.googleusercontent.com/a/default-user=s64",
      "userId": "16345288529127918743"
     },
     "user_tz": -540
    },
    "id": "u-w4Btsihm7E",
    "outputId": "f3ea6647-9d02-4a8e-bbfe-ed7b097fcc9f"
   },
   "outputs": [
    {
     "ename": "NameError",
     "evalue": "name 'model' is not defined",
     "output_type": "error",
     "traceback": [
      "\u001b[0;31m---------------------------------------------------------------------------\u001b[0m",
      "\u001b[0;31mNameError\u001b[0m                                 Traceback (most recent call last)",
      "\u001b[0;32m/var/folders/yt/fsd0dzhn23z2jcmc2hrkjcn00000gn/T/ipykernel_31743/3317844632.py\u001b[0m in \u001b[0;36m<module>\u001b[0;34m\u001b[0m\n\u001b[1;32m      2\u001b[0m \u001b[0;32mimport\u001b[0m \u001b[0mseaborn\u001b[0m \u001b[0;32mas\u001b[0m \u001b[0msns\u001b[0m\u001b[0;34m\u001b[0m\u001b[0;34m\u001b[0m\u001b[0m\n\u001b[1;32m      3\u001b[0m \u001b[0;34m\u001b[0m\u001b[0m\n\u001b[0;32m----> 4\u001b[0;31m \u001b[0mpred\u001b[0m \u001b[0;34m=\u001b[0m \u001b[0mmodel\u001b[0m\u001b[0;34m.\u001b[0m\u001b[0mpredict\u001b[0m\u001b[0;34m(\u001b[0m\u001b[0mx_train\u001b[0m\u001b[0;34m)\u001b[0m\u001b[0;34m\u001b[0m\u001b[0;34m\u001b[0m\u001b[0m\n\u001b[0m\u001b[1;32m      5\u001b[0m \u001b[0;31m# print(pred)\u001b[0m\u001b[0;34m\u001b[0m\u001b[0;34m\u001b[0m\u001b[0;34m\u001b[0m\u001b[0m\n\u001b[1;32m      6\u001b[0m \u001b[0;31m# print(y_test)\u001b[0m\u001b[0;34m\u001b[0m\u001b[0;34m\u001b[0m\u001b[0;34m\u001b[0m\u001b[0m\n",
      "\u001b[0;31mNameError\u001b[0m: name 'model' is not defined"
     ]
    }
   ],
   "source": [
    "from sklearn.metrics import confusion_matrix\n",
    "import seaborn as sns\n",
    "\n",
    "pred = model.predict(x_train)\n",
    "# print(pred)\n",
    "# print(y_test)\n",
    "test_seed = np.argmax(y_train, axis=1)\n",
    "onehot_pred_seed = np.argmax(pred, axis=1)\n",
    "onehot_pred = np.zeros((len(y_train), n_classes))\n",
    "\n",
    "for i in range(len(y_train)):\n",
    "    onehot_pred[i, onehot_pred_seed[i]] = 1\n",
    "print(onehot_pred)\n",
    "\n",
    "plt.figure()\n",
    "# sns.heatmap(pred)\n",
    "\n",
    "labels = sorted(list(set(test_seed)))\n",
    "c_mtx = confusion_matrix(test_seed, onehot_pred_seed)\n",
    "print(c_mtx)\n",
    "df_cmx = pd.DataFrame(c_mtx, index=labels, columns=labels)\n",
    "\n",
    "plt.figure(figsize = (10,7))\n",
    "sns.heatmap(df_cmx, annot=True, cmap='Blues')\n",
    "plt.show()"
   ]
  },
  {
   "cell_type": "code",
   "execution_count": null,
   "metadata": {
    "executionInfo": {
     "elapsed": 4,
     "status": "aborted",
     "timestamp": 1636987416079,
     "user": {
      "displayName": "Kento Suzuki",
      "photoUrl": "https://lh3.googleusercontent.com/a/default-user=s64",
      "userId": "16345288529127918743"
     },
     "user_tz": -540
    },
    "id": "OUiQHbal2gsr"
   },
   "outputs": [],
   "source": [
    "\n",
    "\n",
    "pred = model.predict(x_test)\n",
    "mask = pred[:, 0] > 0.7\n",
    "print(mask)\n",
    "prediction = np.ones(len(pred))\n",
    "prediction[mask] = int(0)\n",
    "print(prediction)\n",
    "print(y_test)\n",
    "\n",
    "# confusion_matrix(y_test, prediction)"
   ]
  },
  {
   "cell_type": "code",
   "execution_count": null,
   "metadata": {
    "executionInfo": {
     "elapsed": 4,
     "status": "aborted",
     "timestamp": 1636987416079,
     "user": {
      "displayName": "Kento Suzuki",
      "photoUrl": "https://lh3.googleusercontent.com/a/default-user=s64",
      "userId": "16345288529127918743"
     },
     "user_tz": -540
    },
    "id": "hdDBIonZ23ev"
   },
   "outputs": [],
   "source": [
    "from sklearn.metrics import roc_curve\n",
    "\n",
    "fpr, tpr, thresholds = roc_curve(y_test, pred[:, 1])\n",
    "plt.plot(fpr, tpr, marker='o')\n",
    "plt.xlabel('FPR: False positive rate')\n",
    "plt.ylabel('TPR: True positive rate')\n",
    "plt.grid()\n",
    "# plt.savefig('data/dst/sklearn_roc_curve.png')\n"
   ]
  },
  {
   "cell_type": "code",
   "execution_count": null,
   "metadata": {
    "executionInfo": {
     "elapsed": 4,
     "status": "aborted",
     "timestamp": 1636987416079,
     "user": {
      "displayName": "Kento Suzuki",
      "photoUrl": "https://lh3.googleusercontent.com/a/default-user=s64",
      "userId": "16345288529127918743"
     },
     "user_tz": -540
    },
    "id": "sX7EPGApCVeK"
   },
   "outputs": [],
   "source": []
  }
 ],
 "metadata": {
  "accelerator": "GPU",
  "colab": {
   "collapsed_sections": [],
   "name": "timeseries_transformer_classification.ipynb",
   "provenance": [
    {
     "file_id": "https://github.com/keras-team/keras-io/blob/master/examples/timeseries/ipynb/timeseries_classification_transformer.ipynb",
     "timestamp": 1636355482830
    }
   ]
  },
  "kernelspec": {
   "display_name": "Python 3 (ipykernel)",
   "language": "python",
   "name": "python3"
  },
  "language_info": {
   "codemirror_mode": {
    "name": "ipython",
    "version": 3
   },
   "file_extension": ".py",
   "mimetype": "text/x-python",
   "name": "python",
   "nbconvert_exporter": "python",
   "pygments_lexer": "ipython3",
   "version": "3.8.12"
  }
 },
 "nbformat": 4,
 "nbformat_minor": 4
}
