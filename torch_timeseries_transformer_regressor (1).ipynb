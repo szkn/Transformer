{
 "cells": [
  {
   "cell_type": "markdown",
   "metadata": {
    "id": "zyRQwYrEYTpv"
   },
   "source": [
    "# Timeseries classification with a Transformer model\n",
    "\n",
    "**Author:** [Theodoros Ntakouris](https://github.com/ntakouris)<br>\n",
    "**Date created:** 2021/06/25<br>\n",
    "**Last modified:** 2021/08/05<br>\n",
    "**Description:** This notebook demonstrates how to do timeseries classification using a Transformer model."
   ]
  },
  {
   "cell_type": "markdown",
   "metadata": {
    "id": "5t2B6-7DYTpx"
   },
   "source": [
    "# Introduction\n",
    "\n",
    "This is the Transformer architecture from\n",
    "[Attention Is All You Need](https://arxiv.org/abs/1706.03762),\n",
    "applied to timeseries instead of natural language.\n",
    "\n",
    "This example requires TensorFlow 2.4 or higher.\n",
    "\n",
    "## Load the dataset\n",
    "\n",
    "We are going to use the same dataset and preprocessing as the\n",
    "[TimeSeries Classification from Scratch](https://keras.io/examples/timeseries/timeseries_classification_from_scratch)\n",
    "example."
   ]
  },
  {
   "cell_type": "code",
   "execution_count": 1,
   "metadata": {
    "executionInfo": {
     "elapsed": 843,
     "status": "ok",
     "timestamp": 1636987406075,
     "user": {
      "displayName": "Kento Suzuki",
      "photoUrl": "https://lh3.googleusercontent.com/a/default-user=s64",
      "userId": "16345288529127918743"
     },
     "user_tz": -540
    },
    "id": "dO5GxI7RzXIc"
   },
   "outputs": [],
   "source": [
    "import os\n",
    "import sys\n",
    "import csv\n",
    "import math\n",
    "import json\n",
    "import glob\n",
    "import random\n",
    "import numpy as np\n",
    "import pandas as pd\n",
    "from tqdm import tqdm\n",
    "import matplotlib.pyplot as plt\n",
    "from scipy import interpolate\n",
    "from sklearn.model_selection import train_test_split\n",
    "\n",
    "import torch\n",
    "import torch.nn as nn\n",
    "import torch.nn.functional as F\n",
    "import torch.optim as optim\n",
    "\n",
    "%matplotlib inline\n",
    "\n",
    "# sys.path.append(os.path.abspath(\"..\"))\n",
    "# import scripts.compensate\n",
    "# import scripts.kinectImg2video\n",
    "# from scripts.conpemsate_suppresser import *\n",
    "# from scripts.ground_angle_analysis import ground_shoulder_angle_analyzer\n",
    "# import scripts.ground_angle_analysis"
   ]
  },
  {
   "cell_type": "code",
   "execution_count": 2,
   "metadata": {},
   "outputs": [],
   "source": [
    "# Setup seeds\n",
    "torch.manual_seed(1234)\n",
    "np.random.seed(1234)\n",
    "random.seed(1234)"
   ]
  },
  {
   "cell_type": "code",
   "execution_count": 6,
   "metadata": {
    "executionInfo": {
     "elapsed": 10,
     "status": "ok",
     "timestamp": 1636987406076,
     "user": {
      "displayName": "Kento Suzuki",
      "photoUrl": "https://lh3.googleusercontent.com/a/default-user=s64",
      "userId": "16345288529127918743"
     },
     "user_tz": -540
    },
    "id": "GZlVgJy1zXIc"
   },
   "outputs": [],
   "source": [
    "l_filepath = sorted(glob.glob(\"/Users/kento/kuhp/research/Kinect_data/1103_act_myself/jointdata_csv/*.csv\"))\n",
    "# l_filepath = sorted(glob.glob(\"/content/drive/MyDrive/research/Kinect_data/1103_act_myself/jointdata_csv/*.csv\"))"
   ]
  },
  {
   "cell_type": "code",
   "execution_count": 8,
   "metadata": {
    "executionInfo": {
     "elapsed": 6,
     "status": "ok",
     "timestamp": 1636987406077,
     "user": {
      "displayName": "Kento Suzuki",
      "photoUrl": "https://lh3.googleusercontent.com/a/default-user=s64",
      "userId": "16345288529127918743"
     },
     "user_tz": -540
    },
    "id": "bDyYdnnVzXId"
   },
   "outputs": [],
   "source": [
    "# def read_csv(file_name):\n",
    "#     l_all_data = []\n",
    "#     with open(l_filepath[0], encoding='utf8') as f:\n",
    "#         csvreader = csv.reader(f)\n",
    "#         for row in csvreader:\n",
    "#             l_all_data.append(row)\n",
    "#     return l_all_data"
   ]
  },
  {
   "cell_type": "code",
   "execution_count": 9,
   "metadata": {
    "executionInfo": {
     "elapsed": 7,
     "status": "ok",
     "timestamp": 1636987406078,
     "user": {
      "displayName": "Kento Suzuki",
      "photoUrl": "https://lh3.googleusercontent.com/a/default-user=s64",
      "userId": "16345288529127918743"
     },
     "user_tz": -540
    },
    "id": "IIUUVLyhzXIe",
    "tags": []
   },
   "outputs": [],
   "source": [
    "#ファイル名からスコアを取得して，dfを返す関数 \n",
    "def read_csv_add_score(filepath):\n",
    "    df = pd.read_csv(filepath, header=None)\n",
    "    #スコアの取得\n",
    "    score = filepath.split(\"-\")[1].split('.')[0]\n",
    "    df['score'] = score\n",
    "    return df\n",
    "\n",
    "def interpolate_df(df):\n",
    "    l = []\n",
    "    for i in range(98):\n",
    "        y_raw = df[i]\n",
    "        length = len(y_raw)\n",
    "\n",
    "        #rawデータを乗せる0→1のベクトルを作成する\n",
    "        second_raw = np.linspace(0, 1, length)\n",
    "\n",
    "        #新しく生成される0→1のベクトル(要素数200)\n",
    "        second_new = np.linspace(0, 1, 200)\n",
    "\n",
    "        f = interpolate.interp1d(second_raw, y_raw, kind='cubic')\n",
    "        y_new = f(second_new)\n",
    "        l.append(y_new)\n",
    "    df_new = pd.DataFrame(l).T\n",
    "    df_new['score'] = df['score'].mode()[0]\n",
    "    return df_new\n",
    "    \n",
    "def extract_joint(df, joint_name):\n",
    "    dic = joint_dict()\n",
    "    joint_id = dic[joint_name]\n",
    "    df_ex = df.loc[:, [joint_id, joint_id+1, joint_id+2]]\n",
    "    df_ex['score'] = df['score'].mode()[0] #scoreを引き継ぐ\n",
    "    return df_ex\n",
    "\n",
    "# 内部メソッド\n",
    "def joint_dict():\n",
    "    dic = {'Pelvis':2,'SpineNaval':5,'SpineChest':8, 'Neck':11, 'LClavicle':14, 'LShoulder':17, 'LElbow':20, 'LWrist':23, 'LHand':26, 'LHandTip':29, \n",
    "           'LThumb':32, 'RClavicle':35, 'RShoulder':38, 'RElbow':41, 'RWrist':44, 'RHand':47, 'RHandTip':50, 'RThumb':53, 'LHip':56, 'LKnee':59, \n",
    "           'LAnkle':62, 'LFoot':65, 'RHip':68, 'RKnee':71, 'RAnkle':74, 'RFoot':77, 'Head':80, 'Nose':83, 'LEye':86, 'LEar':89, 'REye':92, 'REar':95}\n",
    "    return dic\n",
    "\n",
    "def zscore(x, axis = None):\n",
    "    xmean = x.mean(axis=axis, keepdims=True)\n",
    "    xstd  = np.std(x, axis=axis, keepdims=True)\n",
    "    zscore = (x-xmean)/xstd\n",
    "    return zscore"
   ]
  },
  {
   "cell_type": "code",
   "execution_count": 10,
   "metadata": {
    "executionInfo": {
     "elapsed": 7,
     "status": "ok",
     "timestamp": 1636987406078,
     "user": {
      "displayName": "Kento Suzuki",
      "photoUrl": "https://lh3.googleusercontent.com/a/default-user=s64",
      "userId": "16345288529127918743"
     },
     "user_tz": -540
    },
    "id": "UtcP1iNDzXIf"
   },
   "outputs": [],
   "source": [
    "def create_pos_dataset(l_filepath, joint1_name, joint2_name):\n",
    "    for filepath in l_filepath:\n",
    "        df = read_csv_add_score(filepath)\n",
    "        df = interpolate_df(df)\n",
    "        dataset_joint1 = extract_joint(df, joint1_name)\n",
    "        dataset_joint2 = extract_joint(df, joint2_name)\n",
    "        \n",
    "        #複数のデータ間でscoreのndarray を作成する種\n",
    "        y_one = np.array([dataset_joint1['score'].mode()[0]], dtype=np.int64)\n",
    "        if 'y' in locals():\n",
    "            y = np.concatenate([y, y_one])\n",
    "        else:\n",
    "            y = y_one\n",
    "\n",
    "        #複数のデータ間で X データセットを作成する種\n",
    "        joint1 = dataset_joint1.iloc[:, 0:3].to_numpy()\n",
    "        joint1 = np.expand_dims(joint1, axis=0)\n",
    "\n",
    "        joint2 = dataset_joint2.iloc[:, 0:3].to_numpy()\n",
    "        joint2 = np.expand_dims(joint2, axis=0)\n",
    "\n",
    "        X_one = joint1 - joint2\n",
    "        \n",
    "        # Xにノルムを追加する\n",
    "        norm = np.linalg.norm(X_one, axis=2,ord=2)\n",
    "        norm = norm.reshape((1,-1,1))\n",
    "        X_one = np.concatenate((X_one, norm), axis=2)\n",
    "\n",
    "        if 'X' in locals():\n",
    "            X = np.concatenate([X, X_one])\n",
    "        else:\n",
    "            X = X_one\n",
    "            \n",
    "    return X, y"
   ]
  },
  {
   "cell_type": "code",
   "execution_count": 11,
   "metadata": {
    "colab": {
     "base_uri": "https://localhost:8080/"
    },
    "executionInfo": {
     "elapsed": 6212,
     "status": "ok",
     "timestamp": 1636987412283,
     "user": {
      "displayName": "Kento Suzuki",
      "photoUrl": "https://lh3.googleusercontent.com/a/default-user=s64",
      "userId": "16345288529127918743"
     },
     "user_tz": -540
    },
    "id": "QHqZEeQ-zXIf",
    "outputId": "e171c5d9-e013-4ff0-c100-39eda93ecb60"
   },
   "outputs": [],
   "source": [
    "X, y = create_pos_dataset(l_filepath, 'Neck', 'Pelvis')\n",
    "# 3分類\n",
    "# condition = y == 2\n",
    "# y[condition] = 0\n",
    "# condition = y == 25\n",
    "# y[condition] = 1\n",
    "# condition = y == 3\n",
    "# y[condition] = 2\n",
    "# # y[~condition] = 0\n",
    "\n",
    "# 二値分類\n",
    "condition = y == 3\n",
    "y[condition] = 1\n",
    "y[~condition] = 0\n",
    "\n",
    "X = zscore(X, axis=1)\n",
    "\n",
    "X = zscore(X, axis=1)"
   ]
  },
  {
   "cell_type": "code",
   "execution_count": 12,
   "metadata": {
    "colab": {
     "base_uri": "https://localhost:8080/"
    },
    "executionInfo": {
     "elapsed": 2335,
     "status": "ok",
     "timestamp": 1636987414597,
     "user": {
      "displayName": "Kento Suzuki",
      "photoUrl": "https://lh3.googleusercontent.com/a/default-user=s64",
      "userId": "16345288529127918743"
     },
     "user_tz": -540
    },
    "id": "k9FusOpOct7Z",
    "outputId": "53480609-b57f-45a1-c988-5f330dc69d11"
   },
   "outputs": [
    {
     "name": "stdout",
     "output_type": "stream",
     "text": [
      "2\n"
     ]
    }
   ],
   "source": [
    "from sklearn.preprocessing import OneHotEncoder\n",
    "# from tensorflow.keras.utils import to_categorical\n",
    "\n",
    "\n",
    "n_classes = len(np.unique(y))\n",
    "print(n_classes)\n",
    "\n",
    "# y_categorical = to_categorical(y)\n",
    "# enc = OneHotEncoder(categories=\"auto\", sparse=False, dtype=np.float32)\n",
    "# onehot_y = enc.fit_transform(y)\n",
    "\n",
    "\n",
    "# x_train, x_test, y_train, y_test = train_test_split(X, y, test_size=0.01, random_state=40) #splitバージョン \n",
    "x_train, y_train = X, y #splitしないバージョン\n",
    "\n",
    "\n",
    "### 先頭にclassification用のトークンを追加する\n",
    "score_train = np.zeros((x_train.shape[0], 1 , x_train.shape[2]))\n",
    "x_train = np.concatenate([score_train, x_train], axis=1)"
   ]
  },
  {
   "cell_type": "markdown",
   "metadata": {},
   "source": [
    "## PyTorchのdatasetの作成\n"
   ]
  },
  {
   "cell_type": "code",
   "execution_count": 13,
   "metadata": {},
   "outputs": [
    {
     "name": "stdout",
     "output_type": "stream",
     "text": [
      "(60, 201, 4)\n"
     ]
    }
   ],
   "source": [
    "print(x_train.shape)"
   ]
  },
  {
   "cell_type": "code",
   "execution_count": 14,
   "metadata": {},
   "outputs": [],
   "source": [
    "X = torch.tensor(x_train, dtype=torch.float32)\n",
    "y = torch.tensor(y_train, dtype=torch.int64)"
   ]
  },
  {
   "cell_type": "code",
   "execution_count": 15,
   "metadata": {
    "executionInfo": {
     "elapsed": 217,
     "status": "ok",
     "timestamp": 1636987552788,
     "user": {
      "displayName": "Kento Suzuki",
      "photoUrl": "https://lh3.googleusercontent.com/a/default-user=s64",
      "userId": "16345288529127918743"
     },
     "user_tz": -540
    },
    "id": "xdm8NB-cYTpy",
    "tags": []
   },
   "outputs": [],
   "source": [
    "dataset = torch.utils.data.TensorDataset(X, y)\n",
    "dataloader = torch.utils.data.DataLoader(dataset, batch_size=4)"
   ]
  },
  {
   "cell_type": "code",
   "execution_count": 16,
   "metadata": {},
   "outputs": [],
   "source": [
    "dataloaders_dict = {\"train\": dataloader, \"val\": dataloader}"
   ]
  },
  {
   "cell_type": "code",
   "execution_count": 17,
   "metadata": {
    "executionInfo": {
     "elapsed": 339,
     "status": "ok",
     "timestamp": 1636987554379,
     "user": {
      "displayName": "Kento Suzuki",
      "photoUrl": "https://lh3.googleusercontent.com/a/default-user=s64",
      "userId": "16345288529127918743"
     },
     "user_tz": -540
    },
    "id": "OXZm8Wkma2AI"
   },
   "outputs": [
    {
     "name": "stdout",
     "output_type": "stream",
     "text": [
      "tensor(3.5083)\n",
      "tensor(-3.6083)\n"
     ]
    }
   ],
   "source": [
    "batch = next(iter(dataloader))\n",
    "print(batch[0].max())\n",
    "print(batch[0].min())"
   ]
  },
  {
   "cell_type": "code",
   "execution_count": 18,
   "metadata": {
    "colab": {
     "base_uri": "https://localhost:8080/",
     "height": 270
    },
    "executionInfo": {
     "elapsed": 236,
     "status": "error",
     "timestamp": 1636987592056,
     "user": {
      "displayName": "Kento Suzuki",
      "photoUrl": "https://lh3.googleusercontent.com/a/default-user=s64",
      "userId": "16345288529127918743"
     },
     "user_tz": -540
    },
    "id": "2OL034kYaoAv",
    "outputId": "9266b2b2-5b7a-4fea-98ad-0af70ee98efe"
   },
   "outputs": [],
   "source": [
    "# import matplotlib.pyplot as plt\n",
    "\n",
    "# classes = np.unique(y, axis=0)\n",
    "# print(classes)\n",
    "\n",
    "# fig = plt.figure(figsize=(10, 15))\n",
    "\n",
    "# # 各点のプロットを行う\n",
    "# for i, item in enumerate([0, 10, 20]):\n",
    "#     c_x_train = x_train[item]\n",
    "#     # print(f\"class is {np.argmax(y_train[item])}\")\n",
    "#     fig.add_subplot(3, 1, i+1)\n",
    "#     plt.plot(c_x_train[:, :], label=[\"x\", \"y\", \"z\"])\n",
    "#     plt.title(f\"score {y_train[item]}\")\n",
    "#     plt.legend(loc=\"best\")\n",
    "#     plt.grid()\n",
    "\n",
    "# # 各点のプロットを行う\n",
    "# # c_x_train = x_train[10]\n",
    "# # print(f\"class is {np.argmax(y_train[11])}\")\n",
    "# # fig.add_subplot(3, 1, 2)\n",
    "# # plt.plot(c_x_train[:, :], label=[\"x\", \"y\", \"z\"])\n",
    "# # plt.legend(loc=\"best\")\n",
    "# # plt.grid()\n",
    "\n",
    "\n",
    "# plt.show()\n",
    "# plt.close()"
   ]
  },
  {
   "cell_type": "code",
   "execution_count": 19,
   "metadata": {
    "executionInfo": {
     "elapsed": 217,
     "status": "ok",
     "timestamp": 1636987600089,
     "user": {
      "displayName": "Kento Suzuki",
      "photoUrl": "https://lh3.googleusercontent.com/a/default-user=s64",
      "userId": "16345288529127918743"
     },
     "user_tz": -540
    },
    "id": "ig_O0FdsaaMg"
   },
   "outputs": [],
   "source": [
    "# print(y_train)"
   ]
  },
  {
   "cell_type": "code",
   "execution_count": 20,
   "metadata": {
    "colab": {
     "base_uri": "https://localhost:8080/"
    },
    "executionInfo": {
     "elapsed": 217,
     "status": "ok",
     "timestamp": 1636987650297,
     "user": {
      "displayName": "Kento Suzuki",
      "photoUrl": "https://lh3.googleusercontent.com/a/default-user=s64",
      "userId": "16345288529127918743"
     },
     "user_tz": -540
    },
    "id": "8vf0x--aaZjE",
    "outputId": "57c2d515-00a5-443a-b22e-6fa77d359e84"
   },
   "outputs": [
    {
     "name": "stdout",
     "output_type": "stream",
     "text": [
      "3\n"
     ]
    }
   ],
   "source": [
    "# x_train = x_train.reshape((x_train.shape[0], x_train.shape[1], 1))\n",
    "# x_test = x_test.reshape((x_test.shape[0], x_test.shape[1], 1))\n",
    "\n",
    "n_classes = len(np.unique(y_train))\n",
    "n_classes = 3\n",
    "print(n_classes)\n",
    "\n",
    "idx = np.random.permutation(len(x_train))\n",
    "x_train = x_train[idx]\n",
    "y_train = y_train[idx]\n",
    "\n",
    "# y_train[y_train == -1] = 0\n",
    "# y_test[y_test == -1] = 0"
   ]
  },
  {
   "cell_type": "markdown",
   "metadata": {
    "id": "UxW659H6YTpz"
   },
   "source": [
    "## Build the model\n",
    "\n",
    "Our model processes a tensor of shape `(batch size, sequence length, features)`,\n",
    "where `sequence length` is the number of time steps and `features` is each input\n",
    "timeseries.\n",
    "\n",
    "You can replace your classification RNN layers with this one: the\n",
    "inputs are fully compatible!"
   ]
  },
  {
   "cell_type": "markdown",
   "metadata": {
    "id": "urNK4ym-YTp0"
   },
   "source": [
    "We include residual connections, layer normalization, and dropout.\n",
    "The resulting layer can be stacked multiple times.\n",
    "\n",
    "The projection layers are implemented through `keras.layers.Conv1D`."
   ]
  },
  {
   "cell_type": "code",
   "execution_count": 21,
   "metadata": {},
   "outputs": [],
   "source": [
    "class PositionalEncoder(nn.Module):\n",
    "    '''入力された単語の位置を示すベクトル情報を付加する'''\n",
    "\n",
    "    def __init__(self, d_model=300, max_seq_len=256):\n",
    "        super().__init__()\n",
    "\n",
    "        self.d_model = d_model  # 単語ベクトルの次元数\n",
    "\n",
    "        # 単語の順番（pos）と埋め込みベクトルの次元の位置（i）によって一意に定まる値の表をpeとして作成\n",
    "        pe = torch.zeros(max_seq_len, d_model)\n",
    "\n",
    "        # GPUが使える場合はGPUへ送る、ここでは省略。実際に学習時には使用する\n",
    "        # device = torch.device(\"cuda:0\" if torch.cuda.is_available() else \"cpu\")\n",
    "        # pe = pe.to(device)\n",
    "\n",
    "        for pos in range(max_seq_len):\n",
    "            for i in range(0, d_model, 2):\n",
    "                pe[pos, i] = math.sin(pos / (10000 ** ((2 * i)/d_model)))\n",
    "                \n",
    "                # 誤植修正_200510 #79\n",
    "                # pe[pos, i + 1] = math.cos(pos /\n",
    "                #                          (10000 ** ((2 * (i + 1))/d_model)))\n",
    "                pe[pos, i + 1] = math.cos(pos /\n",
    "                                          (10000 ** ((2 * i)/d_model)))\n",
    "\n",
    "        # 表peの先頭に、ミニバッチ次元となる次元を足す\n",
    "        self.pe = pe.unsqueeze(0)\n",
    "\n",
    "        # 勾配を計算しないようにする\n",
    "        self.pe.requires_grad = False\n",
    "\n",
    "    def forward(self, x):\n",
    "\n",
    "        # 入力xとPositonal Encodingを足し算する\n",
    "        # xがpeよりも小さいので、大きくする\n",
    "        ret = math.sqrt(self.d_model)*x + self.pe\n",
    "        return ret\n"
   ]
  },
  {
   "cell_type": "code",
   "execution_count": 23,
   "metadata": {},
   "outputs": [
    {
     "name": "stdout",
     "output_type": "stream",
     "text": [
      "torch.Size([4, 201, 4])\n",
      "入力のテンソルサイズ： torch.Size([4, 201, 4])\n",
      "出力のテンソルサイズ： torch.Size([4, 201, 4])\n"
     ]
    }
   ],
   "source": [
    "# 動作確認\n",
    "\n",
    "# モデル構築\n",
    "net2 = PositionalEncoder(d_model=4, max_seq_len=201)\n",
    "\n",
    "# 入出力\n",
    "x1 = batch[0] \n",
    "print(x1.shape)\n",
    "x2 = net2(x1)\n",
    "\n",
    "print(\"入力のテンソルサイズ：\", x1.shape)\n",
    "print(\"出力のテンソルサイズ：\", x2.shape)\n"
   ]
  },
  {
   "cell_type": "code",
   "execution_count": 24,
   "metadata": {},
   "outputs": [],
   "source": [
    "class Attention(nn.Module):\n",
    "    def __init__(self, d_model=4):\n",
    "        super().__init__()\n",
    "\n",
    "        # SAGANでは1dConvを使用したが、今回は全結合層で特徴量を変換する\n",
    "        self.q_linear = nn.Linear(d_model, d_model)\n",
    "        self.v_linear = nn.Linear(d_model, d_model)\n",
    "        self.k_linear = nn.Linear(d_model, d_model)\n",
    "\n",
    "        # 出力時に使用する全結合層\n",
    "        self.out = nn.Linear(d_model, d_model)\n",
    "\n",
    "        # Attentionの大きさ調整の変数\n",
    "        self.d_k = d_model\n",
    "\n",
    "    def forward(self, q, k, v, mask):\n",
    "        # 全結合層で特徴量を変換\n",
    "        k = self.k_linear(k)\n",
    "        q = self.q_linear(q)\n",
    "        v = self.v_linear(v)\n",
    "\n",
    "        # Attentionの値を計算する\n",
    "        # 各値を足し算すると大きくなりすぎるので、root(d_k)で割って調整\n",
    "        weights = torch.matmul(q, k.transpose(1, 2)) / math.sqrt(self.d_k)\n",
    "\n",
    "        # ここでmaskを計算\n",
    "        # mask = mask.unsqueeze(1)\n",
    "        # print(mask)\n",
    "        # weights = weights.masked_fill(mask == 0, -1e9)\n",
    "\n",
    "        # softmaxで規格化をする\n",
    "        normlized_weights = F.softmax(weights, dim=-1)\n",
    "\n",
    "        # AttentionをValueとかけ算\n",
    "        output = torch.matmul(normlized_weights, v)\n",
    "\n",
    "        # 全結合層で特徴量を変換\n",
    "        output = self.out(output)\n",
    "\n",
    "        return output, normlized_weights\n"
   ]
  },
  {
   "cell_type": "code",
   "execution_count": 25,
   "metadata": {},
   "outputs": [],
   "source": [
    "class FeedForward(nn.Module):\n",
    "    def __init__(self, d_model, d_ff=1024, dropout=0.1):\n",
    "        '''Attention層から出力を単純に全結合層2つで特徴量を変換するだけのユニットです'''\n",
    "        super().__init__()\n",
    "\n",
    "        self.linear_1 = nn.Linear(d_model, d_ff)\n",
    "        self.dropout = nn.Dropout(dropout)\n",
    "        self.linear_2 = nn.Linear(d_ff, d_model)\n",
    "\n",
    "    def forward(self, x):\n",
    "        x = self.linear_1(x)\n",
    "        x = self.dropout(F.relu(x))\n",
    "        x = self.linear_2(x)\n",
    "        return x"
   ]
  },
  {
   "cell_type": "code",
   "execution_count": 26,
   "metadata": {},
   "outputs": [],
   "source": [
    "class TransformerBlock(nn.Module):\n",
    "    def __init__(self, d_model, dropout=0.1):\n",
    "        super().__init__()\n",
    "\n",
    "        # LayerNormalization層\n",
    "        # https://pytorch.org/docs/stable/nn.html?highlight=layernorm\n",
    "        self.norm_1 = nn.LayerNorm(d_model)\n",
    "        self.norm_2 = nn.LayerNorm(d_model)\n",
    "\n",
    "        # Attention層\n",
    "        self.attn = Attention(d_model)\n",
    "\n",
    "        # Attentionのあとの全結合層2つ\n",
    "        self.ff = FeedForward(d_model)\n",
    "\n",
    "        # Dropout\n",
    "        self.dropout_1 = nn.Dropout(dropout)\n",
    "        self.dropout_2 = nn.Dropout(dropout)\n",
    "\n",
    "    def forward(self, x, mask):\n",
    "        # 正規化とAttention\n",
    "        x_normlized = self.norm_1(x)\n",
    "        output, normlized_weights = self.attn(\n",
    "            x_normlized, x_normlized, x_normlized, mask)\n",
    "        \n",
    "        x2 = x + self.dropout_1(output)\n",
    "\n",
    "        # 正規化と全結合層\n",
    "        x_normlized2 = self.norm_2(x2)\n",
    "        output = x2 + self.dropout_2(self.ff(x_normlized2))\n",
    "\n",
    "        return output, normlized_weights\n"
   ]
  },
  {
   "cell_type": "code",
   "execution_count": 27,
   "metadata": {},
   "outputs": [
    {
     "name": "stdout",
     "output_type": "stream",
     "text": [
      "torch.Size([4, 201, 4])\n",
      "torch.Size([4, 201, 4])\n",
      "x2 shape is torch.Size([4, 201, 4]), input_mask shape is torch.Size([4, 201, 4])\n",
      "入力のテンソルサイズ： torch.Size([4, 201, 4])\n",
      "出力のテンソルサイズ： torch.Size([4, 201, 4])\n",
      "Attentionのサイズ： torch.Size([4, 201, 201])\n"
     ]
    }
   ],
   "source": [
    "# 動作確認\n",
    "\n",
    "# 動作確認\n",
    "\n",
    "# モデル構築\n",
    "net2 = PositionalEncoder(d_model=4, max_seq_len=201)\n",
    "\n",
    "# 入出力\n",
    "x1 = batch[0] \n",
    "print(x1.shape)\n",
    "x2 = net2(x1)\n",
    "\n",
    "# モデル構築\n",
    "net2 = PositionalEncoder(d_model=4, max_seq_len=201)\n",
    "net3 = TransformerBlock(d_model=4)\n",
    "\n",
    "# maskの作成\n",
    "x = batch[0]\n",
    "print(x.shape)\n",
    "input_pad = 1  # 単語のIDにおいて、'<pad>': 1 なので\n",
    "input_mask = (x != input_pad)\n",
    "\n",
    "# 入出力\n",
    "# x1 = net1(x)  # 単語をベクトルに\n",
    "x2 = net2(x)  # Positon情報を足し算\n",
    "print(f\"x2 shape is {x2.shape}, input_mask shape is {input_mask.shape}\")\n",
    "x3, normlized_weights = net3(x2, input_mask)  # Self-Attentionで特徴量を変換\n",
    "\n",
    "print(\"入力のテンソルサイズ：\", x2.shape)\n",
    "print(\"出力のテンソルサイズ：\", x3.shape)\n",
    "print(\"Attentionのサイズ：\", normlized_weights.shape)"
   ]
  },
  {
   "cell_type": "code",
   "execution_count": 28,
   "metadata": {},
   "outputs": [],
   "source": [
    "class ClassificationHead(nn.Module):\n",
    "    '''Transformer_Blockの出力を使用し、最後にクラス分類させる'''\n",
    "\n",
    "    def __init__(self, d_model=300, output_dim=2):\n",
    "        super().__init__()\n",
    "\n",
    "        # 全結合層\n",
    "        self.linear = nn.Linear(d_model, output_dim)  # output_dimはポジ・ネガの2つ\n",
    "\n",
    "        # 重み初期化処理\n",
    "        nn.init.normal_(self.linear.weight, std=0.02)\n",
    "        nn.init.normal_(self.linear.bias, 0)\n",
    "\n",
    "    def forward(self, x):\n",
    "        x0 = x[:, 0, :]  # 各ミニバッチの各文の先頭の単語の特徴量（300次元）を取り出す\n",
    "        out = self.linear(x0)\n",
    "\n",
    "        return out\n"
   ]
  },
  {
   "cell_type": "code",
   "execution_count": 29,
   "metadata": {},
   "outputs": [
    {
     "name": "stdout",
     "output_type": "stream",
     "text": [
      "x1のテンソルサイズ： tensor([0., 0., 0., 0.])\n",
      "x2のテンソルサイズ： tensor([0., 1., 0., 1.])\n",
      "x3のテンソルサイズ： tensor([-0.0564,  0.8646, -0.2123,  0.5677], grad_fn=<SelectBackward0>)\n",
      "出力のテンソルサイズ： torch.Size([4, 2])\n"
     ]
    }
   ],
   "source": [
    "# 動作確認\n",
    "\n",
    "# ミニバッチの用意\n",
    "batch = next(iter(dataloader))\n",
    "\n",
    "# モデル構築\n",
    "net2 = PositionalEncoder(d_model=4, max_seq_len=201)\n",
    "net3 = TransformerBlock(d_model=4)\n",
    "net4 = ClassificationHead(output_dim=2, d_model=4)\n",
    "\n",
    "# 入出力\n",
    "x = batch[0]\n",
    "x2 = net2(x)  # Positon情報を足し算\n",
    "x3, normlized_weights = net3(x2, input_mask)  # Self-Attentionで特徴量を変換\n",
    "x4 = net4(x3)  # 最終出力の0単語目を使用して、分類0-1のスカラーを出力\n",
    "\n",
    "print(\"x1のテンソルサイズ：\", x1[0,0])\n",
    "print(\"x2のテンソルサイズ：\", x2[0,0])\n",
    "print(\"x3のテンソルサイズ：\", x3[0,0])\n",
    "print(\"出力のテンソルサイズ：\", x4.shape)\n"
   ]
  },
  {
   "cell_type": "code",
   "execution_count": 46,
   "metadata": {},
   "outputs": [],
   "source": [
    "# 最終的なTransformerモデルのクラス\n",
    "\n",
    "\n",
    "class TransformerClassification(nn.Module):\n",
    "    '''Transformerでクラス分類させる'''\n",
    "\n",
    "    def __init__(self, d_model=4, max_seq_len=201, output_dim=2):\n",
    "        super().__init__()\n",
    "\n",
    "        # モデル構築\n",
    "        self.net2 = PositionalEncoder(d_model=d_model, max_seq_len=max_seq_len)\n",
    "        self.net3_1 = TransformerBlock(d_model=d_model)\n",
    "        # self.net3_2 = TransformerBlock(d_model=d_model)\n",
    "        self.net4 = ClassificationHead(output_dim=output_dim, d_model=d_model)\n",
    "\n",
    "    def forward(self, x, mask):\n",
    "        x2 = self.net2(x)  # Positon情報を足し算\n",
    "        x3, normlized_weights_1 = self.net3_1(\n",
    "            x2, mask)  # Self-Attentionで特徴量を変換\n",
    "        # x3_2, normlized_weights_2 = self.net3_2(\n",
    "        #     x3_1, mask)  # Self-Attentionで特徴量を変換\n",
    "        x4 = self.net4(x3)  # 最終出力の0単語目を使用して、分類0-1のスカラーを出力\n",
    "        return x4, normlized_weights_1, normlized_weights_2\n"
   ]
  },
  {
   "cell_type": "markdown",
   "metadata": {
    "id": "LakZIHM8YTp1"
   },
   "source": [
    "## Train and evaluate"
   ]
  },
  {
   "cell_type": "code",
   "execution_count": 47,
   "metadata": {},
   "outputs": [
    {
     "name": "stdout",
     "output_type": "stream",
     "text": [
      "出力のテンソルサイズ： torch.Size([4, 2])\n",
      "出力テンソルのsigmoid： tensor([[0.0746, 0.9254],\n",
      "        [0.0749, 0.9251],\n",
      "        [0.0745, 0.9255],\n",
      "        [0.0748, 0.9252]], grad_fn=<SoftmaxBackward0>)\n"
     ]
    }
   ],
   "source": [
    "# 動作確認\n",
    "\n",
    "# ミニバッチの用意\n",
    "batch = next(iter(dataloader))\n",
    "\n",
    "# モデル構築\n",
    "net = TransformerClassification(\n",
    "     d_model=4, max_seq_len=201, output_dim=2)\n",
    "\n",
    "# 入出力\n",
    "x = batch[0]\n",
    "input_mask = (x != input_pad)\n",
    "out, normlized_weights_1, normlized_weights_2 = net(x, input_mask)\n",
    "\n",
    "print(\"出力のテンソルサイズ：\", out.shape)\n",
    "print(\"出力テンソルのsigmoid：\", F.softmax(out, dim=1))\n"
   ]
  },
  {
   "cell_type": "markdown",
   "metadata": {
    "id": "elTTH_9KYTp0"
   },
   "source": [
    "The main part of our model is now complete. We can stack multiple of those\n",
    "`transformer_encoder` blocks and we can also proceed to add the final\n",
    "Multi-Layer Perceptron classification head. Apart from a stack of `Dense`\n",
    "layers, we need to reduce the output tensor of the `TransformerEncoder` part of\n",
    "our model down to a vector of features for each data point in the current\n",
    "batch. A common way to achieve this is to use a pooling layer. For\n",
    "this example, a `GlobalAveragePooling1D` layer is sufficient."
   ]
  },
  {
   "cell_type": "code",
   "execution_count": 49,
   "metadata": {},
   "outputs": [
    {
     "name": "stdout",
     "output_type": "stream",
     "text": [
      "ネットワーク設定完了\n"
     ]
    }
   ],
   "source": [
    "# ネットワークの初期化を定義\n",
    "\n",
    "\n",
    "def weights_init(m):\n",
    "    classname = m.__class__.__name__\n",
    "    if classname.find('Linear') != -1:\n",
    "        # Liner層の初期化\n",
    "        nn.init.kaiming_normal_(m.weight)\n",
    "        if m.bias is not None:\n",
    "            nn.init.constant_(m.bias, 0.0)\n",
    "\n",
    "\n",
    "# 訓練モードに設定\n",
    "net.train()\n",
    "\n",
    "# TransformerBlockモジュールを初期化実行\n",
    "net.net3_1.apply(weights_init)\n",
    "# net.net3_2.apply(weights_init)\n",
    "\n",
    "\n",
    "print('ネットワーク設定完了')\n"
   ]
  },
  {
   "cell_type": "code",
   "execution_count": 56,
   "metadata": {},
   "outputs": [],
   "source": [
    "# 損失関数の設定\n",
    "criterion = nn.CrossEntropyLoss()\n",
    "# nn.LogSoftmax()を計算してからnn.NLLLoss(negative log likelihood loss)を計算\n",
    "\n",
    "# 最適化手法の設定\n",
    "learning_rate = 1e-4\n",
    "optimizer = optim.Adam(net.parameters(), lr=learning_rate)\n"
   ]
  },
  {
   "cell_type": "code",
   "execution_count": 57,
   "metadata": {},
   "outputs": [],
   "source": [
    "# モデルを学習させる関数を作成\n",
    "\n",
    "\n",
    "def train_model(net, dataloaders_dict, criterion, optimizer, num_epochs):\n",
    "\n",
    "    # GPUが使えるかを確認\n",
    "    device = torch.device(\"cuda:0\" if torch.cuda.is_available() else \"cpu\")\n",
    "    print(\"使用デバイス：\", device)\n",
    "    print('-----start-------')\n",
    "    # ネットワークをGPUへ\n",
    "    net.to(device)\n",
    "\n",
    "    # ネットワークがある程度固定であれば、高速化させる\n",
    "    torch.backends.cudnn.benchmark = True\n",
    "\n",
    "    # epochのループ\n",
    "    for epoch in range(num_epochs):\n",
    "        # epochごとの訓練と検証のループ\n",
    "        for phase in ['train']:\n",
    "        # for phase in ['train', 'val']:\n",
    "            if phase == 'train':\n",
    "                net.train()  # モデルを訓練モードに\n",
    "            else:\n",
    "                net.eval()   # モデルを検証モードに\n",
    "\n",
    "            epoch_loss = 0.0  # epochの損失和\n",
    "            epoch_corrects = 0  # epochの正解数\n",
    "\n",
    "            # データローダーからミニバッチを取り出すループ\n",
    "            for batch in (dataloaders_dict[phase]):\n",
    "                # batchはTextとLableの辞書オブジェクト\n",
    "\n",
    "                # GPUが使えるならGPUにデータを送る\n",
    "                inputs = batch[0].to(device)  # 文章\n",
    "                labels = batch[1].to(device)  # ラベル\n",
    "\n",
    "                # optimizerを初期化\n",
    "                optimizer.zero_grad()\n",
    "\n",
    "                # 順伝搬（forward）計算\n",
    "                with torch.set_grad_enabled(phase == 'train'):\n",
    "\n",
    "                    # mask作成\n",
    "                    input_pad = 1  # 単語のIDにおいて、'<pad>': 1 なので\n",
    "                    input_mask = (inputs != input_pad)\n",
    "\n",
    "                    # Transformerに入力\n",
    "                    outputs, _, _ = net(inputs, input_mask)\n",
    "                    loss = criterion(outputs, labels)  # 損失を計算\n",
    "\n",
    "                    _, preds = torch.max(outputs, 1)  # ラベルを予測\n",
    "\n",
    "                    # 訓練時はバックプロパゲーション\n",
    "                    if phase == 'train':\n",
    "                        loss.backward()\n",
    "                        optimizer.step()\n",
    "\n",
    "                    # 結果の計算\n",
    "                    epoch_loss += loss.item() * inputs.size(0)  # lossの合計を更新\n",
    "                    # 正解数の合計を更新\n",
    "                    epoch_corrects += torch.sum(preds == labels.data)\n",
    "\n",
    "            # epochごとのlossと正解率\n",
    "            epoch_loss = epoch_loss / len(dataloaders_dict[phase].dataset)\n",
    "            epoch_acc = epoch_corrects.double(\n",
    "            ) / len(dataloaders_dict[phase].dataset)\n",
    "\n",
    "            print('Epoch {}/{} | {:^5} |  Loss: {:.4f} Acc: {:.4f}'.format(epoch+1, num_epochs,\n",
    "                                                                           phase, epoch_loss, epoch_acc))\n",
    "\n",
    "    return net\n"
   ]
  },
  {
   "cell_type": "code",
   "execution_count": 58,
   "metadata": {},
   "outputs": [
    {
     "name": "stdout",
     "output_type": "stream",
     "text": [
      "torch.Size([60, 201, 4])\n"
     ]
    }
   ],
   "source": [
    "print(batch[0].shape)"
   ]
  },
  {
   "cell_type": "code",
   "execution_count": 59,
   "metadata": {},
   "outputs": [
    {
     "name": "stdout",
     "output_type": "stream",
     "text": [
      "使用デバイス： cpu\n",
      "-----start-------\n",
      "Epoch 1/300 | train |  Loss: 0.5236 Acc: 0.7000\n",
      "Epoch 2/300 | train |  Loss: 0.5182 Acc: 0.7000\n",
      "Epoch 3/300 | train |  Loss: 0.5344 Acc: 0.7833\n",
      "Epoch 4/300 | train |  Loss: 0.5130 Acc: 0.7167\n",
      "Epoch 5/300 | train |  Loss: 0.4966 Acc: 0.7500\n",
      "Epoch 6/300 | train |  Loss: 0.4939 Acc: 0.7167\n",
      "Epoch 7/300 | train |  Loss: 0.5260 Acc: 0.7167\n",
      "Epoch 8/300 | train |  Loss: 0.5439 Acc: 0.6667\n",
      "Epoch 9/300 | train |  Loss: 0.4647 Acc: 0.8000\n",
      "Epoch 10/300 | train |  Loss: 0.5065 Acc: 0.7500\n",
      "Epoch 11/300 | train |  Loss: 0.4741 Acc: 0.7000\n",
      "Epoch 12/300 | train |  Loss: 0.4794 Acc: 0.7833\n",
      "Epoch 13/300 | train |  Loss: 0.4494 Acc: 0.7500\n",
      "Epoch 14/300 | train |  Loss: 0.5242 Acc: 0.7000\n",
      "Epoch 15/300 | train |  Loss: 0.4697 Acc: 0.7500\n",
      "Epoch 16/300 | train |  Loss: 0.4741 Acc: 0.7333\n",
      "Epoch 17/300 | train |  Loss: 0.4245 Acc: 0.8167\n",
      "Epoch 18/300 | train |  Loss: 0.4523 Acc: 0.7833\n",
      "Epoch 19/300 | train |  Loss: 0.4570 Acc: 0.7333\n",
      "Epoch 20/300 | train |  Loss: 0.4798 Acc: 0.7333\n",
      "Epoch 21/300 | train |  Loss: 0.4582 Acc: 0.7667\n",
      "Epoch 22/300 | train |  Loss: 0.3647 Acc: 0.9000\n",
      "Epoch 23/300 | train |  Loss: 0.4005 Acc: 0.8333\n",
      "Epoch 24/300 | train |  Loss: 0.4106 Acc: 0.7833\n",
      "Epoch 25/300 | train |  Loss: 0.3991 Acc: 0.8167\n",
      "Epoch 26/300 | train |  Loss: 0.3710 Acc: 0.8500\n",
      "Epoch 27/300 | train |  Loss: 0.3485 Acc: 0.8667\n",
      "Epoch 28/300 | train |  Loss: 0.3862 Acc: 0.8167\n",
      "Epoch 29/300 | train |  Loss: 0.4207 Acc: 0.8333\n",
      "Epoch 30/300 | train |  Loss: 0.3446 Acc: 0.8833\n",
      "Epoch 31/300 | train |  Loss: 0.4874 Acc: 0.8167\n",
      "Epoch 32/300 | train |  Loss: 0.3179 Acc: 0.8833\n",
      "Epoch 33/300 | train |  Loss: 0.4244 Acc: 0.8167\n",
      "Epoch 34/300 | train |  Loss: 0.3354 Acc: 0.8833\n",
      "Epoch 35/300 | train |  Loss: 0.3498 Acc: 0.8667\n",
      "Epoch 36/300 | train |  Loss: 0.3288 Acc: 0.8833\n",
      "Epoch 37/300 | train |  Loss: 0.3287 Acc: 0.8000\n",
      "Epoch 38/300 | train |  Loss: 0.3629 Acc: 0.8167\n",
      "Epoch 39/300 | train |  Loss: 0.3794 Acc: 0.8333\n",
      "Epoch 40/300 | train |  Loss: 0.3342 Acc: 0.8500\n",
      "Epoch 41/300 | train |  Loss: 0.3885 Acc: 0.8667\n",
      "Epoch 42/300 | train |  Loss: 0.2911 Acc: 0.9333\n",
      "Epoch 43/300 | train |  Loss: 0.3492 Acc: 0.8667\n",
      "Epoch 44/300 | train |  Loss: 0.2899 Acc: 0.8833\n",
      "Epoch 45/300 | train |  Loss: 0.2847 Acc: 0.8500\n",
      "Epoch 46/300 | train |  Loss: 0.3327 Acc: 0.8667\n",
      "Epoch 47/300 | train |  Loss: 0.3458 Acc: 0.8500\n",
      "Epoch 48/300 | train |  Loss: 0.3034 Acc: 0.8833\n",
      "Epoch 49/300 | train |  Loss: 0.3178 Acc: 0.9167\n",
      "Epoch 50/300 | train |  Loss: 0.2656 Acc: 0.8500\n",
      "Epoch 51/300 | train |  Loss: 0.2287 Acc: 0.9667\n",
      "Epoch 52/300 | train |  Loss: 0.3322 Acc: 0.8333\n",
      "Epoch 53/300 | train |  Loss: 0.2524 Acc: 0.9333\n",
      "Epoch 54/300 | train |  Loss: 0.2609 Acc: 0.9333\n",
      "Epoch 55/300 | train |  Loss: 0.2372 Acc: 0.9333\n",
      "Epoch 56/300 | train |  Loss: 0.2306 Acc: 0.9000\n",
      "Epoch 57/300 | train |  Loss: 0.2915 Acc: 0.8667\n",
      "Epoch 58/300 | train |  Loss: 0.2643 Acc: 0.8833\n",
      "Epoch 59/300 | train |  Loss: 0.2493 Acc: 0.9167\n",
      "Epoch 60/300 | train |  Loss: 0.3020 Acc: 0.8500\n",
      "Epoch 61/300 | train |  Loss: 0.2660 Acc: 0.9167\n",
      "Epoch 62/300 | train |  Loss: 0.3095 Acc: 0.8833\n",
      "Epoch 63/300 | train |  Loss: 0.3177 Acc: 0.8833\n",
      "Epoch 64/300 | train |  Loss: 0.2138 Acc: 0.9333\n",
      "Epoch 65/300 | train |  Loss: 0.2863 Acc: 0.8833\n",
      "Epoch 66/300 | train |  Loss: 0.2383 Acc: 0.8833\n",
      "Epoch 67/300 | train |  Loss: 0.2020 Acc: 0.9500\n",
      "Epoch 68/300 | train |  Loss: 0.2075 Acc: 0.9000\n",
      "Epoch 69/300 | train |  Loss: 0.2347 Acc: 0.9333\n",
      "Epoch 70/300 | train |  Loss: 0.2102 Acc: 0.9167\n",
      "Epoch 71/300 | train |  Loss: 0.3611 Acc: 0.9000\n",
      "Epoch 72/300 | train |  Loss: 0.2450 Acc: 0.8833\n",
      "Epoch 73/300 | train |  Loss: 0.2687 Acc: 0.9167\n",
      "Epoch 74/300 | train |  Loss: 0.2233 Acc: 0.9000\n",
      "Epoch 75/300 | train |  Loss: 0.2247 Acc: 0.9000\n",
      "Epoch 76/300 | train |  Loss: 0.2450 Acc: 0.9500\n",
      "Epoch 77/300 | train |  Loss: 0.2031 Acc: 0.9167\n",
      "Epoch 78/300 | train |  Loss: 0.2250 Acc: 0.9000\n",
      "Epoch 79/300 | train |  Loss: 0.2414 Acc: 0.9000\n",
      "Epoch 80/300 | train |  Loss: 0.2075 Acc: 0.9333\n",
      "Epoch 81/300 | train |  Loss: 0.1755 Acc: 0.9167\n",
      "Epoch 82/300 | train |  Loss: 0.1967 Acc: 0.9500\n",
      "Epoch 83/300 | train |  Loss: 0.2662 Acc: 0.9167\n",
      "Epoch 84/300 | train |  Loss: 0.1815 Acc: 0.9333\n",
      "Epoch 85/300 | train |  Loss: 0.1393 Acc: 0.9833\n",
      "Epoch 86/300 | train |  Loss: 0.1810 Acc: 0.9333\n",
      "Epoch 87/300 | train |  Loss: 0.2154 Acc: 0.9167\n",
      "Epoch 88/300 | train |  Loss: 0.2074 Acc: 0.9167\n",
      "Epoch 89/300 | train |  Loss: 0.2516 Acc: 0.9167\n",
      "Epoch 90/300 | train |  Loss: 0.1832 Acc: 0.9500\n",
      "Epoch 91/300 | train |  Loss: 0.1929 Acc: 0.9167\n",
      "Epoch 92/300 | train |  Loss: 0.2241 Acc: 0.9333\n",
      "Epoch 93/300 | train |  Loss: 0.2867 Acc: 0.9333\n",
      "Epoch 94/300 | train |  Loss: 0.2154 Acc: 0.9167\n",
      "Epoch 95/300 | train |  Loss: 0.2675 Acc: 0.9333\n",
      "Epoch 96/300 | train |  Loss: 0.1535 Acc: 0.9500\n",
      "Epoch 97/300 | train |  Loss: 0.2062 Acc: 0.9167\n",
      "Epoch 98/300 | train |  Loss: 0.2578 Acc: 0.9000\n",
      "Epoch 99/300 | train |  Loss: 0.2114 Acc: 0.9500\n",
      "Epoch 100/300 | train |  Loss: 0.1943 Acc: 0.9500\n",
      "Epoch 101/300 | train |  Loss: 0.2478 Acc: 0.9333\n",
      "Epoch 102/300 | train |  Loss: 0.2225 Acc: 0.9167\n",
      "Epoch 103/300 | train |  Loss: 0.1771 Acc: 0.9500\n",
      "Epoch 104/300 | train |  Loss: 0.2207 Acc: 0.9333\n",
      "Epoch 105/300 | train |  Loss: 0.1399 Acc: 0.9500\n",
      "Epoch 106/300 | train |  Loss: 0.1598 Acc: 0.9667\n",
      "Epoch 107/300 | train |  Loss: 0.1659 Acc: 0.9333\n",
      "Epoch 108/300 | train |  Loss: 0.1588 Acc: 0.9333\n",
      "Epoch 109/300 | train |  Loss: 0.1528 Acc: 0.9333\n",
      "Epoch 110/300 | train |  Loss: 0.1332 Acc: 0.9500\n",
      "Epoch 111/300 | train |  Loss: 0.2220 Acc: 0.9167\n",
      "Epoch 112/300 | train |  Loss: 0.1837 Acc: 0.9000\n",
      "Epoch 113/300 | train |  Loss: 0.2009 Acc: 0.9167\n",
      "Epoch 114/300 | train |  Loss: 0.2034 Acc: 0.9500\n",
      "Epoch 115/300 | train |  Loss: 0.1743 Acc: 0.9333\n",
      "Epoch 116/300 | train |  Loss: 0.1260 Acc: 0.9667\n",
      "Epoch 117/300 | train |  Loss: 0.2443 Acc: 0.9333\n",
      "Epoch 118/300 | train |  Loss: 0.2202 Acc: 0.9167\n",
      "Epoch 119/300 | train |  Loss: 0.1864 Acc: 0.9333\n",
      "Epoch 120/300 | train |  Loss: 0.1275 Acc: 0.9500\n",
      "Epoch 121/300 | train |  Loss: 0.2002 Acc: 0.9167\n",
      "Epoch 122/300 | train |  Loss: 0.1413 Acc: 0.9500\n",
      "Epoch 123/300 | train |  Loss: 0.1332 Acc: 0.9500\n",
      "Epoch 124/300 | train |  Loss: 0.1399 Acc: 0.9333\n",
      "Epoch 125/300 | train |  Loss: 0.0855 Acc: 0.9833\n",
      "Epoch 126/300 | train |  Loss: 0.1741 Acc: 0.9167\n",
      "Epoch 127/300 | train |  Loss: 0.1214 Acc: 0.9500\n",
      "Epoch 128/300 | train |  Loss: 0.1145 Acc: 0.9333\n",
      "Epoch 129/300 | train |  Loss: 0.1378 Acc: 0.9500\n",
      "Epoch 130/300 | train |  Loss: 0.1416 Acc: 0.9333\n",
      "Epoch 131/300 | train |  Loss: 0.1427 Acc: 0.9500\n",
      "Epoch 132/300 | train |  Loss: 0.1602 Acc: 0.9333\n",
      "Epoch 133/300 | train |  Loss: 0.1643 Acc: 0.9167\n",
      "Epoch 134/300 | train |  Loss: 0.1534 Acc: 0.9333\n",
      "Epoch 135/300 | train |  Loss: 0.1881 Acc: 0.9500\n",
      "Epoch 136/300 | train |  Loss: 0.1358 Acc: 0.9333\n",
      "Epoch 137/300 | train |  Loss: 0.1856 Acc: 0.9333\n",
      "Epoch 138/300 | train |  Loss: 0.1184 Acc: 0.9333\n",
      "Epoch 139/300 | train |  Loss: 0.2158 Acc: 0.9167\n",
      "Epoch 140/300 | train |  Loss: 0.1055 Acc: 0.9500\n",
      "Epoch 141/300 | train |  Loss: 0.1337 Acc: 0.9500\n",
      "Epoch 142/300 | train |  Loss: 0.1044 Acc: 0.9667\n",
      "Epoch 143/300 | train |  Loss: 0.0877 Acc: 0.9833\n",
      "Epoch 144/300 | train |  Loss: 0.0862 Acc: 0.9667\n",
      "Epoch 145/300 | train |  Loss: 0.2034 Acc: 0.9667\n",
      "Epoch 146/300 | train |  Loss: 0.1591 Acc: 0.9000\n",
      "Epoch 147/300 | train |  Loss: 0.1039 Acc: 0.9333\n",
      "Epoch 148/300 | train |  Loss: 0.1524 Acc: 0.9500\n",
      "Epoch 149/300 | train |  Loss: 0.0948 Acc: 0.9667\n",
      "Epoch 150/300 | train |  Loss: 0.1856 Acc: 0.9667\n",
      "Epoch 151/300 | train |  Loss: 0.1767 Acc: 0.9167\n",
      "Epoch 152/300 | train |  Loss: 0.1289 Acc: 0.9167\n",
      "Epoch 153/300 | train |  Loss: 0.1681 Acc: 0.9167\n",
      "Epoch 154/300 | train |  Loss: 0.1563 Acc: 0.9167\n",
      "Epoch 155/300 | train |  Loss: 0.0858 Acc: 0.9667\n",
      "Epoch 156/300 | train |  Loss: 0.1689 Acc: 0.9167\n",
      "Epoch 157/300 | train |  Loss: 0.0848 Acc: 0.9833\n",
      "Epoch 158/300 | train |  Loss: 0.1464 Acc: 0.9000\n",
      "Epoch 159/300 | train |  Loss: 0.1146 Acc: 0.9667\n",
      "Epoch 160/300 | train |  Loss: 0.0799 Acc: 0.9833\n",
      "Epoch 161/300 | train |  Loss: 0.0843 Acc: 0.9667\n",
      "Epoch 162/300 | train |  Loss: 0.0917 Acc: 0.9667\n",
      "Epoch 163/300 | train |  Loss: 0.2805 Acc: 0.9000\n",
      "Epoch 164/300 | train |  Loss: 0.0996 Acc: 0.9500\n",
      "Epoch 165/300 | train |  Loss: 0.0625 Acc: 0.9833\n",
      "Epoch 166/300 | train |  Loss: 0.0866 Acc: 0.9667\n",
      "Epoch 167/300 | train |  Loss: 0.1123 Acc: 0.9500\n",
      "Epoch 168/300 | train |  Loss: 0.1064 Acc: 0.9500\n",
      "Epoch 169/300 | train |  Loss: 0.1176 Acc: 0.9667\n",
      "Epoch 170/300 | train |  Loss: 0.1154 Acc: 0.9333\n",
      "Epoch 171/300 | train |  Loss: 0.1741 Acc: 0.9667\n",
      "Epoch 172/300 | train |  Loss: 0.0869 Acc: 0.9667\n",
      "Epoch 173/300 | train |  Loss: 0.1109 Acc: 0.9833\n",
      "Epoch 174/300 | train |  Loss: 0.1745 Acc: 0.9500\n",
      "Epoch 175/300 | train |  Loss: 0.0643 Acc: 0.9833\n",
      "Epoch 176/300 | train |  Loss: 0.0750 Acc: 0.9667\n",
      "Epoch 177/300 | train |  Loss: 0.0889 Acc: 0.9500\n",
      "Epoch 178/300 | train |  Loss: 0.1257 Acc: 0.9333\n",
      "Epoch 179/300 | train |  Loss: 0.1367 Acc: 0.9167\n",
      "Epoch 180/300 | train |  Loss: 0.0945 Acc: 0.9667\n",
      "Epoch 181/300 | train |  Loss: 0.0711 Acc: 0.9667\n",
      "Epoch 182/300 | train |  Loss: 0.0672 Acc: 0.9667\n",
      "Epoch 183/300 | train |  Loss: 0.0786 Acc: 0.9500\n",
      "Epoch 184/300 | train |  Loss: 0.0535 Acc: 1.0000\n",
      "Epoch 185/300 | train |  Loss: 0.0484 Acc: 1.0000\n",
      "Epoch 186/300 | train |  Loss: 0.0859 Acc: 0.9667\n",
      "Epoch 187/300 | train |  Loss: 0.0500 Acc: 0.9833\n",
      "Epoch 188/300 | train |  Loss: 0.0633 Acc: 0.9833\n",
      "Epoch 189/300 | train |  Loss: 0.0481 Acc: 0.9833\n",
      "Epoch 190/300 | train |  Loss: 0.0731 Acc: 0.9667\n",
      "Epoch 191/300 | train |  Loss: 0.0810 Acc: 0.9500\n",
      "Epoch 192/300 | train |  Loss: 0.0560 Acc: 0.9833\n",
      "Epoch 193/300 | train |  Loss: 0.0762 Acc: 0.9500\n",
      "Epoch 194/300 | train |  Loss: 0.0864 Acc: 0.9667\n",
      "Epoch 195/300 | train |  Loss: 0.0496 Acc: 0.9833\n",
      "Epoch 196/300 | train |  Loss: 0.1347 Acc: 0.9833\n",
      "Epoch 197/300 | train |  Loss: 0.0422 Acc: 1.0000\n",
      "Epoch 198/300 | train |  Loss: 0.1409 Acc: 0.9667\n",
      "Epoch 199/300 | train |  Loss: 0.0317 Acc: 1.0000\n",
      "Epoch 200/300 | train |  Loss: 0.0580 Acc: 0.9667\n",
      "Epoch 201/300 | train |  Loss: 0.0790 Acc: 0.9667\n",
      "Epoch 202/300 | train |  Loss: 0.0516 Acc: 0.9667\n",
      "Epoch 203/300 | train |  Loss: 0.1187 Acc: 0.9667\n",
      "Epoch 204/300 | train |  Loss: 0.0708 Acc: 0.9667\n",
      "Epoch 205/300 | train |  Loss: 0.1072 Acc: 0.9667\n",
      "Epoch 206/300 | train |  Loss: 0.0537 Acc: 0.9833\n",
      "Epoch 207/300 | train |  Loss: 0.0338 Acc: 0.9833\n",
      "Epoch 208/300 | train |  Loss: 0.0601 Acc: 0.9667\n",
      "Epoch 209/300 | train |  Loss: 0.0459 Acc: 0.9833\n",
      "Epoch 210/300 | train |  Loss: 0.1641 Acc: 0.9500\n",
      "Epoch 211/300 | train |  Loss: 0.0618 Acc: 0.9833\n",
      "Epoch 212/300 | train |  Loss: 0.0405 Acc: 0.9833\n",
      "Epoch 213/300 | train |  Loss: 0.0382 Acc: 0.9833\n",
      "Epoch 214/300 | train |  Loss: 0.0408 Acc: 0.9833\n",
      "Epoch 215/300 | train |  Loss: 0.0624 Acc: 0.9667\n",
      "Epoch 216/300 | train |  Loss: 0.0730 Acc: 0.9667\n",
      "Epoch 217/300 | train |  Loss: 0.0509 Acc: 0.9833\n",
      "Epoch 218/300 | train |  Loss: 0.0499 Acc: 0.9833\n",
      "Epoch 219/300 | train |  Loss: 0.0972 Acc: 0.9500\n",
      "Epoch 220/300 | train |  Loss: 0.0473 Acc: 0.9833\n",
      "Epoch 221/300 | train |  Loss: 0.0273 Acc: 1.0000\n",
      "Epoch 222/300 | train |  Loss: 0.0420 Acc: 0.9833\n",
      "Epoch 223/300 | train |  Loss: 0.0511 Acc: 0.9667\n",
      "Epoch 224/300 | train |  Loss: 0.0464 Acc: 0.9833\n",
      "Epoch 225/300 | train |  Loss: 0.0439 Acc: 0.9833\n",
      "Epoch 226/300 | train |  Loss: 0.0889 Acc: 0.9667\n",
      "Epoch 227/300 | train |  Loss: 0.0430 Acc: 1.0000\n",
      "Epoch 228/300 | train |  Loss: 0.0628 Acc: 0.9667\n",
      "Epoch 229/300 | train |  Loss: 0.0329 Acc: 0.9833\n",
      "Epoch 230/300 | train |  Loss: 0.0293 Acc: 0.9833\n",
      "Epoch 231/300 | train |  Loss: 0.0472 Acc: 0.9833\n",
      "Epoch 232/300 | train |  Loss: 0.0524 Acc: 0.9667\n",
      "Epoch 233/300 | train |  Loss: 0.0402 Acc: 0.9833\n",
      "Epoch 234/300 | train |  Loss: 0.1425 Acc: 0.9667\n",
      "Epoch 235/300 | train |  Loss: 0.0392 Acc: 1.0000\n",
      "Epoch 236/300 | train |  Loss: 0.1018 Acc: 0.9500\n",
      "Epoch 237/300 | train |  Loss: 0.0450 Acc: 0.9833\n",
      "Epoch 238/300 | train |  Loss: 0.0649 Acc: 0.9667\n",
      "Epoch 239/300 | train |  Loss: 0.0342 Acc: 1.0000\n",
      "Epoch 240/300 | train |  Loss: 0.0283 Acc: 0.9833\n",
      "Epoch 241/300 | train |  Loss: 0.1130 Acc: 0.9667\n",
      "Epoch 242/300 | train |  Loss: 0.0527 Acc: 0.9667\n",
      "Epoch 243/300 | train |  Loss: 0.1177 Acc: 0.9833\n",
      "Epoch 244/300 | train |  Loss: 0.1226 Acc: 0.9833\n",
      "Epoch 245/300 | train |  Loss: 0.0417 Acc: 0.9667\n",
      "Epoch 246/300 | train |  Loss: 0.0320 Acc: 0.9833\n",
      "Epoch 247/300 | train |  Loss: 0.0315 Acc: 1.0000\n",
      "Epoch 248/300 | train |  Loss: 0.0356 Acc: 0.9833\n",
      "Epoch 249/300 | train |  Loss: 0.1223 Acc: 0.9833\n",
      "Epoch 250/300 | train |  Loss: 0.0499 Acc: 0.9667\n",
      "Epoch 251/300 | train |  Loss: 0.0226 Acc: 0.9833\n",
      "Epoch 252/300 | train |  Loss: 0.0703 Acc: 0.9833\n",
      "Epoch 253/300 | train |  Loss: 0.1146 Acc: 0.9833\n",
      "Epoch 254/300 | train |  Loss: 0.0306 Acc: 1.0000\n",
      "Epoch 255/300 | train |  Loss: 0.0390 Acc: 0.9833\n",
      "Epoch 256/300 | train |  Loss: 0.0358 Acc: 1.0000\n",
      "Epoch 257/300 | train |  Loss: 0.0285 Acc: 1.0000\n",
      "Epoch 258/300 | train |  Loss: 0.0304 Acc: 0.9833\n",
      "Epoch 259/300 | train |  Loss: 0.0223 Acc: 1.0000\n",
      "Epoch 260/300 | train |  Loss: 0.0894 Acc: 0.9667\n",
      "Epoch 261/300 | train |  Loss: 0.0449 Acc: 0.9833\n",
      "Epoch 262/300 | train |  Loss: 0.0305 Acc: 0.9833\n",
      "Epoch 263/300 | train |  Loss: 0.0267 Acc: 1.0000\n",
      "Epoch 264/300 | train |  Loss: 0.0224 Acc: 1.0000\n",
      "Epoch 265/300 | train |  Loss: 0.0519 Acc: 0.9833\n",
      "Epoch 266/300 | train |  Loss: 0.0316 Acc: 0.9833\n",
      "Epoch 267/300 | train |  Loss: 0.0464 Acc: 0.9833\n",
      "Epoch 268/300 | train |  Loss: 0.0371 Acc: 1.0000\n",
      "Epoch 269/300 | train |  Loss: 0.0249 Acc: 1.0000\n",
      "Epoch 270/300 | train |  Loss: 0.0312 Acc: 1.0000\n",
      "Epoch 271/300 | train |  Loss: 0.0411 Acc: 0.9833\n",
      "Epoch 272/300 | train |  Loss: 0.0370 Acc: 0.9833\n",
      "Epoch 273/300 | train |  Loss: 0.0206 Acc: 1.0000\n",
      "Epoch 274/300 | train |  Loss: 0.0322 Acc: 1.0000\n",
      "Epoch 275/300 | train |  Loss: 0.0226 Acc: 1.0000\n",
      "Epoch 276/300 | train |  Loss: 0.0181 Acc: 1.0000\n",
      "Epoch 277/300 | train |  Loss: 0.0148 Acc: 1.0000\n",
      "Epoch 278/300 | train |  Loss: 0.0176 Acc: 1.0000\n",
      "Epoch 279/300 | train |  Loss: 0.0380 Acc: 0.9833\n",
      "Epoch 280/300 | train |  Loss: 0.0315 Acc: 0.9833\n",
      "Epoch 281/300 | train |  Loss: 0.0168 Acc: 1.0000\n",
      "Epoch 282/300 | train |  Loss: 0.0206 Acc: 1.0000\n",
      "Epoch 283/300 | train |  Loss: 0.0140 Acc: 1.0000\n",
      "Epoch 284/300 | train |  Loss: 0.0198 Acc: 1.0000\n",
      "Epoch 285/300 | train |  Loss: 0.0254 Acc: 1.0000\n",
      "Epoch 286/300 | train |  Loss: 0.0159 Acc: 1.0000\n",
      "Epoch 287/300 | train |  Loss: 0.0669 Acc: 0.9833\n",
      "Epoch 288/300 | train |  Loss: 0.0142 Acc: 1.0000\n",
      "Epoch 289/300 | train |  Loss: 0.0190 Acc: 1.0000\n",
      "Epoch 290/300 | train |  Loss: 0.0428 Acc: 0.9833\n",
      "Epoch 291/300 | train |  Loss: 0.0201 Acc: 1.0000\n",
      "Epoch 292/300 | train |  Loss: 0.0289 Acc: 0.9833\n",
      "Epoch 293/300 | train |  Loss: 0.0255 Acc: 0.9833\n",
      "Epoch 294/300 | train |  Loss: 0.0183 Acc: 1.0000\n",
      "Epoch 295/300 | train |  Loss: 0.0230 Acc: 1.0000\n",
      "Epoch 296/300 | train |  Loss: 0.0261 Acc: 0.9833\n",
      "Epoch 297/300 | train |  Loss: 0.0180 Acc: 1.0000\n",
      "Epoch 298/300 | train |  Loss: 0.0676 Acc: 0.9833\n",
      "Epoch 299/300 | train |  Loss: 0.0260 Acc: 0.9833\n",
      "Epoch 300/300 | train |  Loss: 0.0146 Acc: 1.0000\n"
     ]
    }
   ],
   "source": [
    "# 学習・検証を実行する 15分ほどかかります\n",
    "num_epochs = 300\n",
    "net_trained = train_model(net, dataloaders_dict,\n",
    "                          criterion, optimizer, num_epochs=num_epochs)\n"
   ]
  },
  {
   "cell_type": "markdown",
   "metadata": {
    "id": "ZN2SeFtLHbyT"
   },
   "source": [
    "# SaveModel"
   ]
  },
  {
   "cell_type": "code",
   "execution_count": 60,
   "metadata": {},
   "outputs": [
    {
     "name": "stdout",
     "output_type": "stream",
     "text": [
      "テストデータ60個での正解率：1.0000\n"
     ]
    }
   ],
   "source": [
    "# device\n",
    "device = torch.device(\"cuda:0\" if torch.cuda.is_available() else \"cpu\")\n",
    "\n",
    "net_trained.eval()   # モデルを検証モードに\n",
    "net_trained.to(device)\n",
    "\n",
    "epoch_corrects = 0  # epochの正解数\n",
    "\n",
    "test_dataloader = torch.utils.data.DataLoader(dataset, batch_size=60)\n",
    "\n",
    "for batch in (test_dataloader):  # testデータのDataLoader\n",
    "    # batchはTextとLableの辞書オブジェクト\n",
    "    \n",
    "    # GPUが使えるならGPUにデータを送る\n",
    "    inputs = batch[0].to(device)  # 文章\n",
    "    labels = batch[1].to(device)  # ラベル\n",
    "\n",
    "    # 順伝搬（forward）計算\n",
    "    with torch.set_grad_enabled(False):\n",
    "\n",
    "        # mask作成\n",
    "        input_pad = 1  # 単語のIDにおいて、'<pad>': 1 なので\n",
    "        input_mask = (inputs != input_pad)\n",
    "\n",
    "        # Transformerに入力\n",
    "        outputs, attn_weights1, attn_weights2 = net_trained(inputs, input_mask)\n",
    "        _, preds = torch.max(outputs, 1)  # ラベルを予測\n",
    "\n",
    "        # 結果の計算\n",
    "        # 正解数の合計を更新\n",
    "        epoch_corrects += torch.sum(preds == labels.data)\n",
    "\n",
    "# 正解率\n",
    "epoch_acc = epoch_corrects.double() / len(test_dataloader.dataset)\n",
    "\n",
    "print('テストデータ{}個での正解率：{:.4f}'.format(len(test_dataloader.dataset),epoch_acc))\n"
   ]
  },
  {
   "cell_type": "code",
   "execution_count": 83,
   "metadata": {},
   "outputs": [
    {
     "name": "stdout",
     "output_type": "stream",
     "text": [
      "torch.Size([60, 201, 4])\n",
      "(200,)\n"
     ]
    }
   ],
   "source": [
    "print(X.shape)\n",
    "print(np.array(X[0, 1:, 0]).shape)"
   ]
  },
  {
   "cell_type": "code",
   "execution_count": 118,
   "metadata": {},
   "outputs": [
    {
     "name": "stdout",
     "output_type": "stream",
     "text": [
      "(200,)\n"
     ]
    },
    {
     "name": "stderr",
     "output_type": "stream",
     "text": [
      "/Users/kento/miniforge3/envs/torch/lib/python3.8/site-packages/seaborn/_decorators.py:36: FutureWarning: Pass the following variables as keyword args: x, y. From version 0.12, the only valid positional argument will be `data`, and passing other arguments without an explicit keyword will result in an error or misinterpretation.\n",
      "  warnings.warn(\n"
     ]
    },
    {
     "data": {
      "image/png": "[encoded data removed]",
      "text/plain": [
       "<Figure size 1080x720 with 2 Axes>"
      ]
     },
     "metadata": {
      "needs_background": "light"
     },
     "output_type": "display_data"
    }
   ],
   "source": [
    "from matplotlib import gridspec\n",
    "\n",
    "extract_data = np.array(X[0, 1:, 0]).flatten()\n",
    "print(extract_data.shape)\n",
    "\n",
    "\n",
    "time = np.linspace(0, 200, 200)\n",
    "fig, ax = plt.subplots(2, 1, gridspec_kw={'height_ratios': [6, 1]}, figsize=(15,10))\n",
    "# Set the palette using the name of a palette:\n",
    "sns.lineplot(time, extract_data, ax=ax[0])\n",
    "sns.heatmap(extract_weight, cmap='OrRd', cbar=False, ax=ax[1])\n",
    "\n",
    "plt.show()"
   ]
  },
  {
   "cell_type": "code",
   "execution_count": 106,
   "metadata": {},
   "outputs": [
    {
     "name": "stdout",
     "output_type": "stream",
     "text": [
      "(200,)\n"
     ]
    },
    {
     "name": "stderr",
     "output_type": "stream",
     "text": [
      "/Users/kento/miniforge3/envs/torch/lib/python3.8/site-packages/seaborn/_decorators.py:36: FutureWarning: Pass the following variables as keyword args: x, y. From version 0.12, the only valid positional argument will be `data`, and passing other arguments without an explicit keyword will result in an error or misinterpretation.\n",
      "  warnings.warn(\n"
     ]
    },
    {
     "data": {
      "image/png": "[encoded data removed]",
      "text/plain": [
       "<Figure size 432x288 with 2 Axes>"
      ]
     },
     "metadata": {
      "needs_background": "light"
     },
     "output_type": "display_data"
    }
   ],
   "source": [
    "from matplotlib import gridspec\n",
    "\n",
    "extract_data = np.array(X[0, 1:, 0]).flatten()\n",
    "print(extract_data.shape)\n",
    "\n",
    "time = np.linspace(0, 200, 200)\n",
    "\n",
    "\n",
    "fig = plt.figure()\n",
    "spec = gridspec.GridSpec(ncols=2, nrows=1,\n",
    "                         widt=[2, 1])\n",
    "# Set the palette using the name of a palette:\n",
    "ax0 = fig.add_subplot(spec[0])\n",
    "sns.lineplot(time, extract_data, ax=ax0)\n",
    "ax1 = fig.add_subplot(spec[1])\n",
    "sns.heatmap(extract_weight, cmap='OrRd', cbar=False, ax=ax1)\n",
    "\n",
    "plt.show()"
   ]
  },
  {
   "cell_type": "code",
   "execution_count": 75,
   "metadata": {},
   "outputs": [
    {
     "data": {
      "image/png": "[encoded data removed]",
      "text/plain": [
       "<Figure size 1440x72 with 2 Axes>"
      ]
     },
     "metadata": {
      "needs_background": "light"
     },
     "output_type": "display_data"
    }
   ],
   "source": [
    "extract_weight = np.array(attn_weights1[0, 0, 1:]).reshape(1, -1)\n",
    "\n",
    "fig, ax = plt.subplots(figsize=(20, 1))\n",
    "# Set the palette using the name of a palette:\n",
    "sns.heatmap(extract_weight, cmap='OrRd')\n",
    "plt.show()"
   ]
  },
  {
   "cell_type": "code",
   "execution_count": 65,
   "metadata": {},
   "outputs": [
    {
     "data": {
      "image/png": "[encoded data removed]",
      "text/plain": [
       "<Figure size 2160x1440 with 2 Axes>"
      ]
     },
     "metadata": {
      "needs_background": "light"
     },
     "output_type": "display_data"
    }
   ],
   "source": [
    "import seaborn as sns\n",
    "\n",
    "\n",
    "data = np.array(attn_weights1[:, 0, 1:])\n",
    "data = data.reshape(attn_weights1.shape[0], -1)\n",
    "\n",
    "# print(outputs)\n",
    "# print(data.shape)\n",
    "\n",
    "fig, ax = plt.subplots(figsize=(30, 20))\n",
    "# Set the palette using the name of a palette:\n",
    "sns.heatmap(data, cmap='OrRd')\n",
    "plt.show()"
   ]
  },
  {
   "cell_type": "code",
   "execution_count": 42,
   "metadata": {},
   "outputs": [
    {
     "name": "stdout",
     "output_type": "stream",
     "text": [
      "(201,)\n",
      "torch.Size([201])\n"
     ]
    }
   ],
   "source": [
    "print(np.array(attn_weights1[0, 0, :]).shape)\n",
    "print(attn_weights2[0, 0, :].shape)"
   ]
  },
  {
   "cell_type": "code",
   "execution_count": null,
   "metadata": {},
   "outputs": [],
   "source": [
    "# HTMLを作成する関数を実装\n",
    "\n",
    "\n",
    "def highlight(word, attn):\n",
    "    \"Attentionの値が大きいと文字の背景が濃い赤になるhtmlを出力させる関数\"\n",
    "\n",
    "    html_color = '#%02X%02X%02X' % (\n",
    "        255, int(255*(1 - attn)), int(255*(1 - attn)))\n",
    "    return '<span style=\"background-color: {}\"> {}</span>'.format(html_color, word)\n",
    "\n",
    "\n",
    "def mk_html(index, batch, preds, normlized_weights_1, normlized_weights_2, TEXT):\n",
    "    \"HTMLデータを作成する\"\n",
    "\n",
    "    # indexの結果を抽出\n",
    "    sentence = batch.Text[0][index]  # 文章\n",
    "    label = batch.Label[index]  # ラベル\n",
    "    pred = preds[index]  # 予測\n",
    "\n",
    "    # indexのAttentionを抽出と規格化\n",
    "    attens1 = normlized_weights_1[index, 0, :]  # 0番目の<cls>のAttention\n",
    "    attens1 /= attens1.max()\n",
    "\n",
    "    attens2 = normlized_weights_2[index, 0, :]  # 0番目の<cls>のAttention\n",
    "    attens2 /= attens2.max()\n",
    "\n",
    "    # ラベルと予測結果を文字に置き換え\n",
    "    if label == 0:\n",
    "        label_str = \"Negative\"\n",
    "    else:\n",
    "        label_str = \"Positive\"\n",
    "\n",
    "    if pred == 0:\n",
    "        pred_str = \"Negative\"\n",
    "    else:\n",
    "        pred_str = \"Positive\"\n",
    "\n",
    "    # 表示用のHTMLを作成する\n",
    "    html = '正解ラベル：{}<br>推論ラベル：{}<br><br>'.format(label_str, pred_str)\n",
    "\n",
    "    # 1段目のAttention\n",
    "    html += '[TransformerBlockの1段目のAttentionを可視化]<br>'\n",
    "    for word, attn in zip(sentence, attens1):\n",
    "        html += highlight(TEXT.vocab.itos[word], attn)\n",
    "    html += \"<br><br>\"\n",
    "\n",
    "    # 2段目のAttention\n",
    "    html += '[TransformerBlockの2段目のAttentionを可視化]<br>'\n",
    "    for word, attn in zip(sentence, attens2):\n",
    "        html += highlight(TEXT.vocab.itos[word], attn)\n",
    "\n",
    "    html += \"<br><br>\"\n",
    "\n",
    "    return html"
   ]
  },
  {
   "cell_type": "markdown",
   "metadata": {
    "id": "jbC1HozPH0tb"
   },
   "source": [
    "# Extract model weights"
   ]
  },
  {
   "cell_type": "code",
   "execution_count": null,
   "metadata": {
    "colab": {
     "base_uri": "https://localhost:8080/"
    },
    "executionInfo": {
     "elapsed": 226,
     "status": "ok",
     "timestamp": 1636988667911,
     "user": {
      "displayName": "Kento Suzuki",
      "photoUrl": "https://lh3.googleusercontent.com/a/default-user=s64",
      "userId": "16345288529127918743"
     },
     "user_tz": -540
    },
    "id": "Qa4XKsNqH6pp",
    "outputId": "55379129-ff58-43db-8b20-db69c63701e0"
   },
   "outputs": [],
   "source": [
    "model.summary()"
   ]
  },
  {
   "cell_type": "code",
   "execution_count": null,
   "metadata": {
    "executionInfo": {
     "elapsed": 243,
     "status": "ok",
     "timestamp": 1636988716444,
     "user": {
      "displayName": "Kento Suzuki",
      "photoUrl": "https://lh3.googleusercontent.com/a/default-user=s64",
      "userId": "16345288529127918743"
     },
     "user_tz": -540
    },
    "id": "pPIcNwFDHz2L"
   },
   "outputs": [],
   "source": [
    "from keras.models import Model\n",
    "layer_name = 'multi_head_attention_10'\n",
    "hidden_layer_model = Model(inputs=model.input, outputs=model.get_layer(layer_name).output)"
   ]
  },
  {
   "cell_type": "code",
   "execution_count": null,
   "metadata": {
    "colab": {
     "base_uri": "https://localhost:8080/"
    },
    "executionInfo": {
     "elapsed": 220,
     "status": "ok",
     "timestamp": 1636988755695,
     "user": {
      "displayName": "Kento Suzuki",
      "photoUrl": "https://lh3.googleusercontent.com/a/default-user=s64",
      "userId": "16345288529127918743"
     },
     "user_tz": -540
    },
    "id": "F4N5RsTJIb2f",
    "outputId": "dc80e945-cae7-4c9c-a7be-82a1a23ee9ac"
   },
   "outputs": [],
   "source": [
    "hidden_output = hidden_layer_model.predict(x_train)\n",
    "hidden_output.shape"
   ]
  },
  {
   "cell_type": "code",
   "execution_count": null,
   "metadata": {
    "colab": {
     "base_uri": "https://localhost:8080/"
    },
    "executionInfo": {
     "elapsed": 228,
     "status": "ok",
     "timestamp": 1636990089797,
     "user": {
      "displayName": "Kento Suzuki",
      "photoUrl": "https://lh3.googleusercontent.com/a/default-user=s64",
      "userId": "16345288529127918743"
     },
     "user_tz": -540
    },
    "id": "jxw_sOozKZ-J",
    "outputId": "6248c723-a08e-4a39-c994-f9c1a144e666"
   },
   "outputs": [],
   "source": [
    "weights = model.get_layer(layer_name).get_weights()\n",
    "# print(weights)\n",
    "print(type(weights))\n",
    "print(len(weights))\n",
    "print(weights[0].shape)\n",
    "print(weights[0][0].shape)"
   ]
  },
  {
   "cell_type": "code",
   "execution_count": null,
   "metadata": {
    "colab": {
     "base_uri": "https://localhost:8080/"
    },
    "executionInfo": {
     "elapsed": 248,
     "status": "ok",
     "timestamp": 1636988842788,
     "user": {
      "displayName": "Kento Suzuki",
      "photoUrl": "https://lh3.googleusercontent.com/a/default-user=s64",
      "userId": "16345288529127918743"
     },
     "user_tz": -540
    },
    "id": "1HoX9tiwIzs_",
    "outputId": "a9ee7ff0-f2a7-4327-e0a2-24e588717bd1"
   },
   "outputs": [],
   "source": [
    "print(hidden_output[0, :, :])"
   ]
  },
  {
   "cell_type": "markdown",
   "metadata": {
    "id": "4-yzJPijYTp2"
   },
   "source": [
    "## Conclusions\n",
    "\n",
    "In about 110-120 epochs (25s each on Colab), the model reaches a training\n",
    "accuracy of ~0.95, validation accuracy of ~84 and a testing\n",
    "accuracy of ~85, without hyperparameter tuning. And that is for a model\n",
    "with less than 100k parameters. Of course, parameter count and accuracy could be\n",
    "improved by a hyperparameter search and a more sophisticated learning rate\n",
    "schedule, or a different optimizer."
   ]
  },
  {
   "cell_type": "code",
   "execution_count": null,
   "metadata": {
    "colab": {
     "base_uri": "https://localhost:8080/",
     "height": 1000
    },
    "executionInfo": {
     "elapsed": 789,
     "status": "ok",
     "timestamp": 1636988161206,
     "user": {
      "displayName": "Kento Suzuki",
      "photoUrl": "https://lh3.googleusercontent.com/a/default-user=s64",
      "userId": "16345288529127918743"
     },
     "user_tz": -540
    },
    "id": "u-w4Btsihm7E",
    "outputId": "f3ea6647-9d02-4a8e-bbfe-ed7b097fcc9f"
   },
   "outputs": [],
   "source": [
    "from sklearn.metrics import confusion_matrix\n",
    "import seaborn as sns\n",
    "\n",
    "pred = model.predict(x_train)\n",
    "# print(pred)\n",
    "# print(y_test)\n",
    "test_seed = np.argmax(y_train, axis=1)\n",
    "onehot_pred_seed = np.argmax(pred, axis=1)\n",
    "onehot_pred = np.zeros((len(y_train), n_classes))\n",
    "\n",
    "for i in range(len(y_train)):\n",
    "    onehot_pred[i, onehot_pred_seed[i]] = 1\n",
    "print(onehot_pred)\n",
    "\n",
    "plt.figure()\n",
    "# sns.heatmap(pred)\n",
    "\n",
    "labels = sorted(list(set(test_seed)))\n",
    "c_mtx = confusion_matrix(test_seed, onehot_pred_seed)\n",
    "print(c_mtx)\n",
    "df_cmx = pd.DataFrame(c_mtx, index=labels, columns=labels)\n",
    "\n",
    "plt.figure(figsize = (10,7))\n",
    "sns.heatmap(df_cmx, annot=True, cmap='Blues')\n",
    "plt.show()"
   ]
  },
  {
   "cell_type": "code",
   "execution_count": null,
   "metadata": {
    "executionInfo": {
     "elapsed": 4,
     "status": "aborted",
     "timestamp": 1636987416079,
     "user": {
      "displayName": "Kento Suzuki",
      "photoUrl": "https://lh3.googleusercontent.com/a/default-user=s64",
      "userId": "16345288529127918743"
     },
     "user_tz": -540
    },
    "id": "OUiQHbal2gsr"
   },
   "outputs": [],
   "source": [
    "\n",
    "\n",
    "pred = model.predict(x_test)\n",
    "mask = pred[:, 0] > 0.7\n",
    "print(mask)\n",
    "prediction = np.ones(len(pred))\n",
    "prediction[mask] = int(0)\n",
    "print(prediction)\n",
    "print(y_test)\n",
    "\n",
    "# confusion_matrix(y_test, prediction)"
   ]
  },
  {
   "cell_type": "code",
   "execution_count": null,
   "metadata": {
    "executionInfo": {
     "elapsed": 4,
     "status": "aborted",
     "timestamp": 1636987416079,
     "user": {
      "displayName": "Kento Suzuki",
      "photoUrl": "https://lh3.googleusercontent.com/a/default-user=s64",
      "userId": "16345288529127918743"
     },
     "user_tz": -540
    },
    "id": "hdDBIonZ23ev"
   },
   "outputs": [],
   "source": [
    "from sklearn.metrics import roc_curve\n",
    "\n",
    "fpr, tpr, thresholds = roc_curve(y_test, pred[:, 1])\n",
    "plt.plot(fpr, tpr, marker='o')\n",
    "plt.xlabel('FPR: False positive rate')\n",
    "plt.ylabel('TPR: True positive rate')\n",
    "plt.grid()\n",
    "# plt.savefig('data/dst/sklearn_roc_curve.png')\n"
   ]
  },
  {
   "cell_type": "code",
   "execution_count": null,
   "metadata": {
    "executionInfo": {
     "elapsed": 4,
     "status": "aborted",
     "timestamp": 1636987416079,
     "user": {
      "displayName": "Kento Suzuki",
      "photoUrl": "https://lh3.googleusercontent.com/a/default-user=s64",
      "userId": "16345288529127918743"
     },
     "user_tz": -540
    },
    "id": "sX7EPGApCVeK"
   },
   "outputs": [],
   "source": []
  }
 ],
 "metadata": {
  "accelerator": "GPU",
  "colab": {
   "collapsed_sections": [],
   "name": "timeseries_transformer_classification.ipynb",
   "provenance": [
    {
     "file_id": "https://github.com/keras-team/keras-io/blob/master/examples/timeseries/ipynb/timeseries_classification_transformer.ipynb",
     "timestamp": 1636355482830
    }
   ]
  },
  "kernelspec": {
   "display_name": "Python 3 (ipykernel)",
   "language": "python",
   "name": "python3"
  },
  "language_info": {
   "codemirror_mode": {
    "name": "ipython",
    "version": 3
   },
   "file_extension": ".py",
   "mimetype": "text/x-python",
   "name": "python",
   "nbconvert_exporter": "python",
   "pygments_lexer": "ipython3",
   "version": "3.8.12"
  }
 },
 "nbformat": 4,
 "nbformat_minor": 4
}
