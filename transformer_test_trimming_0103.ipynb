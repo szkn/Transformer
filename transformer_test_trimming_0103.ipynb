{
 "cells": [
  {
   "cell_type": "markdown",
   "metadata": {
    "id": "zyRQwYrEYTpv"
   },
   "source": [
    "# 修士論文用\n",
    "## データのトリミングを行い，意味のある部分のみを抜き出すアルゴリズムを活用して生成したデータを用いて解析を行う"
   ]
  },
  {
   "cell_type": "code",
   "execution_count": 150,
   "metadata": {
    "executionInfo": {
     "elapsed": 843,
     "status": "ok",
     "timestamp": 1636987406075,
     "user": {
      "displayName": "Kento Suzuki",
      "photoUrl": "https://lh3.googleusercontent.com/a/default-user=s64",
      "userId": "16345288529127918743"
     },
     "user_tz": -540
    },
    "id": "dO5GxI7RzXIc"
   },
   "outputs": [],
   "source": [
    "import os\n",
    "import sys\n",
    "import csv\n",
    "import math\n",
    "import json\n",
    "import glob\n",
    "import random\n",
    "import numpy as np\n",
    "import pandas as pd\n",
    "from tqdm import tqdm\n",
    "import matplotlib.pyplot as plt\n",
    "from scipy import interpolate\n",
    "from sklearn.model_selection import train_test_split\n",
    "\n",
    "import torch\n",
    "import torch.nn as nn\n",
    "import torch.nn.functional as F\n",
    "import torch.optim as optim\n",
    "\n",
    "%matplotlib inline\n",
    "\n",
    "# sys.path.append(os.path.abspath(\"..\"))\n",
    "# import scripts.compensate\n",
    "# import scripts.kinectImg2video\n",
    "# from scripts.conpemsate_suppresser import *\n",
    "# from scripts.ground_angle_analysis import ground_shoulder_angle_analyzer\n",
    "# import scripts.ground_angle_analysis"
   ]
  },
  {
   "cell_type": "code",
   "execution_count": 151,
   "metadata": {},
   "outputs": [],
   "source": [
    "# Setup seeds\n",
    "torch.manual_seed(1234)\n",
    "np.random.seed(1234)\n",
    "random.seed(1234)"
   ]
  },
  {
   "cell_type": "code",
   "execution_count": 152,
   "metadata": {},
   "outputs": [],
   "source": [
    "# 日付の追加\n",
    "df_annotate = pd.read_excel(\"/Users/kento/kuhp/experiment/for_HCI/annotate_dataset.xlsx\")\n",
    "df_annotate['date'] = pd.to_datetime(df_annotate['date'], format='%Y%m%d%H%M%S')"
   ]
  },
  {
   "cell_type": "code",
   "execution_count": 153,
   "metadata": {},
   "outputs": [],
   "source": [
    "# DataSetの呼び出し\n",
    "df_data = pd.read_csv(\"/Users/kento/kuhp/experiment/bigdata_trimmed.csv\")\n",
    "df_data['date'] = pd.to_datetime(df_data['date'], format='%Y-%m-%d-%H-%M-%S')"
   ]
  },
  {
   "cell_type": "code",
   "execution_count": 154,
   "metadata": {
    "executionInfo": {
     "elapsed": 10,
     "status": "ok",
     "timestamp": 1636987406076,
     "user": {
      "displayName": "Kento Suzuki",
      "photoUrl": "https://lh3.googleusercontent.com/a/default-user=s64",
      "userId": "16345288529127918743"
     },
     "user_tz": -540
    },
    "id": "GZlVgJy1zXIc"
   },
   "outputs": [],
   "source": [
    "pd_merged = pd.merge(df_annotate, df_data, on='date', how='inner')\n",
    "pd_3 = pd_merged[pd_merged['point'] == 3]\n",
    "pd_2A = pd_merged[pd_merged['point'] == '2A']\n",
    "pd_2B = pd_merged[pd_merged['point'] == '2B']\n",
    "pd_2C = pd_merged[pd_merged['point'] == '2C']"
   ]
  },
  {
   "cell_type": "code",
   "execution_count": 155,
   "metadata": {},
   "outputs": [],
   "source": [
    "dataset = pd.merge(df_annotate, df_data, on='date', how='inner')\n",
    "dataset.loc[dataset['point'] == '3', 'score'] = 3\n",
    "dataset.loc[dataset['point'] == '2A', 'score'] = 2\n",
    "dataset.loc[dataset['point'] == '2B', 'score'] = 1\n",
    "dataset.loc[dataset['point'] == '2C', 'score'] = 0\n",
    "# dataset['score'] = dataset['score'].astype(int)"
   ]
  },
  {
   "cell_type": "code",
   "execution_count": 156,
   "metadata": {},
   "outputs": [
    {
     "name": "stderr",
     "output_type": "stream",
     "text": [
      "/var/folders/yt/fsd0dzhn23z2jcmc2hrkjcn00000gn/T/ipykernel_5820/1814983498.py:2: SettingWithCopyWarning: \n",
      "A value is trying to be set on a copy of a slice from a DataFrame.\n",
      "Try using .loc[row_indexer,col_indexer] = value instead\n",
      "\n",
      "See the caveats in the documentation: https://pandas.pydata.org/pandas-docs/stable/user_guide/indexing.html#returning-a-view-versus-a-copy\n",
      "  pd_3[\"score\"] = 3\n",
      "/var/folders/yt/fsd0dzhn23z2jcmc2hrkjcn00000gn/T/ipykernel_5820/1814983498.py:3: SettingWithCopyWarning: \n",
      "A value is trying to be set on a copy of a slice from a DataFrame.\n",
      "Try using .loc[row_indexer,col_indexer] = value instead\n",
      "\n",
      "See the caveats in the documentation: https://pandas.pydata.org/pandas-docs/stable/user_guide/indexing.html#returning-a-view-versus-a-copy\n",
      "  pd_2A[\"score\"] = 2\n",
      "/var/folders/yt/fsd0dzhn23z2jcmc2hrkjcn00000gn/T/ipykernel_5820/1814983498.py:4: SettingWithCopyWarning: \n",
      "A value is trying to be set on a copy of a slice from a DataFrame.\n",
      "Try using .loc[row_indexer,col_indexer] = value instead\n",
      "\n",
      "See the caveats in the documentation: https://pandas.pydata.org/pandas-docs/stable/user_guide/indexing.html#returning-a-view-versus-a-copy\n",
      "  pd_2B[\"score\"] = 1\n",
      "/var/folders/yt/fsd0dzhn23z2jcmc2hrkjcn00000gn/T/ipykernel_5820/1814983498.py:5: SettingWithCopyWarning: \n",
      "A value is trying to be set on a copy of a slice from a DataFrame.\n",
      "Try using .loc[row_indexer,col_indexer] = value instead\n",
      "\n",
      "See the caveats in the documentation: https://pandas.pydata.org/pandas-docs/stable/user_guide/indexing.html#returning-a-view-versus-a-copy\n",
      "  pd_2C[\"score\"] = 0\n"
     ]
    }
   ],
   "source": [
    "# スコアの付替\n",
    "pd_3[\"score\"] = 3\n",
    "pd_2A[\"score\"] = 2\n",
    "pd_2B[\"score\"] = 1\n",
    "pd_2C[\"score\"] = 0"
   ]
  },
  {
   "cell_type": "markdown",
   "metadata": {},
   "source": [
    "## RElbow2RWrist と Rshoulder2RElbow と Pelvis2RShoulder と Pelvis2Neck の速度を入れてみる "
   ]
  },
  {
   "cell_type": "code",
   "execution_count": 157,
   "metadata": {},
   "outputs": [],
   "source": [
    "def add_vector(df, joint1, joint2, word=\"\"):\n",
    "    df[f\"{word}_x_{joint1}2{joint2}\"] = df[f\"x_{joint1}\"].astype('float64') - df[f\"x_{joint2}\"].astype('float64')\n",
    "    df[f\"{word}_y_{joint1}2{joint2}\"] = df[f\"y_{joint1}\"].astype('float64') - df[f\"y_{joint2}\"].astype('float64')\n",
    "    df[f\"{word}_z_{joint1}2{joint2}\"] = df[f\"z_{joint1}\"].astype('float64') - df[f\"z_{joint2}\"].astype('float64')\n",
    "    return df\n",
    "\n",
    "dataset = add_vector(dataset, 'RShoulder', \"RElbow\", 'v')\n",
    "dataset = add_vector(dataset, 'Pelvis', \"RShoulder\", 'v')\n",
    "dataset = add_vector(dataset, 'Pelvis', \"Neck\", 'v')"
   ]
  },
  {
   "cell_type": "code",
   "execution_count": 158,
   "metadata": {},
   "outputs": [],
   "source": [
    "df_annotate\n",
    "l_date = df_annotate['date'].values"
   ]
  },
  {
   "cell_type": "code",
   "execution_count": 159,
   "metadata": {},
   "outputs": [],
   "source": [
    "def create_Xy(df):\n",
    "    y = np.array(df[\"score\"].mode()) #一番多いものをscoreとして最後にyとして返す\n",
    "    y_arr = np.ones(len(df['date'].unique()))\n",
    "    y_arr = y_arr * y\n",
    "    l_date_name = np.array(df['date'].unique())\n",
    "    for k, date in enumerate(l_date_name):\n",
    "        #一連のデータ，1サンプル\n",
    "        series = df[df['date'] == l_date_name[k]]\n",
    "        series = series.drop(columns='point')\n",
    "        #差分ベクトルを取得\n",
    "        diff = series.diff().drop(columns='date')\n",
    "        diff = diff.fillna(0)\n",
    "\n",
    "        # 間接点同士のベクトルのカラムをデータフレームに追加\n",
    "        # df_dataset = add_vector(diff, 'RElbow', \"RWrist\", 'v')\n",
    "        # df_dataset = add_vector(df_dataset, 'RShoulder', \"RElbow\", 'v')\n",
    "        # df_dataset = add_vector(df_dataset, 'Pelvis', \"RShoulder\", 'v')\n",
    "        # df_dataset = add_vector(df_dataset, 'Pelvis', \"Neck\", 'v')\n",
    "        # arr_data = df_dataset.loc[:, \"v_x_RElbow2RWrist\":].values\n",
    "        diff = add_vector(diff, 'RElbow', \"RWrist\", 'v')\n",
    "        diff = add_vector(diff, 'RShoulder', \"RElbow\", 'v')\n",
    "        diff = add_vector(diff, 'Pelvis', \"RShoulder\", 'v')\n",
    "        diff = add_vector(diff, 'Pelvis', \"Neck\", 'v')\n",
    "        diff = add_vector(diff, 'Neck', 'RShoulder', 'v')\n",
    "        diff = add_vector(diff, 'Neck', 'LShoulder', 'v')\n",
    "        arr_data = diff.loc[:, \"v_x_RElbow2RWrist\":].values\n",
    "        # print(arr_data.shape)\n",
    "        \n",
    "        for i in range(arr_data.shape[1]):\n",
    "            tmp_interpolate = interpolate1(arr_data[:, i])\n",
    "            # print(tmp_interpolate.shape)\n",
    "            #二次元に拡張\n",
    "            tmp_interpolate = tmp_interpolate.reshape(tmp_interpolate.shape[0], 1)\n",
    "            if i == 0:\n",
    "                x = tmp_interpolate\n",
    "            else:\n",
    "                x = np.concatenate([x, tmp_interpolate],1)\n",
    "        x = x.reshape(1, x.shape[0], x.shape[1])\n",
    "        if k == 0:\n",
    "            X = x\n",
    "            # print(X.shape)\n",
    "        else:\n",
    "            X = np.concatenate([X, x], axis=0)\n",
    "    return (X, y_arr)"
   ]
  },
  {
   "cell_type": "code",
   "execution_count": 160,
   "metadata": {
    "executionInfo": {
     "elapsed": 7,
     "status": "ok",
     "timestamp": 1636987406078,
     "user": {
      "displayName": "Kento Suzuki",
      "photoUrl": "https://lh3.googleusercontent.com/a/default-user=s64",
      "userId": "16345288529127918743"
     },
     "user_tz": -540
    },
    "id": "IIUUVLyhzXIe",
    "tags": []
   },
   "outputs": [],
   "source": [
    "#ファイル名からスコアを取得して，dfを返す関数 \n",
    "def read_csv_add_score(filepath, score):\n",
    "    df = pd.read_csv(filepath, header=None)\n",
    "    #スコアの取得\n",
    "    # score = filepath.split(\"-\")[1].split('.')[0]\n",
    "    df['score'] = score\n",
    "    return df\n",
    "\n",
    "def interpolate1(array):\n",
    "    x_old = np.linspace(0, 1, array.shape[0])\n",
    "    y_old = array\n",
    "    \n",
    "    f = interpolate.interp1d(x_old, y_old)\n",
    "\n",
    "    x = np.linspace(0, 1, 100)\n",
    "    y_new = f(x)\n",
    "    return y_new\n",
    "\n",
    "\n",
    "def interpolate_df(df):\n",
    "    y_raw = np.array(df.loc[:, \"x_Pelvis\":\"z_REar\"])\n",
    "    print(i)\n",
    "    length = len(y_raw)-1\n",
    "\n",
    "    #rawデータを乗せる0→1のベクトルを作成する\n",
    "    second_raw = np.linspace(0, 1, length)\n",
    "\n",
    "    #新しく生成される0→1のベクトル(要素数200)\n",
    "    second_new = np.linspace(0, 1, 200)\n",
    "\n",
    "    f = interpolate.interp1d(second_raw, y_raw, kind='cubic')\n",
    "    y_new = f(second_new)\n",
    "    l.append(y_new)\n",
    "    df_new = pd.DataFrame(l).T\n",
    "    df_new['score'] = df['score'].mode()[0]\n",
    "    return df_new\n",
    "    \n",
    "def extract_joint(df, joint_name):\n",
    "    # dic = joint_dict()\n",
    "    # joint_id = dic[joint_name]\n",
    "    df_ex = df.loc[:, [f\"x_{joint_name}\", f\"y_{joint_name}\", f\"z_{joint_name}\"]]\n",
    "    df_ex['score'] = df['score'].mode()[0] #scoreを引き継ぐ\n",
    "    return df_ex\n",
    "\n",
    "def zscore(x, axis = None):\n",
    "    xmean = x.mean(axis=axis, keepdims=True)\n",
    "    xstd  = np.std(x, axis=axis, keepdims=True)\n",
    "    zscore = (x-xmean)/xstd\n",
    "    return zscore"
   ]
  },
  {
   "cell_type": "code",
   "execution_count": 161,
   "metadata": {
    "executionInfo": {
     "elapsed": 7,
     "status": "ok",
     "timestamp": 1636987406078,
     "user": {
      "displayName": "Kento Suzuki",
      "photoUrl": "https://lh3.googleusercontent.com/a/default-user=s64",
      "userId": "16345288529127918743"
     },
     "user_tz": -540
    },
    "id": "UtcP1iNDzXIf"
   },
   "outputs": [],
   "source": [
    "def create_pos_dataset(l_filepath, score, joint1_name, joint2_name):\n",
    "    for filepath in l_filepath:\n",
    "        df = read_csv_add_score(filepath, score)\n",
    "        df = interpolate_df(df)\n",
    "        dataset_joint1 = extract_joint(df, joint1_name)\n",
    "        dataset_joint2 = extract_joint(df, joint2_name)\n",
    "        \n",
    "        #複数のデータ間でscoreのndarray を作成する種\n",
    "        y_one = np.array([dataset_joint1['score'].mode()[0]], dtype=np.int64)\n",
    "        if 'y' in locals():\n",
    "            y = np.concatenate([y, y_one])\n",
    "        else:\n",
    "            y = y_one\n",
    "\n",
    "        #複数のデータ間で X データセットを作成する種\n",
    "        joint1 = dataset_joint1.iloc[:, 0:3].to_numpy()\n",
    "        joint1 = np.expand_dims(joint1, axis=0)\n",
    "\n",
    "        joint2 = dataset_joint2.iloc[:, 0:3].to_numpy()\n",
    "        joint2 = np.expand_dims(joint2, axis=0)\n",
    "\n",
    "        X_one = joint1 - joint2\n",
    "        \n",
    "        # Xにノルムを追加する\n",
    "        norm = np.linalg.norm(X_one, axis=2,ord=2)\n",
    "        norm = norm.reshape((1,-1,1))\n",
    "        X_one = np.concatenate((X_one, norm), axis=2)\n",
    "\n",
    "        if 'X' in locals():\n",
    "            X = np.concatenate([X, X_one])\n",
    "        else:\n",
    "            X = X_one\n",
    "            \n",
    "    return X, y"
   ]
  },
  {
   "cell_type": "code",
   "execution_count": 162,
   "metadata": {},
   "outputs": [],
   "source": [
    "(X_3, y_3) = create_Xy(pd_3)\n",
    "(X_2, y_2) = create_Xy(pd_2A)\n",
    "(X_1, y_1) = create_Xy(pd_2B)\n",
    "(X_0, y_0) = create_Xy(pd_2C)"
   ]
  },
  {
   "cell_type": "code",
   "execution_count": 163,
   "metadata": {},
   "outputs": [],
   "source": [
    "#DataSetの結合\n",
    "x_train = np.concatenate([X_3, X_2, X_1, X_0])\n",
    "y_train = np.concatenate([y_3, y_2, y_1, y_0])\n",
    "y_train = y_train.astype('int64')\n",
    "x_test = np.concatenate([X_3, X_2, X_1, X_0])\n",
    "y_test = np.concatenate([y_3, y_2, y_1, y_0])\n",
    "y_test = y_test.astype('int64')"
   ]
  },
  {
   "cell_type": "code",
   "execution_count": 164,
   "metadata": {
    "colab": {
     "base_uri": "https://localhost:8080/"
    },
    "executionInfo": {
     "elapsed": 2335,
     "status": "ok",
     "timestamp": 1636987414597,
     "user": {
      "displayName": "Kento Suzuki",
      "photoUrl": "https://lh3.googleusercontent.com/a/default-user=s64",
      "userId": "16345288529127918743"
     },
     "user_tz": -540
    },
    "id": "k9FusOpOct7Z",
    "outputId": "53480609-b57f-45a1-c988-5f330dc69d11"
   },
   "outputs": [
    {
     "name": "stdout",
     "output_type": "stream",
     "text": [
      "4\n"
     ]
    }
   ],
   "source": [
    "n_classes = len(np.unique(y_train))\n",
    "print(n_classes)\n",
    "\n",
    "y_train_onehot = np.identity(n_classes)[y_train]\n",
    "y_test_onehot = np.identity(n_classes)[y_test]\n",
    "# print(y_train_onehot)"
   ]
  },
  {
   "cell_type": "markdown",
   "metadata": {},
   "source": [
    "## PyTorchのdatasetの作成\n"
   ]
  },
  {
   "cell_type": "code",
   "execution_count": 165,
   "metadata": {},
   "outputs": [],
   "source": [
    "### 先頭にclassification用のトークンを追加する\n",
    "score_train = np.zeros((x_train.shape[0], 1 , x_train.shape[2]))\n",
    "x_train = np.concatenate([score_train, x_train], axis=1)"
   ]
  },
  {
   "cell_type": "code",
   "execution_count": 166,
   "metadata": {},
   "outputs": [],
   "source": [
    "X = torch.tensor(x_train, dtype=torch.float32)\n",
    "y = torch.tensor(y_train_onehot, dtype=torch.int8)\n",
    "\n",
    "X_val = torch.tensor(x_test, dtype=torch.float32)\n",
    "y_val = torch.tensor(y_test_onehot, dtype=torch.int8)"
   ]
  },
  {
   "cell_type": "code",
   "execution_count": 167,
   "metadata": {
    "executionInfo": {
     "elapsed": 217,
     "status": "ok",
     "timestamp": 1636987552788,
     "user": {
      "displayName": "Kento Suzuki",
      "photoUrl": "https://lh3.googleusercontent.com/a/default-user=s64",
      "userId": "16345288529127918743"
     },
     "user_tz": -540
    },
    "id": "xdm8NB-cYTpy",
    "tags": []
   },
   "outputs": [],
   "source": [
    "dataset = torch.utils.data.TensorDataset(X, y)\n",
    "dataloader = torch.utils.data.DataLoader(dataset, batch_size=1)\n",
    "\n",
    "val_dataset = torch.utils.data.TensorDataset(X_val, y_val)\n",
    "val_dataloader = torch.utils.data.DataLoader(val_dataset, batch_size=1)"
   ]
  },
  {
   "cell_type": "code",
   "execution_count": 168,
   "metadata": {},
   "outputs": [],
   "source": [
    "dataloaders_dict = {\"train\": dataloader, \"val\": dataloader}"
   ]
  },
  {
   "cell_type": "code",
   "execution_count": 169,
   "metadata": {
    "colab": {
     "base_uri": "https://localhost:8080/",
     "height": 270
    },
    "executionInfo": {
     "elapsed": 236,
     "status": "error",
     "timestamp": 1636987592056,
     "user": {
      "displayName": "Kento Suzuki",
      "photoUrl": "https://lh3.googleusercontent.com/a/default-user=s64",
      "userId": "16345288529127918743"
     },
     "user_tz": -540
    },
    "id": "2OL034kYaoAv",
    "outputId": "9266b2b2-5b7a-4fea-98ad-0af70ee98efe"
   },
   "outputs": [],
   "source": [
    "# import matplotlib.pyplot as plt\n",
    "\n",
    "# classes = np.unique(y, axis=0)\n",
    "# print(classes)\n",
    "\n",
    "# fig = plt.figure(figsize=(10, 15))\n",
    "\n",
    "# # 各点のプロットを行う\n",
    "# for i, item in enumerate([0, 10, 20]):\n",
    "#     c_x_train = x_train[item]\n",
    "#     # print(f\"class is {np.argmax(y_train[item])}\")\n",
    "#     fig.add_subplot(3, 1, i+1)\n",
    "#     plt.plot(c_x_train[:, :], label=[\"x\", \"y\", \"z\"])\n",
    "#     plt.title(f\"score {y_train[item]}\")\n",
    "#     plt.legend(loc=\"best\")\n",
    "#     plt.grid()\n",
    "\n",
    "# # 各点のプロットを行う\n",
    "# # c_x_train = x_train[10]\n",
    "# # print(f\"class is {np.argmax(y_train[11])}\")\n",
    "# # fig.add_subplot(3, 1, 2)\n",
    "# # plt.plot(c_x_train[:, :], label=[\"x\", \"y\", \"z\"])\n",
    "# # plt.legend(loc=\"best\")\n",
    "# # plt.grid()\n",
    "\n",
    "\n",
    "# plt.show()\n",
    "# plt.close()"
   ]
  },
  {
   "cell_type": "code",
   "execution_count": 170,
   "metadata": {
    "colab": {
     "base_uri": "https://localhost:8080/"
    },
    "executionInfo": {
     "elapsed": 217,
     "status": "ok",
     "timestamp": 1636987650297,
     "user": {
      "displayName": "Kento Suzuki",
      "photoUrl": "https://lh3.googleusercontent.com/a/default-user=s64",
      "userId": "16345288529127918743"
     },
     "user_tz": -540
    },
    "id": "8vf0x--aaZjE",
    "outputId": "57c2d515-00a5-443a-b22e-6fa77d359e84"
   },
   "outputs": [],
   "source": [
    "idx = np.random.permutation(len(x_train))\n",
    "x_train = x_train[idx]\n",
    "y_train = y_train[idx]"
   ]
  },
  {
   "cell_type": "markdown",
   "metadata": {
    "id": "UxW659H6YTpz"
   },
   "source": [
    "## Build the model\n",
    "\n",
    "Our model processes a tensor of shape `(batch size, sequence length, features)`,\n",
    "where `sequence length` is the number of time steps and `features` is each input\n",
    "timeseries.\n",
    "\n",
    "You can replace your classification RNN layers with this one: the\n",
    "inputs are fully compatible!"
   ]
  },
  {
   "cell_type": "markdown",
   "metadata": {
    "id": "urNK4ym-YTp0"
   },
   "source": [
    "We include residual connections, layer normalization, and dropout.\n",
    "The resulting layer can be stacked multiple times.\n",
    "\n",
    "The projection layers are implemented through `keras.layers.Conv1D`."
   ]
  },
  {
   "cell_type": "code",
   "execution_count": 171,
   "metadata": {},
   "outputs": [],
   "source": [
    "class PositionalEncoder(nn.Module):\n",
    "    '''入力された単語の位置を示すベクトル情報を付加する'''\n",
    "\n",
    "    def __init__(self, d_model=12, max_seq_len=256):\n",
    "        super().__init__()\n",
    "\n",
    "        self.d_model = d_model  # 単語ベクトルの次元数\n",
    "\n",
    "        # 単語の順番（pos）と埋め込みベクトルの次元の位置（i）によって一意に定まる値の表をpeとして作成\n",
    "        pe = torch.zeros(max_seq_len, d_model)\n",
    "\n",
    "        # GPUが使える場合はGPUへ送る、ここでは省略。実際に学習時には使用する\n",
    "        # device = torch.device(\"cuda:0\" if torch.cuda.is_available() else \"cpu\")\n",
    "        # pe = pe.to(device)\n",
    "\n",
    "        for pos in range(max_seq_len):\n",
    "            for i in range(0, d_model, 2):\n",
    "                pe[pos, i] = math.sin(pos / (10000 ** ((2 * i)/d_model)))\n",
    "                \n",
    "                # 誤植修正_200510 #79\n",
    "                # pe[pos, i + 1] = math.cos(pos /\n",
    "                #                          (10000 ** ((2 * (i + 1))/d_model)))\n",
    "                pe[pos, i + 1] = math.cos(pos /\n",
    "                                          (10000 ** ((2 * i)/d_model)))\n",
    "\n",
    "        # 表peの先頭に、ミニバッチ次元となる次元を足す\n",
    "        self.pe = pe.unsqueeze(0)\n",
    "\n",
    "        # 勾配を計算しないようにする\n",
    "        self.pe.requires_grad = False\n",
    "\n",
    "    def forward(self, x):\n",
    "        # 入力xとPositonal Encodingを足し算する\n",
    "        # xがpeよりも小さいので、大きくする\n",
    "        ret = math.sqrt(self.d_model)*x + self.pe\n",
    "        return ret\n"
   ]
  },
  {
   "cell_type": "code",
   "execution_count": 172,
   "metadata": {},
   "outputs": [],
   "source": [
    "class Attention(nn.Module):\n",
    "    def __init__(self, d_model=4):\n",
    "        super().__init__()\n",
    "\n",
    "        # SAGANでは1dConvを使用したが、今回は全結合層で特徴量を変換する\n",
    "        self.q_linear = nn.Linear(d_model, d_model)\n",
    "        self.v_linear = nn.Linear(d_model, d_model)\n",
    "        self.k_linear = nn.Linear(d_model, d_model)\n",
    "\n",
    "        # 出力時に使用する全結合層\n",
    "        self.out = nn.Linear(d_model, d_model)\n",
    "\n",
    "        # Attentionの大きさ調整の変数\n",
    "        self.d_k = d_model\n",
    "\n",
    "    def forward(self, q, k, v, mask):\n",
    "        # 全結合層で特徴量を変換\n",
    "        k = self.k_linear(k)\n",
    "        q = self.q_linear(q)\n",
    "        v = self.v_linear(v)\n",
    "\n",
    "        # Attentionの値を計算する\n",
    "        # 各値を足し算すると大きくなりすぎるので、root(d_k)で割って調整\n",
    "        weights = torch.matmul(q, k.transpose(1, 2)) / math.sqrt(self.d_k)\n",
    "\n",
    "        # ここでmaskを計算\n",
    "        # mask = mask.unsqueeze(1)\n",
    "        # print(mask)\n",
    "        # weights = weights.masked_fill(mask == 0, -1e9)\n",
    "\n",
    "        # softmaxで規格化をする\n",
    "        normlized_weights = F.softmax(weights, dim=-1)\n",
    "\n",
    "        # AttentionをValueとかけ算\n",
    "        output = torch.matmul(normlized_weights, v)\n",
    "\n",
    "        # 全結合層で特徴量を変換\n",
    "        output = self.out(output)\n",
    "\n",
    "        return output, normlized_weights\n"
   ]
  },
  {
   "cell_type": "code",
   "execution_count": 173,
   "metadata": {},
   "outputs": [],
   "source": [
    "class FeedForward(nn.Module):\n",
    "    def __init__(self, d_model, d_ff=1024, dropout=0.1):\n",
    "        '''Attention層から出力を単純に全結合層2つで特徴量を変換するだけのユニットです'''\n",
    "        super().__init__()\n",
    "\n",
    "        self.linear_1 = nn.Linear(d_model, d_ff)\n",
    "        self.dropout = nn.Dropout(dropout)\n",
    "        self.linear_2 = nn.Linear(d_ff, d_model)\n",
    "\n",
    "    def forward(self, x):\n",
    "        x = self.linear_1(x)\n",
    "        x = self.dropout(F.relu(x))\n",
    "        x = self.linear_2(x)\n",
    "        return x"
   ]
  },
  {
   "cell_type": "code",
   "execution_count": 174,
   "metadata": {},
   "outputs": [],
   "source": [
    "class TransformerBlock(nn.Module):\n",
    "    def __init__(self, d_model, dropout=0.1):\n",
    "        super().__init__()\n",
    "\n",
    "        # LayerNormalization層\n",
    "        # https://pytorch.org/docs/stable/nn.html?highlight=layernorm\n",
    "        self.norm_1 = nn.LayerNorm(d_model)\n",
    "        self.norm_2 = nn.LayerNorm(d_model)\n",
    "\n",
    "        # Attention層\n",
    "        self.attn = Attention(d_model)\n",
    "\n",
    "        # Attentionのあとの全結合層2つ\n",
    "        self.ff = FeedForward(d_model)\n",
    "\n",
    "        # Dropout\n",
    "        self.dropout_1 = nn.Dropout(dropout)\n",
    "        self.dropout_2 = nn.Dropout(dropout)\n",
    "\n",
    "    def forward(self, x, mask):\n",
    "        # 正規化とAttention\n",
    "        # print(f\"input shape is {x.shape}\")\n",
    "        x_normlized = self.norm_1(x)\n",
    "        output, normlized_weights = self.attn(\n",
    "            x_normlized, x_normlized, x_normlized, mask)\n",
    "        \n",
    "        x2 = x + self.dropout_1(output)\n",
    "\n",
    "        # 正規化と全結合層\n",
    "        x_normlized2 = self.norm_2(x2)\n",
    "        output = x2 + self.dropout_2(self.ff(x_normlized2))\n",
    "        # print(f\"output shape is {output.shape}\")\n",
    "\n",
    "        return output, normlized_weights\n"
   ]
  },
  {
   "cell_type": "code",
   "execution_count": 175,
   "metadata": {},
   "outputs": [],
   "source": [
    "class ScoringHead(nn.Module):\n",
    "    '''Transformer_Blockの出力を使用して，最後にスコアリングを行う'''\n",
    "    \n",
    "    def __init__(self, d_model=300, output_dim=4):\n",
    "        super().__init__()\n",
    "\n",
    "        # 全結合層\n",
    "        self.linear = nn.Linear(d_model, output_dim)  # output_dimはポジ・ネガの2つ\n",
    "        self.output_dim = output_dim\n",
    "\n",
    "        # 重み初期化処理\n",
    "        nn.init.normal_(self.linear.weight, std=0.02)\n",
    "        nn.init.normal_(self.linear.bias, 0)\n",
    "\n",
    "    def forward(self, x):\n",
    "        x0 = x[:, 0, :]  # 各ミニバッチの各文の先頭の単語の特徴量（300次元）を取り出す\n",
    "        x1 = self.linear(x0)\n",
    "        out = F.softmax(x1, dim=-1)\n",
    "\n",
    "        return out"
   ]
  },
  {
   "cell_type": "code",
   "execution_count": 176,
   "metadata": {},
   "outputs": [],
   "source": [
    "class ClassificationHead(nn.Module):\n",
    "    '''Transformer_Blockの出力を使用し、最後にクラス分類させる'''\n",
    "\n",
    "    def __init__(self, d_model=300, output_dim=4):\n",
    "        super().__init__()\n",
    "\n",
    "        # 全結合層\n",
    "        self.linear = nn.Linear(d_model, output_dim)  # output_dimはポジ・ネガの2つ\n",
    "        self.output_dim = output_dim\n",
    "\n",
    "        # 重み初期化処理\n",
    "        nn.init.normal_(self.linear.weight, std=0.02)\n",
    "        nn.init.normal_(self.linear.bias, 0)\n",
    "\n",
    "    def forward(self, x):\n",
    "        x0 = x[:, 0, :]  # 各ミニバッチの各文の先頭の単語の特徴量（300次元）を取り出す\n",
    "        x1 = self.linear(x0)\n",
    "        # print(x1.shape)\n",
    "        out = F.softmax(x1, dim=-1)\n",
    "\n",
    "        return out\n"
   ]
  },
  {
   "cell_type": "code",
   "execution_count": 177,
   "metadata": {},
   "outputs": [],
   "source": [
    "# 最終的なTransformerモデルのクラス\n",
    "\n",
    "class TransformerClassification(nn.Module):\n",
    "    '''Transformerでクラス分類させる'''\n",
    "\n",
    "    def __init__(self, d_model=12, max_seq_len=101, output_dim=4):\n",
    "        super().__init__()\n",
    "\n",
    "        # モデル構築\n",
    "        self.net_Positional = PositionalEncoder(d_model=d_model, max_seq_len=max_seq_len)\n",
    "        self.net_Attention_1 = TransformerBlock(d_model=d_model)\n",
    "        # self.net3_2 = TransformerBlock(d_model=d_model)\n",
    "        self.net_Classification = ClassificationHead(output_dim=output_dim, d_model=d_model)\n",
    "\n",
    "    def forward(self, x, mask):\n",
    "        x1 = self.net_Positional(x)  # Positon情報を足し算\n",
    "        x2, normlized_weights_1 = self.net_Attention_1(x1, mask)  # Self-Attentionで特徴量を変換\n",
    "        # x3_2, normlized_weights_2 = self.net3_2(x3_1, mask)  # Self-Attentionで特徴量を変換\n",
    "        x3 = self.net_Classification(x2)  # 最終出力の0単語目を使用して、分類0-1のスカラーを出力\n",
    "        return x3, normlized_weights_1\n"
   ]
  },
  {
   "cell_type": "markdown",
   "metadata": {
    "id": "LakZIHM8YTp1"
   },
   "source": [
    "## Train and evaluate"
   ]
  },
  {
   "cell_type": "code",
   "execution_count": 178,
   "metadata": {},
   "outputs": [
    {
     "name": "stdout",
     "output_type": "stream",
     "text": [
      "出力のテンソルサイズ： torch.Size([1, 4])\n",
      "出力テンソルのsigmoid： tensor([[0.2005, 0.3824, 0.2063, 0.2107]], grad_fn=<SoftmaxBackward0>)\n"
     ]
    }
   ],
   "source": [
    "# 動作確認\n",
    "# ミニバッチの用意\n",
    "batch = next(iter(dataloader))\n",
    "\n",
    "# モデル構築\n",
    "net = TransformerClassification(\n",
    "    d_model=18, max_seq_len=101, output_dim=4)\n",
    "\n",
    "# 入出力\n",
    "x = batch[0]\n",
    "input_pad = 1\n",
    "input_mask = (x != input_pad)\n",
    "out, normlized_weights_1 = net(x, input_mask)\n",
    "\n",
    "print(\"出力のテンソルサイズ：\", out.shape)\n",
    "print(\"出力テンソルのsigmoid：\", F.softmax(out, dim=1))\n"
   ]
  },
  {
   "cell_type": "markdown",
   "metadata": {
    "id": "elTTH_9KYTp0"
   },
   "source": [
    "The main part of our model is now complete. We can stack multiple of those\n",
    "`transformer_encoder` blocks and we can also proceed to add the final\n",
    "Multi-Layer Perceptron classification head. Apart from a stack of `Dense`\n",
    "layers, we need to reduce the output tensor of the `TransformerEncoder` part of\n",
    "our model down to a vector of features for each data point in the current\n",
    "batch. A common way to achieve this is to use a pooling layer. For\n",
    "this example, a `GlobalAveragePooling1D` layer is sufficient."
   ]
  },
  {
   "cell_type": "code",
   "execution_count": 179,
   "metadata": {},
   "outputs": [
    {
     "name": "stdout",
     "output_type": "stream",
     "text": [
      "ネットワーク設定完了\n"
     ]
    }
   ],
   "source": [
    "# ネットワークの初期化を定義\n",
    "\n",
    "def weights_init(m):\n",
    "    classname = m.__class__.__name__\n",
    "    if classname.find('Linear') != -1:\n",
    "        # Liner層の初期化\n",
    "        nn.init.kaiming_normal_(m.weight)\n",
    "        if m.bias is not None:\n",
    "            nn.init.constant_(m.bias, 0.0)\n",
    "\n",
    "# 訓練モードに設定\n",
    "net.train()\n",
    "\n",
    "# TransformerBlockモジュールを初期化実行\n",
    "net.net_Attention_1.apply(weights_init)\n",
    "# net.net3_2.apply(weights_init)\n",
    "\n",
    "\n",
    "print('ネットワーク設定完了')"
   ]
  },
  {
   "cell_type": "code",
   "execution_count": 180,
   "metadata": {},
   "outputs": [],
   "source": [
    "# 損失関数の設定\n",
    "criterion = nn.CrossEntropyLoss()\n",
    "# nn.LogSoftmax()を計算してからnn.NLLLoss(negative log likelihood loss)を計算\n",
    "\n",
    "# 最適化手法の設定\n",
    "learning_rate = 3e-4\n",
    "optimizer = optim.Adam(net.parameters(), lr=learning_rate)"
   ]
  },
  {
   "cell_type": "code",
   "execution_count": 181,
   "metadata": {},
   "outputs": [],
   "source": [
    "# モデルを学習させる関数を作成\n",
    "def train_model(net, dataloaders_dict, criterion, optimizer, num_epochs):\n",
    "\n",
    "    # GPUが使えるかを確認\n",
    "    device = torch.device(\"cuda:0\" if torch.cuda.is_available() else \"cpu\")\n",
    "    print(\"使用デバイス：\", device)\n",
    "    print('-----start-------')\n",
    "    # ネットワークをGPUへ\n",
    "    net.to(device)\n",
    "\n",
    "    # ネットワークがある程度固定であれば、高速化させる\n",
    "    torch.backends.cudnn.benchmark = True\n",
    "\n",
    "    # epochのループ\n",
    "    for epoch in range(num_epochs):\n",
    "        # epochごとの訓練と検証のループ\n",
    "        for phase in ['train']:\n",
    "        # for phase in ['train', 'val']:\n",
    "            if phase == 'train':\n",
    "                net.train()  # モデルを訓練モードに\n",
    "            else:\n",
    "                net.eval()   # モデルを検証モードに\n",
    "\n",
    "            epoch_loss = 0.0  # epochの損失和\n",
    "            epoch_corrects = 0  # epochの正解数\n",
    "\n",
    "            # データローダーからミニバッチを取り出すループ\n",
    "            for batch in (dataloaders_dict[phase]):\n",
    "                # batchはTextとLableの辞書オブジェクト\n",
    "\n",
    "                # GPUが使えるならGPUにデータを送る\n",
    "                inputs = batch[0].to(device)  # 文章\n",
    "                labels = batch[1].to(device)  # ラベル\n",
    "\n",
    "                # optimizerを初期化\n",
    "                optimizer.zero_grad()\n",
    "\n",
    "                # 順伝搬（forward）計算\n",
    "                with torch.set_grad_enabled(phase == 'train'):\n",
    "\n",
    "                    # mask作成\n",
    "                    input_pad = 1  # 単語のIDにおいて、'<pad>': 1 なので\n",
    "                    input_mask = (inputs != input_pad)\n",
    "\n",
    "                    # Transformerに入力\n",
    "                    outputs, _ = net(inputs, input_mask)\n",
    "                    # print(f\"outputs shape is {outputs.dtype}, label shape is {labels.float()}\")\n",
    "                    loss = criterion(outputs, labels.float())  # 損失を計算\n",
    "\n",
    "                    _, preds = torch.max(outputs, 1)  # ラベルを予測\n",
    "\n",
    "                    # 訓練時はバックプロパゲーション\n",
    "                    if phase == 'train':\n",
    "                        loss.backward()\n",
    "                        optimizer.step()\n",
    "\n",
    "                    # 結果の計算\n",
    "                    # print(np.array(preds))\n",
    "                    # print(np.array(np.argmax(labels.data)))\n",
    "                    # print(preds == labels.data)\n",
    "                    epoch_loss += loss.item() * inputs.size(0)  # lossの合計を更新\n",
    "                    # 正解数の合計を更新\n",
    "                    epoch_corrects += torch.sum(preds == np.argmax(labels.data))\n",
    "\n",
    "            # epochごとのlossと正解率\n",
    "            epoch_loss = epoch_loss / len(dataloaders_dict[phase].dataset)\n",
    "            epoch_acc = epoch_corrects.double(\n",
    "            ) / len(dataloaders_dict[phase].dataset)\n",
    "            # print(epoch_corrects.double())\n",
    "            # print(len(dataloaders_dict[phase].dataset))\n",
    "\n",
    "            print('Epoch {}/{} | {:^5} |  Loss: {:.4f} Acc: {:.4f}'.format(epoch+1, num_epochs,\n",
    "                                                                           phase, epoch_loss, epoch_acc))\n",
    "\n",
    "    return net\n"
   ]
  },
  {
   "cell_type": "code",
   "execution_count": 182,
   "metadata": {},
   "outputs": [],
   "source": [
    "# # グリッドサーチを行う．\n",
    "# l_rate = [2e-4, 3e-4, 4e-4, 5e-4]\n",
    "\n",
    "# for learning_rate in l_rate:\n",
    "#     print(learning_rate)\n",
    "#     # 訓練モードに設定\n",
    "#     net.train()\n",
    "\n",
    "#     # TransformerBlockモジュールを初期化実行\n",
    "#     net.net_Attention_1.apply(weights_init)\n",
    "#     net.net_Classification.apply(weights_init)\n",
    "    \n",
    "#     num_epochs = 300\n",
    "#     optimizer = optim.Adam(net.parameters(), lr=learning_rate)\n",
    "#     net_trained = train_model(net, dataloaders_dict,\n",
    "#                           criterion, optimizer, num_epochs=num_epochs)"
   ]
  },
  {
   "cell_type": "code",
   "execution_count": 188,
   "metadata": {
    "tags": []
   },
   "outputs": [
    {
     "name": "stdout",
     "output_type": "stream",
     "text": [
      "ネットワーク設定完了\n",
      "使用デバイス： cpu\n",
      "-----start-------\n",
      "Epoch 1/300 | train |  Loss: 1.5198 Acc: 0.1714\n",
      "Epoch 2/300 | train |  Loss: 1.4438 Acc: 0.2000\n",
      "Epoch 3/300 | train |  Loss: 1.4666 Acc: 0.2571\n",
      "Epoch 4/300 | train |  Loss: 1.3841 Acc: 0.3143\n",
      "Epoch 5/300 | train |  Loss: 1.3601 Acc: 0.3714\n",
      "Epoch 6/300 | train |  Loss: 1.3449 Acc: 0.3714\n",
      "Epoch 7/300 | train |  Loss: 1.3493 Acc: 0.4000\n",
      "Epoch 8/300 | train |  Loss: 1.3297 Acc: 0.3429\n",
      "Epoch 9/300 | train |  Loss: 1.2654 Acc: 0.4286\n",
      "Epoch 10/300 | train |  Loss: 1.2502 Acc: 0.5143\n",
      "Epoch 11/300 | train |  Loss: 1.2226 Acc: 0.5143\n",
      "Epoch 12/300 | train |  Loss: 1.2495 Acc: 0.5143\n",
      "Epoch 13/300 | train |  Loss: 1.2413 Acc: 0.5143\n",
      "Epoch 14/300 | train |  Loss: 1.2132 Acc: 0.5143\n",
      "Epoch 15/300 | train |  Loss: 1.2215 Acc: 0.5143\n",
      "Epoch 16/300 | train |  Loss: 1.1809 Acc: 0.5429\n",
      "Epoch 17/300 | train |  Loss: 1.1782 Acc: 0.5714\n",
      "Epoch 18/300 | train |  Loss: 1.1740 Acc: 0.5429\n",
      "Epoch 19/300 | train |  Loss: 1.1597 Acc: 0.5714\n",
      "Epoch 20/300 | train |  Loss: 1.2010 Acc: 0.5429\n",
      "Epoch 21/300 | train |  Loss: 1.1712 Acc: 0.5429\n",
      "Epoch 22/300 | train |  Loss: 1.1844 Acc: 0.5429\n",
      "Epoch 23/300 | train |  Loss: 1.1585 Acc: 0.5714\n",
      "Epoch 24/300 | train |  Loss: 1.1333 Acc: 0.5714\n",
      "Epoch 25/300 | train |  Loss: 1.1323 Acc: 0.6286\n",
      "Epoch 26/300 | train |  Loss: 1.1127 Acc: 0.6571\n",
      "Epoch 27/300 | train |  Loss: 1.1007 Acc: 0.6857\n",
      "Epoch 28/300 | train |  Loss: 1.1207 Acc: 0.6286\n",
      "Epoch 29/300 | train |  Loss: 1.1315 Acc: 0.6286\n",
      "Epoch 30/300 | train |  Loss: 1.1298 Acc: 0.6286\n",
      "Epoch 31/300 | train |  Loss: 1.1415 Acc: 0.6000\n",
      "Epoch 32/300 | train |  Loss: 1.0979 Acc: 0.6857\n",
      "Epoch 33/300 | train |  Loss: 1.0561 Acc: 0.7143\n",
      "Epoch 34/300 | train |  Loss: 1.0881 Acc: 0.6571\n",
      "Epoch 35/300 | train |  Loss: 1.0476 Acc: 0.7429\n",
      "Epoch 36/300 | train |  Loss: 1.0369 Acc: 0.7143\n",
      "Epoch 37/300 | train |  Loss: 1.0592 Acc: 0.7143\n",
      "Epoch 38/300 | train |  Loss: 1.0704 Acc: 0.6857\n",
      "Epoch 39/300 | train |  Loss: 1.0545 Acc: 0.6857\n",
      "Epoch 40/300 | train |  Loss: 1.0585 Acc: 0.7429\n",
      "Epoch 41/300 | train |  Loss: 1.0653 Acc: 0.7143\n",
      "Epoch 42/300 | train |  Loss: 1.0361 Acc: 0.7429\n",
      "Epoch 43/300 | train |  Loss: 1.0121 Acc: 0.7714\n",
      "Epoch 44/300 | train |  Loss: 1.0031 Acc: 0.7714\n",
      "Epoch 45/300 | train |  Loss: 0.9947 Acc: 0.7714\n",
      "Epoch 46/300 | train |  Loss: 1.0120 Acc: 0.7714\n",
      "Epoch 47/300 | train |  Loss: 0.9651 Acc: 0.8000\n",
      "Epoch 48/300 | train |  Loss: 0.9654 Acc: 0.8286\n",
      "Epoch 49/300 | train |  Loss: 0.9678 Acc: 0.8000\n",
      "Epoch 50/300 | train |  Loss: 0.9800 Acc: 0.7714\n",
      "Epoch 51/300 | train |  Loss: 0.9859 Acc: 0.8000\n",
      "Epoch 52/300 | train |  Loss: 0.9271 Acc: 0.8571\n",
      "Epoch 53/300 | train |  Loss: 0.9733 Acc: 0.8000\n",
      "Epoch 54/300 | train |  Loss: 0.9584 Acc: 0.8286\n",
      "Epoch 55/300 | train |  Loss: 0.9234 Acc: 0.8571\n",
      "Epoch 56/300 | train |  Loss: 0.9495 Acc: 0.8571\n",
      "Epoch 57/300 | train |  Loss: 0.9889 Acc: 0.7714\n",
      "Epoch 58/300 | train |  Loss: 0.9916 Acc: 0.7714\n",
      "Epoch 59/300 | train |  Loss: 0.9366 Acc: 0.8286\n",
      "Epoch 60/300 | train |  Loss: 0.9332 Acc: 0.8286\n",
      "Epoch 61/300 | train |  Loss: 0.8830 Acc: 0.8857\n",
      "Epoch 62/300 | train |  Loss: 0.9547 Acc: 0.8000\n",
      "Epoch 63/300 | train |  Loss: 0.9481 Acc: 0.7714\n",
      "Epoch 64/300 | train |  Loss: 0.9071 Acc: 0.8571\n",
      "Epoch 65/300 | train |  Loss: 0.9234 Acc: 0.8571\n",
      "Epoch 66/300 | train |  Loss: 0.9215 Acc: 0.8571\n",
      "Epoch 67/300 | train |  Loss: 0.8708 Acc: 0.8857\n",
      "Epoch 68/300 | train |  Loss: 0.8802 Acc: 0.8857\n",
      "Epoch 69/300 | train |  Loss: 0.8992 Acc: 0.8571\n",
      "Epoch 70/300 | train |  Loss: 0.9472 Acc: 0.8000\n",
      "Epoch 71/300 | train |  Loss: 0.8791 Acc: 0.8857\n",
      "Epoch 72/300 | train |  Loss: 0.8916 Acc: 0.8571\n",
      "Epoch 73/300 | train |  Loss: 0.9091 Acc: 0.8571\n",
      "Epoch 74/300 | train |  Loss: 0.9265 Acc: 0.8286\n",
      "Epoch 75/300 | train |  Loss: 0.8733 Acc: 0.8857\n",
      "Epoch 76/300 | train |  Loss: 0.8660 Acc: 0.8857\n",
      "Epoch 77/300 | train |  Loss: 0.8823 Acc: 0.8857\n",
      "Epoch 78/300 | train |  Loss: 0.8822 Acc: 0.8571\n",
      "Epoch 79/300 | train |  Loss: 0.8975 Acc: 0.8571\n",
      "Epoch 80/300 | train |  Loss: 0.8733 Acc: 0.8857\n",
      "Epoch 81/300 | train |  Loss: 0.8802 Acc: 0.8857\n",
      "Epoch 82/300 | train |  Loss: 0.8888 Acc: 0.8571\n",
      "Epoch 83/300 | train |  Loss: 0.8856 Acc: 0.8571\n",
      "Epoch 84/300 | train |  Loss: 0.8782 Acc: 0.8857\n",
      "Epoch 85/300 | train |  Loss: 0.8687 Acc: 0.8857\n",
      "Epoch 86/300 | train |  Loss: 0.8941 Acc: 0.8571\n",
      "Epoch 87/300 | train |  Loss: 0.8810 Acc: 0.8571\n",
      "Epoch 88/300 | train |  Loss: 0.8655 Acc: 0.8857\n",
      "Epoch 89/300 | train |  Loss: 0.9205 Acc: 0.8286\n",
      "Epoch 90/300 | train |  Loss: 0.8788 Acc: 0.8857\n",
      "Epoch 91/300 | train |  Loss: 0.8905 Acc: 0.8571\n",
      "Epoch 92/300 | train |  Loss: 0.8855 Acc: 0.8571\n",
      "Epoch 93/300 | train |  Loss: 0.8855 Acc: 0.8857\n",
      "Epoch 94/300 | train |  Loss: 0.8595 Acc: 0.8857\n",
      "Epoch 95/300 | train |  Loss: 0.8670 Acc: 0.8857\n",
      "Epoch 96/300 | train |  Loss: 0.8626 Acc: 0.8857\n",
      "Epoch 97/300 | train |  Loss: 0.8697 Acc: 0.8857\n",
      "Epoch 98/300 | train |  Loss: 0.8877 Acc: 0.8571\n",
      "Epoch 99/300 | train |  Loss: 0.8593 Acc: 0.8857\n",
      "Epoch 100/300 | train |  Loss: 0.8619 Acc: 0.8857\n",
      "Epoch 101/300 | train |  Loss: 0.8593 Acc: 0.8857\n",
      "Epoch 102/300 | train |  Loss: 0.8631 Acc: 0.8857\n",
      "Epoch 103/300 | train |  Loss: 0.8668 Acc: 0.8857\n",
      "Epoch 104/300 | train |  Loss: 0.8746 Acc: 0.8571\n",
      "Epoch 105/300 | train |  Loss: 0.8687 Acc: 0.8857\n",
      "Epoch 106/300 | train |  Loss: 0.8675 Acc: 0.8857\n",
      "Epoch 107/300 | train |  Loss: 0.8709 Acc: 0.8857\n",
      "Epoch 108/300 | train |  Loss: 0.8645 Acc: 0.8857\n",
      "Epoch 109/300 | train |  Loss: 0.8695 Acc: 0.8857\n",
      "Epoch 110/300 | train |  Loss: 0.8635 Acc: 0.8857\n",
      "Epoch 111/300 | train |  Loss: 0.8582 Acc: 0.8857\n",
      "Epoch 112/300 | train |  Loss: 0.8811 Acc: 0.8857\n",
      "Epoch 113/300 | train |  Loss: 0.8632 Acc: 0.8857\n",
      "Epoch 114/300 | train |  Loss: 0.8792 Acc: 0.8857\n",
      "Epoch 115/300 | train |  Loss: 0.8812 Acc: 0.8571\n",
      "Epoch 116/300 | train |  Loss: 0.8628 Acc: 0.8857\n",
      "Epoch 117/300 | train |  Loss: 0.8716 Acc: 0.8571\n",
      "Epoch 118/300 | train |  Loss: 0.8880 Acc: 0.8571\n",
      "Epoch 119/300 | train |  Loss: 0.8571 Acc: 0.8857\n",
      "Epoch 120/300 | train |  Loss: 0.8857 Acc: 0.8571\n",
      "Epoch 121/300 | train |  Loss: 0.8593 Acc: 0.8857\n",
      "Epoch 122/300 | train |  Loss: 0.8717 Acc: 0.8857\n",
      "Epoch 123/300 | train |  Loss: 0.8597 Acc: 0.8857\n",
      "Epoch 124/300 | train |  Loss: 0.8601 Acc: 0.8857\n",
      "Epoch 125/300 | train |  Loss: 0.8593 Acc: 0.8857\n",
      "Epoch 126/300 | train |  Loss: 0.8563 Acc: 0.8857\n",
      "Epoch 127/300 | train |  Loss: 0.8741 Acc: 0.8571\n",
      "Epoch 128/300 | train |  Loss: 0.8690 Acc: 0.8857\n",
      "Epoch 129/300 | train |  Loss: 0.8620 Acc: 0.8857\n",
      "Epoch 130/300 | train |  Loss: 0.8633 Acc: 0.8857\n",
      "Epoch 131/300 | train |  Loss: 0.8602 Acc: 0.8857\n",
      "Epoch 132/300 | train |  Loss: 0.8621 Acc: 0.8857\n",
      "Epoch 133/300 | train |  Loss: 0.8595 Acc: 0.8857\n",
      "Epoch 134/300 | train |  Loss: 0.8564 Acc: 0.8857\n",
      "Epoch 135/300 | train |  Loss: 0.9034 Acc: 0.8286\n",
      "Epoch 136/300 | train |  Loss: 0.8617 Acc: 0.8857\n",
      "Epoch 137/300 | train |  Loss: 0.8872 Acc: 0.8571\n",
      "Epoch 138/300 | train |  Loss: 0.8922 Acc: 0.8571\n",
      "Epoch 139/300 | train |  Loss: 0.8586 Acc: 0.8857\n",
      "Epoch 140/300 | train |  Loss: 0.8614 Acc: 0.8857\n",
      "Epoch 141/300 | train |  Loss: 0.8449 Acc: 0.9143\n",
      "Epoch 142/300 | train |  Loss: 0.8660 Acc: 0.8857\n",
      "Epoch 143/300 | train |  Loss: 0.8604 Acc: 0.8857\n",
      "Epoch 144/300 | train |  Loss: 0.8622 Acc: 0.8857\n",
      "Epoch 145/300 | train |  Loss: 0.8647 Acc: 0.8857\n",
      "Epoch 146/300 | train |  Loss: 0.8790 Acc: 0.8571\n",
      "Epoch 147/300 | train |  Loss: 0.8428 Acc: 0.8857\n",
      "Epoch 148/300 | train |  Loss: 0.8467 Acc: 0.9143\n",
      "Epoch 149/300 | train |  Loss: 0.8319 Acc: 0.9143\n",
      "Epoch 150/300 | train |  Loss: 0.8309 Acc: 0.9143\n",
      "Epoch 151/300 | train |  Loss: 0.8283 Acc: 0.9143\n",
      "Epoch 152/300 | train |  Loss: 0.8387 Acc: 0.9143\n",
      "Epoch 153/300 | train |  Loss: 0.8452 Acc: 0.9143\n",
      "Epoch 154/300 | train |  Loss: 0.8989 Acc: 0.8571\n",
      "Epoch 155/300 | train |  Loss: 0.8407 Acc: 0.9143\n",
      "Epoch 156/300 | train |  Loss: 0.8513 Acc: 0.8857\n",
      "Epoch 157/300 | train |  Loss: 0.8587 Acc: 0.8857\n",
      "Epoch 158/300 | train |  Loss: 0.8396 Acc: 0.9143\n",
      "Epoch 159/300 | train |  Loss: 0.8544 Acc: 0.8857\n",
      "Epoch 160/300 | train |  Loss: 0.8944 Acc: 0.8571\n",
      "Epoch 161/300 | train |  Loss: 0.8359 Acc: 0.9143\n",
      "Epoch 162/300 | train |  Loss: 0.8675 Acc: 0.8857\n",
      "Epoch 163/300 | train |  Loss: 0.8539 Acc: 0.8857\n",
      "Epoch 164/300 | train |  Loss: 0.8394 Acc: 0.9143\n",
      "Epoch 165/300 | train |  Loss: 0.8692 Acc: 0.8857\n",
      "Epoch 166/300 | train |  Loss: 0.8327 Acc: 0.9143\n",
      "Epoch 167/300 | train |  Loss: 0.8479 Acc: 0.9143\n",
      "Epoch 168/300 | train |  Loss: 0.8370 Acc: 0.9143\n",
      "Epoch 169/300 | train |  Loss: 0.8347 Acc: 0.9143\n",
      "Epoch 170/300 | train |  Loss: 0.8329 Acc: 0.9143\n",
      "Epoch 171/300 | train |  Loss: 0.8663 Acc: 0.8857\n",
      "Epoch 172/300 | train |  Loss: 0.8337 Acc: 0.9143\n",
      "Epoch 173/300 | train |  Loss: 0.8465 Acc: 0.9143\n",
      "Epoch 174/300 | train |  Loss: 0.8367 Acc: 0.9143\n",
      "Epoch 175/300 | train |  Loss: 0.8306 Acc: 0.9143\n",
      "Epoch 176/300 | train |  Loss: 0.8359 Acc: 0.9143\n",
      "Epoch 177/300 | train |  Loss: 0.8285 Acc: 0.9143\n",
      "Epoch 178/300 | train |  Loss: 0.8351 Acc: 0.9143\n",
      "Epoch 179/300 | train |  Loss: 0.8280 Acc: 0.9143\n",
      "Epoch 180/300 | train |  Loss: 0.8285 Acc: 0.9143\n",
      "Epoch 181/300 | train |  Loss: 0.8313 Acc: 0.9143\n",
      "Epoch 182/300 | train |  Loss: 0.8297 Acc: 0.9143\n",
      "Epoch 183/300 | train |  Loss: 0.8520 Acc: 0.8857\n",
      "Epoch 184/300 | train |  Loss: 0.8423 Acc: 0.9143\n",
      "Epoch 185/300 | train |  Loss: 0.8305 Acc: 0.9143\n",
      "Epoch 186/300 | train |  Loss: 0.8663 Acc: 0.8857\n",
      "Epoch 187/300 | train |  Loss: 0.8294 Acc: 0.9143\n",
      "Epoch 188/300 | train |  Loss: 0.8432 Acc: 0.8857\n",
      "Epoch 189/300 | train |  Loss: 0.8320 Acc: 0.9143\n",
      "Epoch 190/300 | train |  Loss: 0.8423 Acc: 0.9143\n",
      "Epoch 191/300 | train |  Loss: 0.8294 Acc: 0.9143\n",
      "Epoch 192/300 | train |  Loss: 0.8307 Acc: 0.9143\n",
      "Epoch 193/300 | train |  Loss: 0.8271 Acc: 0.9143\n",
      "Epoch 194/300 | train |  Loss: 0.8285 Acc: 0.9143\n",
      "Epoch 195/300 | train |  Loss: 0.8066 Acc: 0.9429\n",
      "Epoch 196/300 | train |  Loss: 0.8233 Acc: 0.9143\n",
      "Epoch 197/300 | train |  Loss: 0.8359 Acc: 0.9429\n",
      "Epoch 198/300 | train |  Loss: 0.8287 Acc: 0.9429\n",
      "Epoch 199/300 | train |  Loss: 0.8082 Acc: 0.9429\n",
      "Epoch 200/300 | train |  Loss: 0.8137 Acc: 0.9429\n",
      "Epoch 201/300 | train |  Loss: 0.8196 Acc: 0.9429\n",
      "Epoch 202/300 | train |  Loss: 0.8175 Acc: 0.9143\n",
      "Epoch 203/300 | train |  Loss: 0.8147 Acc: 0.9429\n",
      "Epoch 204/300 | train |  Loss: 0.8279 Acc: 0.9429\n",
      "Epoch 205/300 | train |  Loss: 0.8064 Acc: 0.9429\n",
      "Epoch 206/300 | train |  Loss: 0.8050 Acc: 0.9429\n",
      "Epoch 207/300 | train |  Loss: 0.8423 Acc: 0.8857\n",
      "Epoch 208/300 | train |  Loss: 0.8496 Acc: 0.8857\n",
      "Epoch 209/300 | train |  Loss: 0.8085 Acc: 0.9429\n",
      "Epoch 210/300 | train |  Loss: 0.8022 Acc: 0.9429\n",
      "Epoch 211/300 | train |  Loss: 0.8215 Acc: 0.9143\n",
      "Epoch 212/300 | train |  Loss: 0.8060 Acc: 0.9429\n",
      "Epoch 213/300 | train |  Loss: 0.8028 Acc: 0.9429\n",
      "Epoch 214/300 | train |  Loss: 0.8251 Acc: 0.9143\n",
      "Epoch 215/300 | train |  Loss: 0.8216 Acc: 0.9429\n",
      "Epoch 216/300 | train |  Loss: 0.8157 Acc: 0.9143\n",
      "Epoch 217/300 | train |  Loss: 0.8075 Acc: 0.9429\n",
      "Epoch 218/300 | train |  Loss: 0.8052 Acc: 0.9429\n",
      "Epoch 219/300 | train |  Loss: 0.8052 Acc: 0.9429\n",
      "Epoch 220/300 | train |  Loss: 0.8363 Acc: 0.9143\n",
      "Epoch 221/300 | train |  Loss: 0.7780 Acc: 0.9714\n",
      "Epoch 222/300 | train |  Loss: 0.8104 Acc: 0.9429\n",
      "Epoch 223/300 | train |  Loss: 0.7868 Acc: 0.9714\n",
      "Epoch 224/300 | train |  Loss: 0.8017 Acc: 0.9429\n",
      "Epoch 225/300 | train |  Loss: 0.8049 Acc: 0.9429\n",
      "Epoch 226/300 | train |  Loss: 0.8026 Acc: 0.9429\n",
      "Epoch 227/300 | train |  Loss: 0.8013 Acc: 0.9429\n",
      "Epoch 228/300 | train |  Loss: 0.8181 Acc: 0.9143\n",
      "Epoch 229/300 | train |  Loss: 0.8126 Acc: 0.9429\n",
      "Epoch 230/300 | train |  Loss: 0.7834 Acc: 0.9714\n",
      "Epoch 231/300 | train |  Loss: 0.8513 Acc: 0.8857\n",
      "Epoch 232/300 | train |  Loss: 0.8174 Acc: 0.9143\n",
      "Epoch 233/300 | train |  Loss: 0.8172 Acc: 0.9429\n",
      "Epoch 234/300 | train |  Loss: 0.8417 Acc: 0.9143\n",
      "Epoch 235/300 | train |  Loss: 0.8320 Acc: 0.9143\n",
      "Epoch 236/300 | train |  Loss: 0.8316 Acc: 0.9143\n",
      "Epoch 237/300 | train |  Loss: 0.8454 Acc: 0.9143\n",
      "Epoch 238/300 | train |  Loss: 0.8171 Acc: 0.9143\n",
      "Epoch 239/300 | train |  Loss: 0.8067 Acc: 0.9429\n",
      "Epoch 240/300 | train |  Loss: 0.7855 Acc: 0.9714\n",
      "Epoch 241/300 | train |  Loss: 0.8075 Acc: 0.9429\n",
      "Epoch 242/300 | train |  Loss: 0.7906 Acc: 0.9714\n",
      "Epoch 243/300 | train |  Loss: 0.8032 Acc: 0.9429\n",
      "Epoch 244/300 | train |  Loss: 0.8280 Acc: 0.9143\n",
      "Epoch 245/300 | train |  Loss: 0.7872 Acc: 0.9714\n",
      "Epoch 246/300 | train |  Loss: 0.7777 Acc: 0.9714\n",
      "Epoch 247/300 | train |  Loss: 0.7785 Acc: 0.9714\n",
      "Epoch 248/300 | train |  Loss: 0.7851 Acc: 0.9714\n",
      "Epoch 249/300 | train |  Loss: 0.8055 Acc: 0.9429\n",
      "Epoch 250/300 | train |  Loss: 0.7884 Acc: 0.9714\n",
      "Epoch 251/300 | train |  Loss: 0.8096 Acc: 0.9429\n",
      "Epoch 252/300 | train |  Loss: 0.7749 Acc: 0.9714\n",
      "Epoch 253/300 | train |  Loss: 0.7776 Acc: 0.9714\n",
      "Epoch 254/300 | train |  Loss: 0.7758 Acc: 0.9714\n",
      "Epoch 255/300 | train |  Loss: 0.7755 Acc: 0.9714\n",
      "Epoch 256/300 | train |  Loss: 0.7846 Acc: 0.9714\n",
      "Epoch 257/300 | train |  Loss: 0.7857 Acc: 0.9714\n",
      "Epoch 258/300 | train |  Loss: 0.7934 Acc: 0.9714\n",
      "Epoch 259/300 | train |  Loss: 0.8127 Acc: 0.9143\n",
      "Epoch 260/300 | train |  Loss: 0.7809 Acc: 0.9714\n",
      "Epoch 261/300 | train |  Loss: 0.8056 Acc: 0.9429\n",
      "Epoch 262/300 | train |  Loss: 0.7728 Acc: 0.9714\n",
      "Epoch 263/300 | train |  Loss: 0.7755 Acc: 0.9714\n",
      "Epoch 264/300 | train |  Loss: 0.7733 Acc: 0.9714\n",
      "Epoch 265/300 | train |  Loss: 0.7740 Acc: 0.9714\n",
      "Epoch 266/300 | train |  Loss: 0.7760 Acc: 0.9714\n",
      "Epoch 267/300 | train |  Loss: 0.7900 Acc: 0.9429\n",
      "Epoch 268/300 | train |  Loss: 0.7959 Acc: 0.9429\n",
      "Epoch 269/300 | train |  Loss: 0.7916 Acc: 0.9714\n",
      "Epoch 270/300 | train |  Loss: 0.7803 Acc: 0.9714\n",
      "Epoch 271/300 | train |  Loss: 0.7780 Acc: 0.9714\n",
      "Epoch 272/300 | train |  Loss: 0.7891 Acc: 0.9714\n",
      "Epoch 273/300 | train |  Loss: 0.7867 Acc: 0.9714\n",
      "Epoch 274/300 | train |  Loss: 0.7752 Acc: 0.9714\n",
      "Epoch 275/300 | train |  Loss: 0.7734 Acc: 0.9714\n",
      "Epoch 276/300 | train |  Loss: 0.8048 Acc: 0.9429\n",
      "Epoch 277/300 | train |  Loss: 0.7866 Acc: 0.9429\n",
      "Epoch 278/300 | train |  Loss: 0.7737 Acc: 0.9714\n",
      "Epoch 279/300 | train |  Loss: 0.7787 Acc: 0.9714\n",
      "Epoch 280/300 | train |  Loss: 0.7744 Acc: 0.9714\n",
      "Epoch 281/300 | train |  Loss: 0.7733 Acc: 0.9714\n",
      "Epoch 282/300 | train |  Loss: 0.7786 Acc: 0.9714\n",
      "Epoch 283/300 | train |  Loss: 0.7984 Acc: 0.9429\n",
      "Epoch 284/300 | train |  Loss: 0.8038 Acc: 0.9429\n",
      "Epoch 285/300 | train |  Loss: 0.7740 Acc: 0.9714\n",
      "Epoch 286/300 | train |  Loss: 0.7746 Acc: 0.9714\n",
      "Epoch 287/300 | train |  Loss: 0.7737 Acc: 0.9714\n",
      "Epoch 288/300 | train |  Loss: 0.7734 Acc: 0.9714\n",
      "Epoch 289/300 | train |  Loss: 0.7789 Acc: 0.9714\n",
      "Epoch 290/300 | train |  Loss: 0.7759 Acc: 0.9714\n",
      "Epoch 291/300 | train |  Loss: 0.7735 Acc: 0.9714\n",
      "Epoch 292/300 | train |  Loss: 0.7736 Acc: 0.9714\n",
      "Epoch 293/300 | train |  Loss: 0.7962 Acc: 0.9429\n",
      "Epoch 294/300 | train |  Loss: 0.7781 Acc: 0.9714\n",
      "Epoch 295/300 | train |  Loss: 0.7871 Acc: 0.9714\n",
      "Epoch 296/300 | train |  Loss: 0.7817 Acc: 0.9714\n",
      "Epoch 297/300 | train |  Loss: 0.7735 Acc: 0.9714\n",
      "Epoch 298/300 | train |  Loss: 0.8033 Acc: 0.9429\n",
      "Epoch 299/300 | train |  Loss: 0.7772 Acc: 0.9714\n",
      "Epoch 300/300 | train |  Loss: 0.8006 Acc: 0.9429\n"
     ]
    }
   ],
   "source": [
    "# 学習・検証を実行する 15分ほどかかります\n",
    "\n",
    "# 訓練モードに設定\n",
    "net.train()\n",
    "\n",
    "# 損失関数の設定\n",
    "criterion = nn.CrossEntropyLoss()\n",
    "# nn.LogSoftmax()を計算してからnn.NLLLoss(negative log likelihood loss)を計算\n",
    "\n",
    "# 最適化手法の設定\n",
    "learning_rate = 1e-4\n",
    "optimizer = optim.Adam(net.parameters(), lr=learning_rate)\n",
    "\n",
    "# TransformerBlockモジュールを初期化実行\n",
    "net.net_Attention_1.apply(weights_init)\n",
    "print('ネットワーク設定完了')\n",
    "\n",
    "num_epochs = 300\n",
    "net_trained = train_model(net, dataloaders_dict,\n",
    "                          criterion, optimizer, num_epochs=num_epochs)"
   ]
  },
  {
   "cell_type": "markdown",
   "metadata": {
    "id": "ZN2SeFtLHbyT"
   },
   "source": [
    "# SaveModel"
   ]
  },
  {
   "cell_type": "code",
   "execution_count": 189,
   "metadata": {},
   "outputs": [
    {
     "name": "stdout",
     "output_type": "stream",
     "text": [
      "tensor(3)\n",
      "テストデータ35個での正解率：0.9714\n"
     ]
    }
   ],
   "source": [
    "# device\n",
    "device = torch.device(\"cuda:0\" if torch.cuda.is_available() else \"cpu\")\n",
    "\n",
    "net_trained.eval()   # モデルを検証モードに\n",
    "net_trained.to(device)\n",
    "\n",
    "epoch_corrects = 0  # epochの正解数\n",
    "\n",
    "test_dataloader = torch.utils.data.DataLoader(dataset, batch_size=60)\n",
    "\n",
    "for batch in (test_dataloader):  # testデータのDataLoader\n",
    "    # batchはTextとLableの辞書オブジェクト\n",
    "    \n",
    "    # GPUが使えるならGPUにデータを送る\n",
    "    inputs = batch[0].to(device)  # 文章\n",
    "    labels = batch[1].to(device)  # ラベル\n",
    "\n",
    "    # 順伝搬（forward）計算\n",
    "    with torch.set_grad_enabled(False):\n",
    "\n",
    "        # mask作成\n",
    "        input_pad = 1  # 単語のIDにおいて、'<pad>': 1 なので\n",
    "        input_mask = (inputs != input_pad)\n",
    "\n",
    "        # Transformerに入力\n",
    "        outputs, attn_weights1 = net_trained(inputs, input_mask)\n",
    "        _, preds = torch.max(outputs, 1)  # ラベルを予測\n",
    "\n",
    "        # 結果の計算\n",
    "        # 正解数の合計を更新\n",
    "        print(torch.argmax(labels.data, ))\n",
    "        epoch_corrects += torch.sum(preds == torch.argmax(labels.data, dim=1))\n",
    "\n",
    "# 正解率\n",
    "epoch_acc = epoch_corrects.double() / len(test_dataloader.dataset)\n",
    "\n",
    "print('テストデータ{}個での正解率：{:.4f}'.format(len(dataloader.dataset),epoch_acc))\n"
   ]
  },
  {
   "cell_type": "code",
   "execution_count": 190,
   "metadata": {},
   "outputs": [
    {
     "name": "stdout",
     "output_type": "stream",
     "text": [
      "[1 3 3 3 3 3 3 3 3 2 2 2 2 2 2 2 2 1 1 1 1 1 1 1 1 1 0 0 0 0 0 0 0 0 0]\n",
      "[3 3 3 3 3 3 3 3 3 2 2 2 2 2 2 2 2 1 1 1 1 1 1 1 1 1 0 0 0 0 0 0 0 0 0]\n",
      "[[9 0 0 0]\n",
      " [0 9 0 0]\n",
      " [0 0 8 0]\n",
      " [0 1 0 8]]\n"
     ]
    },
    {
     "data": {
      "image/png": "[encoded data removed]",
      "text/plain": [
       "<Figure size 576x432 with 1 Axes>"
      ]
     },
     "metadata": {
      "needs_background": "light"
     },
     "output_type": "display_data"
    }
   ],
   "source": [
    "import seaborn as sns\n",
    "from sklearn.metrics import confusion_matrix\n",
    "\n",
    "\n",
    "preds_heat = np.array(preds)\n",
    "trues_heat = np.array(torch.argmax(labels.data, dim=1))\n",
    "# preds_heat[0] = \"3A\"\n",
    "print(preds_heat)\n",
    "print(trues_heat)\n",
    "\n",
    "heat = confusion_matrix(trues_heat, preds_heat)\n",
    "print(heat)\n",
    "\n",
    "plt.rcParams[\"font.family\"] = \"Times New Roman\"   # 使用するフォント\n",
    "plt.rcParams[\"font.size\"] = 20        \n",
    "\n",
    "fig, ax = plt.subplots(figsize=(8, 6))\n",
    "xtics = [\"2C\", \"2B\", \"2A\", \"3\"]\n",
    "ytics = [\"2C\", \"2B\", \"2A\", \"3\"]\n",
    "# Set the palette using the name of a palette:\n",
    "sns.heatmap(heat, annot=True, xticklabels=xtics, yticklabels=ytics, cmap=\"Blues\", cbar=False)\n",
    "# sns.heatmap(heat, annot=True, cmap=\"Blues\", cbar=False)\n",
    "#*以下2行がポイント*  X,Y軸ラベルを追加\n",
    "plt.xlabel(\"Predicted\")\n",
    "plt.ylabel(\"Actual\")\n",
    "#グラフをはみ出さないようにして画面に出力\n",
    "plt.tight_layout()\n",
    "fig.savefig(\"nn-heatmap.pdf\")\n",
    "plt.show()"
   ]
  },
  {
   "cell_type": "code",
   "execution_count": 191,
   "metadata": {},
   "outputs": [
    {
     "name": "stdout",
     "output_type": "stream",
     "text": [
      "torch.Size([35, 101, 18])\n",
      "(100,)\n"
     ]
    }
   ],
   "source": [
    "print(X.shape)\n",
    "print(np.array(X[0, 1:, 0]).shape)"
   ]
  },
  {
   "cell_type": "code",
   "execution_count": 192,
   "metadata": {},
   "outputs": [
    {
     "data": {
      "image/png": "[encoded data removed]",
      "text/plain": [
       "<Figure size 1440x72 with 2 Axes>"
      ]
     },
     "metadata": {
      "needs_background": "light"
     },
     "output_type": "display_data"
    }
   ],
   "source": [
    "extract_weight = np.array(attn_weights1[15, 0, 1:]).reshape(1, -1)\n",
    "\n",
    "fig, ax = plt.subplots(figsize=(20, 1))\n",
    "# Set the palette using the name of a palette:\n",
    "sns.heatmap(extract_weight, cmap='OrRd')\n",
    "plt.show()"
   ]
  },
  {
   "cell_type": "code",
   "execution_count": 193,
   "metadata": {},
   "outputs": [
    {
     "name": "stdout",
     "output_type": "stream",
     "text": [
      "(100,)\n"
     ]
    },
    {
     "name": "stderr",
     "output_type": "stream",
     "text": [
      "/Users/kento/miniforge3/envs/torch/lib/python3.8/site-packages/seaborn/_decorators.py:36: FutureWarning: Pass the following variables as keyword args: x, y. From version 0.12, the only valid positional argument will be `data`, and passing other arguments without an explicit keyword will result in an error or misinterpretation.\n",
      "  warnings.warn(\n"
     ]
    },
    {
     "data": {
      "image/png": "[encoded data removed]",
      "text/plain": [
       "<Figure size 1080x720 with 2 Axes>"
      ]
     },
     "metadata": {
      "needs_background": "light"
     },
     "output_type": "display_data"
    }
   ],
   "source": [
    "from matplotlib import gridspec\n",
    "\n",
    "extract_data = np.array(X[19, 1:, 2]).flatten()\n",
    "print(extract_data.shape)\n",
    "\n",
    "\n",
    "time = np.linspace(0, 100, 100)\n",
    "fig, ax = plt.subplots(2, 1, gridspec_kw={'height_ratios': [6, 1]}, figsize=(15,10))\n",
    "# Set the palette using the name of a palette:\n",
    "sns.lineplot(time, extract_data, ax=ax[0])\n",
    "sns.heatmap(extract_weight, cmap='OrRd', cbar=False, ax=ax[1])\n",
    "\n",
    "plt.show()"
   ]
  },
  {
   "cell_type": "code",
   "execution_count": 194,
   "metadata": {},
   "outputs": [
    {
     "name": "stdout",
     "output_type": "stream",
     "text": [
      "(35, 101)\n",
      "(35, 101)\n"
     ]
    },
    {
     "data": {
      "image/png": "[encoded data removed]",
      "text/plain": [
       "<Figure size 2160x1440 with 2 Axes>"
      ]
     },
     "metadata": {
      "needs_background": "light"
     },
     "output_type": "display_data"
    }
   ],
   "source": [
    "import seaborn as sns\n",
    "\n",
    "data = np.array(attn_weights1[:, 0, :])\n",
    "print(data.shape)\n",
    "data = data.reshape(attn_weights1.shape[0], -1)\n",
    "\n",
    "# print(outputs)\n",
    "print(data.shape)\n",
    "\n",
    "fig, ax = plt.subplots(figsize=(30, 20))\n",
    "# Set the palette using the name of a palette:\n",
    "sns.heatmap(data, cmap='OrRd')\n",
    "plt.show()"
   ]
  },
  {
   "cell_type": "code",
   "execution_count": 195,
   "metadata": {},
   "outputs": [
    {
     "name": "stdout",
     "output_type": "stream",
     "text": [
      "0.009147511,0.0007907616,0.00011241444,6.794552e-05,1.346142e-05,0.00032281628,0.008259776,0.0020770228,0.001092497,0.0006226074,0.0020110647,0.009217319,0.0047821193,0.0072891535,0.020180881,0.025299873,0.021362092,0.010581571,0.004838003,0.0019203528,0.0021148738,0.0024511258,0.0027651878,0.0029940442,0.003100304,0.003102341,0.003073598,0.003086591,0.0031659626,0.0032784645,0.0033651867,0.0033859117,0.003367133,0.003373732,0.003457084,0.0036269755,0.0038232275,0.0039814976,0.0040972056,0.004259589,0.0046987967,0.0055209026,0.0055424827,0.0034571895,0.002173619,0.001641463,0.0014300734,0.0013405487,0.0014285508,0.0015540534,0.0018167141,0.001890137,0.0017222009,0.0015504599,0.0013999826,0.0012619842,0.0011149304,0.0009735299,0.0008683476,0.0008037998,0.0007701083,0.0007427448,0.000702861,0.0006482251,0.0005940514,0.0005518622,0.0005218154,0.0004936782,0.00044479556,0.00037534194,0.0002953425,0.00022738453,0.00019702582,0.0001522181,0.000432934,0.0007538807,0.00019505102,0.00015372502,6.900053e-05,6.533259e-05,0.00039771738,0.004837997,0.031070556,0.05686941,0.07733975,0.09457341,0.10344639,0.11171379,0.06462273,0.01581298,0.013829906,0.04047446,0.02051783,0.05860311,0.0502684,0.0027334508,0.0011391313,0.0005567137,0.00073577516,0.0016356227,0.0023845038,"
     ]
    }
   ],
   "source": [
    "for i in range(len(data[0])):\n",
    "    print(data[0,i], end=',')"
   ]
  },
  {
   "cell_type": "code",
   "execution_count": 196,
   "metadata": {},
   "outputs": [
    {
     "data": {
      "text/plain": [
       "TransformerBlock(\n",
       "  (norm_1): LayerNorm((18,), eps=1e-05, elementwise_affine=True)\n",
       "  (norm_2): LayerNorm((18,), eps=1e-05, elementwise_affine=True)\n",
       "  (attn): Attention(\n",
       "    (q_linear): Linear(in_features=18, out_features=18, bias=True)\n",
       "    (v_linear): Linear(in_features=18, out_features=18, bias=True)\n",
       "    (k_linear): Linear(in_features=18, out_features=18, bias=True)\n",
       "    (out): Linear(in_features=18, out_features=18, bias=True)\n",
       "  )\n",
       "  (ff): FeedForward(\n",
       "    (linear_1): Linear(in_features=18, out_features=1024, bias=True)\n",
       "    (dropout): Dropout(p=0.1, inplace=False)\n",
       "    (linear_2): Linear(in_features=1024, out_features=18, bias=True)\n",
       "  )\n",
       "  (dropout_1): Dropout(p=0.1, inplace=False)\n",
       "  (dropout_2): Dropout(p=0.1, inplace=False)\n",
       ")"
      ]
     },
     "execution_count": 196,
     "metadata": {},
     "output_type": "execute_result"
    }
   ],
   "source": [
    "net_trained.net_Attention_1"
   ]
  },
  {
   "cell_type": "code",
   "execution_count": 197,
   "metadata": {},
   "outputs": [
    {
     "data": {
      "text/plain": [
       "<All keys matched successfully>"
      ]
     },
     "execution_count": 197,
     "metadata": {},
     "output_type": "execute_result"
    }
   ],
   "source": [
    "# modelの読み込みだけ\n",
    "# 保存したモデルパラメータの読み込み\n",
    "device = torch.device(\"cuda:0\" if torch.cuda.is_available() else \"cpu\")\n",
    "\n",
    "net_trained = TransformerClassification().to(device)\n",
    "\n",
    "net_trained.load_state_dict(torch.load('highacc2.pth'))\n",
    "# print('読み込み後のモデル:\\n', model2.state_dict())"
   ]
  },
  {
   "cell_type": "code",
   "execution_count": 198,
   "metadata": {
    "tags": []
   },
   "outputs": [
    {
     "name": "stdout",
     "output_type": "stream",
     "text": [
      "新しいモデル:\n",
      " OrderedDict([('net_Attention_1.norm_1.weight', tensor([1., 1., 1., 1., 1., 1., 1., 1., 1., 1., 1., 1.])), ('net_Attention_1.norm_1.bias', tensor([0., 0., 0., 0., 0., 0., 0., 0., 0., 0., 0., 0.])), ('net_Attention_1.norm_2.weight', tensor([1., 1., 1., 1., 1., 1., 1., 1., 1., 1., 1., 1.])), ('net_Attention_1.norm_2.bias', tensor([0., 0., 0., 0., 0., 0., 0., 0., 0., 0., 0., 0.])), ('net_Attention_1.attn.q_linear.weight', tensor([[-0.2873,  0.0551, -0.0550, -0.0562,  0.1024,  0.1949,  0.1134, -0.1581,\n",
      "          0.1863, -0.0608,  0.2506, -0.2224],\n",
      "        [ 0.0887,  0.0393,  0.2380,  0.2573, -0.2231,  0.0409,  0.2324, -0.0444,\n",
      "         -0.1567,  0.0562, -0.0638,  0.1158],\n",
      "        [ 0.2435,  0.0486,  0.0236,  0.2572,  0.0325,  0.0007, -0.1484, -0.2510,\n",
      "         -0.2016,  0.2059,  0.1181,  0.1751],\n",
      "        [ 0.1408,  0.1364, -0.2625,  0.1516, -0.1047, -0.2414,  0.2490, -0.1833,\n",
      "         -0.0017,  0.0936,  0.1020,  0.1510],\n",
      "        [-0.2709,  0.2586, -0.1615,  0.0391,  0.1556, -0.0275,  0.1039,  0.0456,\n",
      "          0.0511, -0.0285, -0.0942, -0.1274],\n",
      "        [-0.1932,  0.2466, -0.0841, -0.0612, -0.1844, -0.2532, -0.1262,  0.2345,\n",
      "         -0.0838, -0.1201,  0.1242, -0.1366],\n",
      "        [-0.1682,  0.2344, -0.1539, -0.0169, -0.2071,  0.1509,  0.0696,  0.1469,\n",
      "         -0.1909,  0.0392,  0.0791,  0.2304],\n",
      "        [ 0.2541, -0.0797,  0.1533,  0.1759,  0.0771,  0.0717, -0.2787,  0.0613,\n",
      "         -0.0464, -0.1970,  0.2346,  0.0760],\n",
      "        [-0.2587, -0.0228, -0.2486,  0.0479,  0.1762, -0.1928,  0.1188,  0.1831,\n",
      "         -0.1251,  0.1348,  0.1924,  0.2424],\n",
      "        [-0.1613, -0.0297, -0.0789,  0.0319, -0.0930,  0.1850, -0.2682,  0.2122,\n",
      "         -0.2007,  0.2879, -0.1737,  0.0230],\n",
      "        [ 0.1544,  0.0133, -0.2712,  0.0968, -0.0632, -0.2202,  0.0961, -0.1011,\n",
      "         -0.0481,  0.1134,  0.2010,  0.2863],\n",
      "        [ 0.2252,  0.1413,  0.2793,  0.0069,  0.2567, -0.1052, -0.0302,  0.1635,\n",
      "          0.2086,  0.1938,  0.0896, -0.1131]])), ('net_Attention_1.attn.q_linear.bias', tensor([ 0.2350, -0.0093,  0.0071, -0.0047,  0.0241, -0.2372,  0.1900, -0.0248,\n",
      "         0.2681, -0.0375,  0.1657, -0.2345])), ('net_Attention_1.attn.v_linear.weight', tensor([[ 0.0359,  0.1245,  0.2287, -0.0824, -0.2592,  0.2251,  0.0628, -0.2129,\n",
      "          0.0253,  0.2155, -0.2667,  0.1599],\n",
      "        [ 0.0571,  0.2343,  0.0479, -0.0754,  0.0482, -0.2658, -0.1563,  0.1533,\n",
      "          0.2343,  0.2054, -0.2730, -0.2017],\n",
      "        [-0.2525, -0.1358,  0.1561, -0.0442,  0.2268,  0.0022,  0.0402,  0.0974,\n",
      "          0.0108,  0.0661,  0.0948, -0.0018],\n",
      "        [ 0.0245, -0.1256,  0.0389,  0.2072, -0.2722,  0.0052,  0.0063, -0.1556,\n",
      "          0.0448,  0.2001, -0.0207, -0.1040],\n",
      "        [-0.0073,  0.2097,  0.1263, -0.2566, -0.0762,  0.2545, -0.2159, -0.1887,\n",
      "         -0.2601,  0.0029, -0.1767,  0.0665],\n",
      "        [-0.1055,  0.0507,  0.1070,  0.0253,  0.2459,  0.2054, -0.0824,  0.1085,\n",
      "         -0.1116, -0.2805,  0.2471,  0.2831],\n",
      "        [ 0.0006, -0.0498, -0.2390, -0.0985,  0.2165, -0.1813, -0.0255,  0.0424,\n",
      "          0.0054, -0.0611, -0.0346, -0.1701],\n",
      "        [-0.1832,  0.0866, -0.0262, -0.0931, -0.2570, -0.1575, -0.1642,  0.0633,\n",
      "         -0.2616,  0.1145, -0.0283,  0.2859],\n",
      "        [ 0.1036, -0.2276, -0.0344,  0.2406,  0.2482,  0.2806, -0.1055, -0.1305,\n",
      "         -0.0372, -0.1143, -0.0649,  0.1745],\n",
      "        [ 0.1520,  0.1185, -0.0945,  0.1894,  0.0853, -0.1511, -0.0060, -0.1482,\n",
      "         -0.0876,  0.1513, -0.2056, -0.0471],\n",
      "        [-0.2656,  0.2562,  0.0133,  0.1803, -0.1066, -0.0883, -0.1923, -0.1119,\n",
      "          0.2065,  0.2171,  0.0858,  0.2553],\n",
      "        [-0.2882, -0.0059, -0.1023,  0.1543, -0.2784, -0.0092, -0.0191,  0.0230,\n",
      "         -0.0006,  0.2523, -0.0388,  0.2732]])), ('net_Attention_1.attn.v_linear.bias', tensor([-0.2483,  0.0650, -0.1016, -0.0463,  0.1209, -0.0289, -0.1100, -0.1198,\n",
      "        -0.2157, -0.1634,  0.1793,  0.2136])), ('net_Attention_1.attn.k_linear.weight', tensor([[-0.1899,  0.0579,  0.1301,  0.0393,  0.0941,  0.0877, -0.1689, -0.2218,\n",
      "         -0.2036, -0.2637,  0.1523, -0.2144],\n",
      "        [-0.0376, -0.2875,  0.2683, -0.2558,  0.0133,  0.1299, -0.1813, -0.1778,\n",
      "          0.0929, -0.1690, -0.0505,  0.0741],\n",
      "        [ 0.2466,  0.0306, -0.2509,  0.0190, -0.2594,  0.0690,  0.0819, -0.1735,\n",
      "         -0.0498,  0.0453,  0.1931,  0.2282],\n",
      "        [-0.0328, -0.0206,  0.1605, -0.2341,  0.1223, -0.1124, -0.1081,  0.1698,\n",
      "          0.1105,  0.1356, -0.1988,  0.1421],\n",
      "        [-0.1504,  0.0729,  0.2284,  0.2028,  0.0482,  0.2063,  0.2164,  0.1729,\n",
      "         -0.0774, -0.1326,  0.2266,  0.1049],\n",
      "        [ 0.0357, -0.0525, -0.2576, -0.2431,  0.0816, -0.2255, -0.2025, -0.1568,\n",
      "         -0.2497, -0.2118, -0.2678,  0.1399],\n",
      "        [ 0.1442, -0.2756, -0.2442,  0.0894,  0.1879,  0.1824,  0.0100, -0.0979,\n",
      "          0.1412,  0.0974, -0.2799, -0.2803],\n",
      "        [ 0.1098, -0.2777, -0.0585, -0.1611, -0.2050,  0.2112, -0.0482, -0.1337,\n",
      "         -0.2761,  0.0525,  0.1399, -0.1860],\n",
      "        [ 0.2858,  0.0571, -0.1190,  0.2635,  0.1426,  0.2290, -0.1067, -0.2788,\n",
      "         -0.1959,  0.2739,  0.1522,  0.2055],\n",
      "        [ 0.1325,  0.0534,  0.0593, -0.2394,  0.2337, -0.1502, -0.1742,  0.0605,\n",
      "         -0.2207,  0.2404, -0.2629, -0.1583],\n",
      "        [ 0.1935,  0.1508, -0.2579,  0.0807,  0.2615,  0.1954,  0.1752, -0.0181,\n",
      "          0.0368, -0.1830, -0.0299, -0.0171],\n",
      "        [ 0.1550, -0.1061,  0.0079, -0.0422,  0.1217, -0.2740, -0.1594, -0.1027,\n",
      "         -0.0504, -0.1375, -0.0264,  0.2459]])), ('net_Attention_1.attn.k_linear.bias', tensor([-0.1516, -0.1317, -0.2014,  0.1972, -0.0877,  0.0056, -0.0210, -0.1970,\n",
      "         0.1761, -0.2117, -0.2697,  0.1207])), ('net_Attention_1.attn.out.weight', tensor([[ 0.1068,  0.1057,  0.1523,  0.1387, -0.0908, -0.2188, -0.2256,  0.1979,\n",
      "          0.0614,  0.2750, -0.1451,  0.1262],\n",
      "        [ 0.2587, -0.2241, -0.0556, -0.1411, -0.2093, -0.1085, -0.1674,  0.2408,\n",
      "         -0.0388,  0.2434,  0.1659,  0.2234],\n",
      "        [-0.2763,  0.0168, -0.1524,  0.1720, -0.1547,  0.2634,  0.1263,  0.1410,\n",
      "         -0.2547, -0.2383, -0.2573,  0.2777],\n",
      "        [ 0.0080, -0.1277,  0.1146, -0.0533, -0.2353, -0.1760, -0.1345,  0.1456,\n",
      "          0.0050, -0.2364,  0.1836,  0.0161],\n",
      "        [ 0.1390, -0.1224,  0.0834,  0.1346,  0.2461, -0.2021,  0.2596, -0.0814,\n",
      "         -0.0072,  0.0354, -0.2871,  0.1120],\n",
      "        [ 0.2742,  0.2782,  0.0785,  0.1867,  0.0966, -0.0408, -0.0362,  0.2432,\n",
      "         -0.2122, -0.1451, -0.2862, -0.0124],\n",
      "        [ 0.1507,  0.1835,  0.2617, -0.1237, -0.1791, -0.0406, -0.2723,  0.2284,\n",
      "         -0.0913, -0.0897,  0.2424, -0.1788],\n",
      "        [ 0.1446, -0.0262, -0.1342, -0.1607, -0.2315, -0.1186, -0.1640, -0.1437,\n",
      "          0.0108,  0.0793,  0.2840,  0.1375],\n",
      "        [-0.0525, -0.1658, -0.0645,  0.0449, -0.2454, -0.1845,  0.0139, -0.2673,\n",
      "          0.2741,  0.0680,  0.2420, -0.2669],\n",
      "        [-0.1661, -0.1199,  0.2514,  0.1079,  0.1449,  0.2519, -0.0995,  0.1648,\n",
      "          0.2535, -0.0803, -0.2254, -0.1525],\n",
      "        [-0.1932,  0.1861, -0.1819, -0.0757,  0.2461,  0.2727, -0.0173, -0.0433,\n",
      "         -0.2225,  0.1451, -0.0030, -0.2675],\n",
      "        [ 0.1660,  0.0326, -0.1213,  0.0595, -0.1552, -0.0087,  0.0055, -0.2432,\n",
      "          0.1729, -0.2030,  0.0013,  0.2034]])), ('net_Attention_1.attn.out.bias', tensor([-0.1281, -0.0505, -0.2648,  0.0137, -0.0776, -0.0678, -0.1104,  0.0826,\n",
      "         0.0090,  0.0436,  0.2708,  0.1306])), ('net_Attention_1.ff.linear_1.weight', tensor([[-0.2476, -0.1544,  0.0152,  ...,  0.1057,  0.1340,  0.0511],\n",
      "        [-0.0967, -0.0957, -0.1383,  ..., -0.1673, -0.1228,  0.2765],\n",
      "        [ 0.1806, -0.0817, -0.0306,  ..., -0.2805, -0.0150, -0.2439],\n",
      "        ...,\n",
      "        [-0.2043,  0.1072, -0.0209,  ..., -0.0409, -0.2322,  0.1217],\n",
      "        [ 0.1912, -0.2841,  0.2349,  ..., -0.1975, -0.0745, -0.2343],\n",
      "        [-0.0785,  0.0322,  0.0732,  ...,  0.0773,  0.0823,  0.2877]])), ('net_Attention_1.ff.linear_1.bias', tensor([-0.2111,  0.0016,  0.1672,  ...,  0.2652,  0.1480, -0.1304])), ('net_Attention_1.ff.linear_2.weight', tensor([[-0.0302, -0.0044, -0.0119,  ...,  0.0194,  0.0073,  0.0217],\n",
      "        [ 0.0269, -0.0066, -0.0309,  ...,  0.0267, -0.0141, -0.0083],\n",
      "        [-0.0052, -0.0032,  0.0210,  ..., -0.0197,  0.0223, -0.0175],\n",
      "        ...,\n",
      "        [-0.0039,  0.0081,  0.0102,  ..., -0.0298, -0.0238,  0.0160],\n",
      "        [ 0.0039,  0.0166,  0.0023,  ...,  0.0087, -0.0258, -0.0029],\n",
      "        [ 0.0156, -0.0164, -0.0141,  ...,  0.0057,  0.0048,  0.0121]])), ('net_Attention_1.ff.linear_2.bias', tensor([-0.0278, -0.0253, -0.0032, -0.0075,  0.0054,  0.0182, -0.0110, -0.0169,\n",
      "        -0.0261, -0.0043,  0.0290,  0.0273])), ('net_Classification.linear.weight', tensor([[-7.6096e-03,  1.0876e-02,  9.3185e-03, -1.2138e-02, -1.6186e-02,\n",
      "         -1.8685e-02, -6.9548e-03, -7.1165e-03,  2.4963e-04,  2.5157e-04,\n",
      "         -2.7629e-02, -1.0130e-02],\n",
      "        [ 3.7824e-02, -1.3840e-02, -1.0456e-03,  2.4208e-02,  1.6337e-02,\n",
      "          4.6517e-02, -3.3118e-02,  1.5094e-02, -1.0963e-02, -9.2248e-03,\n",
      "          1.5041e-02,  4.1136e-02],\n",
      "        [ 2.1413e-02, -3.4062e-02, -5.8007e-03,  6.7885e-03, -6.6048e-03,\n",
      "          1.6798e-02,  1.2390e-02, -3.6727e-02,  1.0272e-02,  1.1758e-02,\n",
      "         -1.6300e-02,  9.1766e-03],\n",
      "        [ 1.9706e-02, -1.9175e-02,  2.0084e-02, -1.2427e-02, -3.9230e-03,\n",
      "         -1.1364e-02,  2.8799e-02, -1.5140e-02, -4.4875e-05,  6.7482e-03,\n",
      "         -1.6673e-03, -6.9620e-03]])), ('net_Classification.linear.bias', tensor([-0.5370, -0.1909,  1.1640, -0.9630]))])\n",
      "読み込み後のモデル:\n",
      " OrderedDict([('net_Attention_1.norm_1.weight', tensor([1., 1., 1., 1., 1., 1., 1., 1., 1., 1., 1., 1.])), ('net_Attention_1.norm_1.bias', tensor([0., 0., 0., 0., 0., 0., 0., 0., 0., 0., 0., 0.])), ('net_Attention_1.norm_2.weight', tensor([1., 1., 1., 1., 1., 1., 1., 1., 1., 1., 1., 1.])), ('net_Attention_1.norm_2.bias', tensor([0., 0., 0., 0., 0., 0., 0., 0., 0., 0., 0., 0.])), ('net_Attention_1.attn.q_linear.weight', tensor([[-0.2312,  0.0326,  0.1068, -0.1083,  0.0165, -0.2620,  0.1747,  0.2080,\n",
      "         -0.0451, -0.2157, -0.2640, -0.1922],\n",
      "        [ 0.1259, -0.1414, -0.0265, -0.2292,  0.1177,  0.0899,  0.1226,  0.0657,\n",
      "         -0.1003, -0.2515, -0.1653, -0.2282],\n",
      "        [ 0.2119,  0.2763, -0.1554,  0.0614,  0.2010, -0.1098,  0.0956, -0.1611,\n",
      "         -0.2047,  0.2866,  0.0782,  0.0686],\n",
      "        [-0.2793,  0.1990,  0.1941,  0.1540,  0.0501,  0.1649, -0.0633, -0.1852,\n",
      "         -0.2180, -0.0480, -0.0489, -0.2200],\n",
      "        [-0.2718,  0.1154, -0.2446, -0.0865,  0.2652,  0.1196, -0.0553,  0.1708,\n",
      "         -0.0155,  0.1971,  0.2796,  0.2752],\n",
      "        [ 0.0238,  0.2779, -0.2857,  0.2549, -0.2397, -0.1167,  0.2728, -0.0191,\n",
      "         -0.2700,  0.1241, -0.2683,  0.0205],\n",
      "        [-0.2380,  0.0169,  0.1705, -0.0523,  0.1966,  0.0371, -0.2601, -0.1832,\n",
      "         -0.1836, -0.0079, -0.0170,  0.2752],\n",
      "        [-0.2279, -0.1327,  0.0724, -0.2028,  0.0321,  0.2105,  0.0196,  0.1694,\n",
      "          0.0699,  0.2394, -0.0056, -0.0114],\n",
      "        [-0.0461,  0.1283,  0.0683, -0.2823, -0.2874,  0.0502, -0.2008,  0.0564,\n",
      "         -0.1431,  0.2595, -0.0357,  0.0243],\n",
      "        [ 0.2074, -0.1353,  0.0420, -0.0330, -0.1744, -0.0936,  0.0709, -0.1652,\n",
      "         -0.2697, -0.1124,  0.1192,  0.0720],\n",
      "        [-0.2256,  0.1264, -0.2471,  0.1262,  0.2858, -0.2803,  0.1994,  0.1976,\n",
      "         -0.2337,  0.1144,  0.1505, -0.0266],\n",
      "        [ 0.1457,  0.0662,  0.2721, -0.2346, -0.1220, -0.0638, -0.0598,  0.0027,\n",
      "          0.0052, -0.1927, -0.0475,  0.2801]])), ('net_Attention_1.attn.q_linear.bias', tensor([-0.2420, -0.0289,  0.2306,  0.1767, -0.2879,  0.2395,  0.2402, -0.2230,\n",
      "        -0.0104,  0.2074,  0.2698, -0.0140])), ('net_Attention_1.attn.v_linear.weight', tensor([[ 0.2880, -0.1474,  0.1748, -0.1749, -0.2019, -0.1888, -0.1850, -0.0339,\n",
      "          0.0246, -0.0661,  0.0472, -0.2321],\n",
      "        [ 0.1550,  0.1590, -0.1744, -0.2440,  0.1870,  0.1695, -0.0888, -0.0190,\n",
      "         -0.0802,  0.0287, -0.0633,  0.0398],\n",
      "        [ 0.0469, -0.2347,  0.2854,  0.0664, -0.2853, -0.1055, -0.1935,  0.2885,\n",
      "         -0.1499,  0.0409,  0.0911, -0.1711],\n",
      "        [-0.2088,  0.2877, -0.2045,  0.1951,  0.2873, -0.2424, -0.1679,  0.1564,\n",
      "          0.0919, -0.2384,  0.2437,  0.2663],\n",
      "        [-0.2665,  0.2297,  0.2475,  0.2036, -0.2832,  0.0647,  0.1433,  0.2031,\n",
      "          0.1601, -0.0675,  0.2147,  0.1668],\n",
      "        [-0.1694, -0.1894, -0.1477,  0.0680, -0.1564,  0.2751,  0.0718, -0.1598,\n",
      "         -0.1694, -0.2706,  0.2382, -0.1101],\n",
      "        [ 0.0138, -0.2089,  0.2029, -0.2149, -0.1865, -0.0724,  0.1269,  0.0144,\n",
      "         -0.1088,  0.1546,  0.1756,  0.1041],\n",
      "        [ 0.2858,  0.2794, -0.2570, -0.1507, -0.2798,  0.2799,  0.1068,  0.2758,\n",
      "          0.1238, -0.1972,  0.0873, -0.0715],\n",
      "        [-0.2495,  0.2598,  0.2009, -0.1866, -0.2377,  0.2260,  0.1781, -0.1411,\n",
      "          0.0388, -0.2388,  0.2642,  0.0507],\n",
      "        [-0.0395,  0.2058, -0.2462, -0.0343,  0.2207, -0.1071,  0.0464,  0.2458,\n",
      "          0.0492, -0.2344,  0.2082,  0.1374],\n",
      "        [ 0.0582,  0.0863, -0.2114, -0.2559,  0.1515,  0.2385,  0.2163,  0.0401,\n",
      "         -0.1899, -0.0077, -0.1963,  0.0683],\n",
      "        [ 0.0811,  0.1680,  0.2232, -0.1249, -0.2878,  0.1182,  0.1192,  0.2621,\n",
      "         -0.0650,  0.2655,  0.1333,  0.1094]])), ('net_Attention_1.attn.v_linear.bias', tensor([-0.2591,  0.2168,  0.2567,  0.0978,  0.1823, -0.1837, -0.2604, -0.2696,\n",
      "         0.2823, -0.1067, -0.1765,  0.0737])), ('net_Attention_1.attn.k_linear.weight', tensor([[-0.1363,  0.0903, -0.1196,  0.0413, -0.2285, -0.0594,  0.2598, -0.2613,\n",
      "          0.1634, -0.1185,  0.0440, -0.0543],\n",
      "        [ 0.1116,  0.2683, -0.0742, -0.0937,  0.0614, -0.2678, -0.1850,  0.1734,\n",
      "         -0.0691, -0.0273, -0.1638, -0.1949],\n",
      "        [-0.0730,  0.1016, -0.2345,  0.2206, -0.0791,  0.1139,  0.0932,  0.0497,\n",
      "         -0.2142,  0.2485, -0.0391,  0.2783],\n",
      "        [ 0.0645, -0.0641,  0.0756, -0.0810,  0.0019,  0.1788,  0.2390,  0.0084,\n",
      "         -0.0169,  0.2345,  0.0349, -0.2826],\n",
      "        [-0.0231, -0.2200, -0.2085, -0.0460, -0.1915, -0.2030, -0.1108, -0.2488,\n",
      "          0.0418,  0.2762, -0.2359,  0.1657],\n",
      "        [-0.1838, -0.1959, -0.2291, -0.1719, -0.0857,  0.1791, -0.2394,  0.0642,\n",
      "          0.2667,  0.0459,  0.1485, -0.0676],\n",
      "        [-0.1844,  0.2149, -0.2224, -0.2251,  0.1692,  0.1089, -0.2375,  0.1856,\n",
      "          0.1552,  0.0262,  0.1297, -0.1793],\n",
      "        [ 0.0531,  0.1678, -0.1162,  0.0849, -0.0494,  0.0269,  0.0945,  0.1740,\n",
      "         -0.0727, -0.0588, -0.0833, -0.0160],\n",
      "        [-0.1577,  0.1886,  0.0529, -0.0606,  0.0882,  0.2847,  0.1507,  0.1670,\n",
      "         -0.1779,  0.0855, -0.1913, -0.2398],\n",
      "        [-0.2581,  0.0183,  0.0162,  0.0386,  0.1400,  0.0673, -0.0770, -0.0900,\n",
      "         -0.0388, -0.2821, -0.1484,  0.1882],\n",
      "        [-0.1004,  0.0063, -0.2763,  0.1677, -0.1741,  0.2568, -0.1594,  0.2409,\n",
      "          0.0128, -0.1327, -0.1435,  0.0166],\n",
      "        [-0.0845, -0.1321,  0.2159, -0.0447,  0.0882,  0.1572,  0.1999, -0.1459,\n",
      "         -0.0969,  0.0633, -0.0944, -0.1344]])), ('net_Attention_1.attn.k_linear.bias', tensor([ 0.0482,  0.0662,  0.1503, -0.0435, -0.1792, -0.1005,  0.1407, -0.0885,\n",
      "        -0.1269,  0.0237,  0.2798, -0.0869])), ('net_Attention_1.attn.out.weight', tensor([[-0.2589, -0.2318,  0.2096,  0.1290, -0.0893, -0.1817,  0.1718,  0.1318,\n",
      "          0.0746, -0.0468, -0.0891, -0.2669],\n",
      "        [ 0.0670,  0.0879,  0.2437, -0.0706,  0.1269,  0.0405,  0.2138,  0.0440,\n",
      "         -0.2500, -0.1761, -0.0284,  0.1459],\n",
      "        [-0.0296, -0.2746,  0.1982, -0.0642, -0.0483,  0.1492, -0.2662, -0.1002,\n",
      "          0.0651, -0.0298, -0.1817,  0.0586],\n",
      "        [ 0.2879,  0.2508,  0.0806,  0.0526,  0.0575,  0.1152, -0.0150,  0.0938,\n",
      "          0.0818,  0.0533,  0.0252, -0.2550],\n",
      "        [-0.2490, -0.2552, -0.2635, -0.0509,  0.0034,  0.1945, -0.1385, -0.0018,\n",
      "          0.2841, -0.1368, -0.0856, -0.2460],\n",
      "        [-0.0928, -0.0147,  0.1136,  0.1779,  0.2208,  0.2279, -0.2017, -0.1450,\n",
      "         -0.2078, -0.0320, -0.2772, -0.2087],\n",
      "        [ 0.0836,  0.2839,  0.0291, -0.2430, -0.0260, -0.1513, -0.0543,  0.1422,\n",
      "          0.2798,  0.0214,  0.1948,  0.2199],\n",
      "        [-0.2478,  0.1627, -0.0848,  0.0986, -0.1835, -0.0357, -0.2666, -0.2377,\n",
      "          0.0891, -0.1891,  0.1985, -0.0216],\n",
      "        [-0.2877, -0.2022,  0.2630, -0.2743,  0.1968,  0.1502,  0.0516,  0.2172,\n",
      "         -0.1074,  0.1723,  0.2343,  0.2377],\n",
      "        [ 0.0527,  0.2364,  0.0900,  0.0198, -0.0682,  0.1854, -0.0677, -0.0512,\n",
      "          0.2232,  0.0395,  0.0286,  0.0042],\n",
      "        [-0.1658,  0.1870, -0.2291,  0.1223,  0.2866,  0.0810,  0.0168, -0.0114,\n",
      "          0.2037, -0.1142,  0.2244,  0.1345],\n",
      "        [-0.1239, -0.2109,  0.1529,  0.2654,  0.1657, -0.0222, -0.1878, -0.2212,\n",
      "          0.0660, -0.0570, -0.2778, -0.1055]])), ('net_Attention_1.attn.out.bias', tensor([ 0.2568,  0.2571, -0.0287,  0.0992, -0.1526, -0.1318,  0.1983,  0.1705,\n",
      "        -0.1788, -0.0074, -0.0027,  0.1381])), ('net_Attention_1.ff.linear_1.weight', tensor([[-0.0265,  0.1187,  0.1172,  ...,  0.0318, -0.2626,  0.0679],\n",
      "        [ 0.2668,  0.0802, -0.2495,  ..., -0.1534, -0.2127,  0.1436],\n",
      "        [ 0.0892,  0.1924, -0.1805,  ..., -0.2117,  0.2032,  0.0479],\n",
      "        ...,\n",
      "        [ 0.1403, -0.1802, -0.1241,  ..., -0.2733,  0.1567,  0.1542],\n",
      "        [-0.2076,  0.0886,  0.1020,  ...,  0.0953, -0.2873,  0.0129],\n",
      "        [ 0.0684,  0.2874,  0.2248,  ..., -0.0696, -0.2565,  0.0930]])), ('net_Attention_1.ff.linear_1.bias', tensor([ 0.1014,  0.0881, -0.2802,  ...,  0.2589, -0.1907, -0.2518])), ('net_Attention_1.ff.linear_2.weight', tensor([[ 0.0261,  0.0036, -0.0198,  ..., -0.0094,  0.0024,  0.0148],\n",
      "        [-0.0230, -0.0207,  0.0004,  ..., -0.0092,  0.0184, -0.0150],\n",
      "        [ 0.0152,  0.0185, -0.0053,  ..., -0.0299, -0.0232,  0.0287],\n",
      "        ...,\n",
      "        [-0.0032,  0.0248,  0.0073,  ..., -0.0257, -0.0092,  0.0040],\n",
      "        [ 0.0244, -0.0252, -0.0287,  ...,  0.0252, -0.0150,  0.0102],\n",
      "        [ 0.0020, -0.0151, -0.0173,  ...,  0.0118, -0.0214,  0.0238]])), ('net_Attention_1.ff.linear_2.bias', tensor([ 0.0281,  0.0051,  0.0289, -0.0185, -0.0229,  0.0153, -0.0044, -0.0272,\n",
      "         0.0231, -0.0167,  0.0002,  0.0287])), ('net_Classification.linear.weight', tensor([[-0.0046,  0.0010,  0.0263, -0.0059, -0.0178,  0.0235, -0.0267, -0.0014,\n",
      "          0.0287, -0.0543, -0.0024,  0.0477],\n",
      "        [-0.0167, -0.0227, -0.0282,  0.0141,  0.0213, -0.0145,  0.0052, -0.0134,\n",
      "          0.0388,  0.0125, -0.0277,  0.0119],\n",
      "        [-0.0140,  0.0257, -0.0071, -0.0416, -0.0016,  0.0079, -0.0005,  0.0010,\n",
      "         -0.0071, -0.0320, -0.0331,  0.0192],\n",
      "        [-0.0055, -0.0022,  0.0017,  0.0129,  0.0031, -0.0148, -0.0024, -0.0174,\n",
      "         -0.0509,  0.0157,  0.0173, -0.0057]])), ('net_Classification.linear.bias', tensor([ 0.6762, -0.2853,  0.1913, -0.3385]))])\n"
     ]
    }
   ],
   "source": [
    "torch.save(net_trained.state_dict(), 'highacc3.pth')\n",
    "\n",
    "# 新しいモデル\n",
    "model2 = TransformerClassification().to(device)\n",
    "print('新しいモデル:\\n', model2.state_dict())\n",
    "\n",
    "# 保存したモデルパラメータの読み込み\n",
    "model2.load_state_dict(torch.load('highacc3.pth'))\n",
    "print('読み込み後のモデル:\\n', model2.state_dict())"
   ]
  },
  {
   "cell_type": "markdown",
   "metadata": {},
   "source": [
    "# attention weight の保存"
   ]
  },
  {
   "cell_type": "code",
   "execution_count": 199,
   "metadata": {},
   "outputs": [
    {
     "name": "stdout",
     "output_type": "stream",
     "text": [
      "[[9.1475109e-03 7.9076161e-04 1.1241444e-04 ... 7.3577516e-04\n",
      "  1.6356227e-03 2.3845038e-03]\n",
      " [1.7054584e-02 1.4742925e-03 3.1663007e-03 ... 1.3760179e-01\n",
      "  2.2432948e-02 9.9306169e-05]\n",
      " [9.6427789e-03 8.3357497e-04 5.1730261e-03 ... 6.1688267e-02\n",
      "  2.9500870e-02 1.7821139e-03]\n",
      " ...\n",
      " [5.5690920e-03 4.8142322e-04 1.5661678e-03 ... 2.2814317e-02\n",
      "  1.7156851e-02 1.2683076e-01]\n",
      " [1.1267231e-02 9.7400171e-04 1.5244161e-04 ... 8.7120933e-03\n",
      "  1.0250749e-03 3.6083476e-04]\n",
      " [4.1496069e-03 3.5871507e-04 2.4111774e-05 ... 1.0362731e-02\n",
      "  1.1976349e-02 1.0595954e-02]]\n",
      "[0.00914751 0.00079076 0.00011241 ... 0.01036273 0.01197635 0.01059595]\n"
     ]
    }
   ],
   "source": [
    "data.shape\n",
    "print(data)\n",
    "print(data.reshape(-1))"
   ]
  },
  {
   "cell_type": "code",
   "execution_count": 200,
   "metadata": {
    "tags": []
   },
   "outputs": [],
   "source": [
    "# 同時に入れるデータも作成する\n",
    "# これは時系列スタンプ．0〜100がサンプル数だけ作られる\n",
    "stamp_row = [i%data.shape[1] for i in range(data.shape[0] * data.shape[1])]\n",
    "\n",
    "# いつ撮影されたのかのスタンプ\n",
    "l_date_name = np.array(df_annotate['date'].unique())\n",
    "date_row = []\n",
    "for item in l_date_name:\n",
    "    for i in range(data.shape[1]):\n",
    "        date_row.append(item)\n",
    "        \n",
    "# アテンションウエイト\n",
    "attn_weight = data.reshape(-1)"
   ]
  },
  {
   "cell_type": "code",
   "execution_count": 201,
   "metadata": {},
   "outputs": [],
   "source": [
    "df_attn = pd.DataFrame()\n",
    "df_attn['date'] = date_row\n",
    "df_attn[\"stamp\"] = stamp_row\n",
    "df_attn[\"attn_weight\"] = attn_weight"
   ]
  },
  {
   "cell_type": "code",
   "execution_count": 202,
   "metadata": {},
   "outputs": [],
   "source": [
    "df_attn.to_excel('/Users/kento/kuhp/experiment/attention_weights.xlsx')"
   ]
  },
  {
   "cell_type": "code",
   "execution_count": 203,
   "metadata": {},
   "outputs": [
    {
     "data": {
      "text/plain": [
       "pandas._libs.tslibs.timestamps.Timestamp"
      ]
     },
     "execution_count": 203,
     "metadata": {},
     "output_type": "execute_result"
    }
   ],
   "source": [
    "type(df_attn['date'][0])"
   ]
  },
  {
   "cell_type": "code",
   "execution_count": null,
   "metadata": {},
   "outputs": [],
   "source": []
  }
 ],
 "metadata": {
  "accelerator": "GPU",
  "colab": {
   "collapsed_sections": [],
   "name": "timeseries_transformer_classification.ipynb",
   "provenance": [
    {
     "file_id": "https://github.com/keras-team/keras-io/blob/master/examples/timeseries/ipynb/timeseries_classification_transformer.ipynb",
     "timestamp": 1636355482830
    }
   ]
  },
  "kernelspec": {
   "display_name": "Python 3 (ipykernel)",
   "language": "python",
   "name": "python3"
  },
  "language_info": {
   "codemirror_mode": {
    "name": "ipython",
    "version": 3
   },
   "file_extension": ".py",
   "mimetype": "text/x-python",
   "name": "python",
   "nbconvert_exporter": "python",
   "pygments_lexer": "ipython3",
   "version": "3.8.12"
  }
 },
 "nbformat": 4,
 "nbformat_minor": 4
}
